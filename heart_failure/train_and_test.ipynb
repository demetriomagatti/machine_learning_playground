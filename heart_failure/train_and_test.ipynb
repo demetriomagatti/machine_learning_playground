{
 "cells": [
  {
   "cell_type": "code",
   "execution_count": 1,
   "id": "0ad15165",
   "metadata": {},
   "outputs": [
    {
     "data": {
      "application/javascript": [
       "require([\"codemirror/keymap/sublime\", \"notebook/js/cell\", \"base/js/namespace\"],\n",
       "    function(sublime_keymap, cell, IPython){\n",
       "        cell.Cell.options_default.cm_config.keyMap = 'sublime';\n",
       "        var cells = IPython.notebook.get_cells();\n",
       "        for(var cl=0; cl< cells.length ; cl++){\n",
       "            cells[cl].code_mirror.setOption('keyMap', 'sublime');\n",
       "        }\n",
       "    }\n",
       ");\n"
      ],
      "text/plain": [
       "<IPython.core.display.Javascript object>"
      ]
     },
     "metadata": {},
     "output_type": "display_data"
    }
   ],
   "source": [
    "%%javascript\n",
    "require([\"codemirror/keymap/sublime\", \"notebook/js/cell\", \"base/js/namespace\"],\n",
    "    function(sublime_keymap, cell, IPython){\n",
    "        cell.Cell.options_default.cm_config.keyMap = 'sublime';\n",
    "        var cells = IPython.notebook.get_cells();\n",
    "        for(var cl=0; cl< cells.length ; cl++){\n",
    "            cells[cl].code_mirror.setOption('keyMap', 'sublime');\n",
    "        }\n",
    "    }\n",
    ");"
   ]
  },
  {
   "cell_type": "code",
   "execution_count": 2,
   "id": "a7fcc290",
   "metadata": {},
   "outputs": [],
   "source": [
    "import numpy as np\n",
    "import pandas as pd\n",
    "import glob\n",
    "import itertools\n",
    "from openpyxl import load_workbook\n",
    "from tqdm.auto import tqdm\n",
    "import models as md\n",
    "import log_results as lr\n",
    "import matplotlib.pyplot as plt\n",
    "%matplotlib inline"
   ]
  },
  {
   "cell_type": "markdown",
   "id": "af062658",
   "metadata": {},
   "source": [
    "### Exploration"
   ]
  },
  {
   "cell_type": "code",
   "execution_count": 3,
   "id": "7adc8aee",
   "metadata": {},
   "outputs": [
    {
     "data": {
      "text/html": [
       "<div>\n",
       "<style scoped>\n",
       "    .dataframe tbody tr th:only-of-type {\n",
       "        vertical-align: middle;\n",
       "    }\n",
       "\n",
       "    .dataframe tbody tr th {\n",
       "        vertical-align: top;\n",
       "    }\n",
       "\n",
       "    .dataframe thead th {\n",
       "        text-align: right;\n",
       "    }\n",
       "</style>\n",
       "<table border=\"1\" class=\"dataframe\">\n",
       "  <thead>\n",
       "    <tr style=\"text-align: right;\">\n",
       "      <th></th>\n",
       "      <th>age</th>\n",
       "      <th>anaemia</th>\n",
       "      <th>creatinine_phosphokinase</th>\n",
       "      <th>diabetes</th>\n",
       "      <th>ejection_fraction</th>\n",
       "      <th>high_blood_pressure</th>\n",
       "      <th>platelets</th>\n",
       "      <th>serum_creatinine</th>\n",
       "      <th>serum_sodium</th>\n",
       "      <th>sex</th>\n",
       "      <th>smoking</th>\n",
       "      <th>time</th>\n",
       "      <th>DEATH_EVENT</th>\n",
       "    </tr>\n",
       "  </thead>\n",
       "  <tbody>\n",
       "    <tr>\n",
       "      <th>0</th>\n",
       "      <td>75.0</td>\n",
       "      <td>0</td>\n",
       "      <td>582</td>\n",
       "      <td>0</td>\n",
       "      <td>20</td>\n",
       "      <td>1</td>\n",
       "      <td>265000.00</td>\n",
       "      <td>1.9</td>\n",
       "      <td>130</td>\n",
       "      <td>1</td>\n",
       "      <td>0</td>\n",
       "      <td>4</td>\n",
       "      <td>1</td>\n",
       "    </tr>\n",
       "    <tr>\n",
       "      <th>1</th>\n",
       "      <td>55.0</td>\n",
       "      <td>0</td>\n",
       "      <td>7861</td>\n",
       "      <td>0</td>\n",
       "      <td>38</td>\n",
       "      <td>0</td>\n",
       "      <td>263358.03</td>\n",
       "      <td>1.1</td>\n",
       "      <td>136</td>\n",
       "      <td>1</td>\n",
       "      <td>0</td>\n",
       "      <td>6</td>\n",
       "      <td>1</td>\n",
       "    </tr>\n",
       "    <tr>\n",
       "      <th>2</th>\n",
       "      <td>65.0</td>\n",
       "      <td>0</td>\n",
       "      <td>146</td>\n",
       "      <td>0</td>\n",
       "      <td>20</td>\n",
       "      <td>0</td>\n",
       "      <td>162000.00</td>\n",
       "      <td>1.3</td>\n",
       "      <td>129</td>\n",
       "      <td>1</td>\n",
       "      <td>1</td>\n",
       "      <td>7</td>\n",
       "      <td>1</td>\n",
       "    </tr>\n",
       "    <tr>\n",
       "      <th>3</th>\n",
       "      <td>50.0</td>\n",
       "      <td>1</td>\n",
       "      <td>111</td>\n",
       "      <td>0</td>\n",
       "      <td>20</td>\n",
       "      <td>0</td>\n",
       "      <td>210000.00</td>\n",
       "      <td>1.9</td>\n",
       "      <td>137</td>\n",
       "      <td>1</td>\n",
       "      <td>0</td>\n",
       "      <td>7</td>\n",
       "      <td>1</td>\n",
       "    </tr>\n",
       "    <tr>\n",
       "      <th>4</th>\n",
       "      <td>65.0</td>\n",
       "      <td>1</td>\n",
       "      <td>160</td>\n",
       "      <td>1</td>\n",
       "      <td>20</td>\n",
       "      <td>0</td>\n",
       "      <td>327000.00</td>\n",
       "      <td>2.7</td>\n",
       "      <td>116</td>\n",
       "      <td>0</td>\n",
       "      <td>0</td>\n",
       "      <td>8</td>\n",
       "      <td>1</td>\n",
       "    </tr>\n",
       "  </tbody>\n",
       "</table>\n",
       "</div>"
      ],
      "text/plain": [
       "    age  anaemia  creatinine_phosphokinase  diabetes  ejection_fraction  \\\n",
       "0  75.0        0                       582         0                 20   \n",
       "1  55.0        0                      7861         0                 38   \n",
       "2  65.0        0                       146         0                 20   \n",
       "3  50.0        1                       111         0                 20   \n",
       "4  65.0        1                       160         1                 20   \n",
       "\n",
       "   high_blood_pressure  platelets  serum_creatinine  serum_sodium  sex  \\\n",
       "0                    1  265000.00               1.9           130    1   \n",
       "1                    0  263358.03               1.1           136    1   \n",
       "2                    0  162000.00               1.3           129    1   \n",
       "3                    0  210000.00               1.9           137    1   \n",
       "4                    0  327000.00               2.7           116    0   \n",
       "\n",
       "   smoking  time  DEATH_EVENT  \n",
       "0        0     4            1  \n",
       "1        0     6            1  \n",
       "2        1     7            1  \n",
       "3        0     7            1  \n",
       "4        0     8            1  "
      ]
     },
     "execution_count": 3,
     "metadata": {},
     "output_type": "execute_result"
    }
   ],
   "source": [
    "data = pd.read_csv('heart_failure_clinical_records_dataset.csv')\n",
    "data.head()"
   ]
  },
  {
   "cell_type": "code",
   "execution_count": 4,
   "id": "a63ddc49",
   "metadata": {},
   "outputs": [
    {
     "data": {
      "text/plain": [
       "array([299])"
      ]
     },
     "execution_count": 4,
     "metadata": {},
     "output_type": "execute_result"
    }
   ],
   "source": [
    "# data exploration - looking for empty values\n",
    "data.count().unique()"
   ]
  },
  {
   "cell_type": "markdown",
   "id": "8c2743be",
   "metadata": {},
   "source": [
    "### Simple model example"
   ]
  },
  {
   "cell_type": "code",
   "execution_count": 5,
   "id": "f9cf5421",
   "metadata": {},
   "outputs": [],
   "source": [
    "TT = md.TreeTester(data=data,target='DEATH_EVENT')\n",
    "TT.evaluate()"
   ]
  },
  {
   "cell_type": "code",
   "execution_count": 6,
   "id": "6b20ae63",
   "metadata": {},
   "outputs": [
    {
     "data": {
      "image/png": "[encoded data removed]",
      "text/plain": [
       "<Figure size 432x288 with 1 Axes>"
      ]
     },
     "metadata": {
      "needs_background": "light"
     },
     "output_type": "display_data"
    }
   ],
   "source": [
    "TT.plot_results()"
   ]
  },
  {
   "cell_type": "markdown",
   "id": "0724382d",
   "metadata": {},
   "source": [
    "### Running and saving"
   ]
  },
  {
   "cell_type": "markdown",
   "id": "7e934fa4",
   "metadata": {},
   "source": [
    "#### Example: first test config - all features - no oversample - no autotrain"
   ]
  },
  {
   "cell_type": "code",
   "execution_count": 7,
   "id": "7f403284",
   "metadata": {},
   "outputs": [],
   "source": [
    "# Look for already existing results dataframes, define \"this test number\" as \"last test number + 1\"\n",
    "test_df_list = glob.glob(\"results/df/*.pkl\")\n",
    "try:\n",
    "    test_no = max([int(elem.replace(\"results/df/\",\"\").replace(\".pkl\",\"\").replace(\"df\",\"\")) for elem in test_df_list])+1\n",
    "except:\n",
    "    test_no = 0\n",
    "    \n",
    "# Test details\n",
    "features = list(data.drop(['time','DEATH_EVENT'],axis=1).columns)\n",
    "auto_train = False\n",
    "added_features = 0\n",
    "oversample = False\n",
    "df_name = f'df{test_no}'\n",
    "\n",
    "# Checking for pre existing resutlts\n",
    "query = {\n",
    "    'auto_train': auto_train,\n",
    "    'added_features': added_features,\n",
    "    'features': f\"{features}\",\n",
    "    'oversample': oversample\n",
    "}\n",
    "results_logger = lr.Logger(oversample=oversample,features=features,auto_train=auto_train,\n",
    "                           added_features=added_features,query=query)\n",
    "if len(results_logger.find_row()):\n",
    "    pass\n",
    "else:\n",
    "    # Running model and saving results\n",
    "    TT = md.TreeTester(data=data.drop(['time'],axis=1),target='DEATH_EVENT',oversample=oversample,\n",
    "                       auto_train=auto_train,added_features=added_features)\n",
    "    TT.evaluate()\n",
    "    TT.evaluators.to_pickle(f'results/df/{df_name}.pkl')\n",
    "\n",
    "    # Updating test log file\n",
    "    results_logger = lr.Logger(oversample=oversample,features=features,df_name=df_name,\n",
    "                               auto_train=auto_train,added_features=added_features,\n",
    "                               df_results=TT.evaluators)\n",
    "    results_logger.update_log()"
   ]
  },
  {
   "cell_type": "markdown",
   "id": "7326bdd1",
   "metadata": {},
   "source": [
    "#### Adding more and more and more configurations"
   ]
  },
  {
   "cell_type": "code",
   "execution_count": null,
   "id": "42d3ea60",
   "metadata": {},
   "outputs": [
    {
     "data": {
      "application/vnd.jupyter.widget-view+json": {
       "model_id": "2502933b48d943799128185dc9be4ffa",
       "version_major": 2,
       "version_minor": 0
      },
      "text/plain": [
       "  0%|          | 0/165 [00:00<?, ?it/s]"
      ]
     },
     "metadata": {},
     "output_type": "display_data"
    }
   ],
   "source": [
    "# Test details\n",
    "auto_train = True\n",
    "added_features = 1\n",
    "oversample = True\n",
    "\n",
    "for item in tqdm(list(itertools.combinations(data.drop(['time','DEATH_EVENT'],axis=1).columns,3))):\n",
    "    # Check if pre-existing results can be found\n",
    "    query = {\n",
    "        'auto_train': auto_train,\n",
    "        'added_features': added_features,\n",
    "        'features': f\"{list(item)}\",\n",
    "        'oversample': oversample\n",
    "    }\n",
    "    results_logger = lr.Logger(oversample=oversample,features=list(item),auto_train=auto_train,\n",
    "                               added_features=added_features,query=query)\n",
    "    if len(results_logger.find_row()):\n",
    "        pass\n",
    "    else:\n",
    "        # Look for already existing results dataframes, define \"this test number\" as \"last test number + 1\"\n",
    "        test_df_list = glob.glob(\"results/df/*.pkl\")\n",
    "        try:\n",
    "            test_no = max([int(elem.replace(\"results/df/\",\"\").replace(\".pkl\",\"\").replace(\"df\",\"\")) for elem in test_df_list])+1\n",
    "        except:\n",
    "            test_no = 0\n",
    "        df_name = f'df{test_no}'\n",
    "\n",
    "        # Running model and saving results\n",
    "        TT = md.TreeTester(data=data,features=list(item),target='DEATH_EVENT',oversample=oversample,\n",
    "                           auto_train=auto_train,added_features=added_features)\n",
    "        TT.evaluate()\n",
    "        TT.evaluators.to_pickle(f'results/df/{df_name}.pkl')\n",
    "\n",
    "        # Updating test log file\n",
    "        results_logger = lr.Logger(oversample=oversample,features=list(item),df_name=df_name,\n",
    "                                   auto_train=auto_train,added_features=added_features,\n",
    "                                   df_results=TT.evaluators)\n",
    "        results_logger.update_log()"
   ]
  },
  {
   "cell_type": "markdown",
   "id": "25c01a09",
   "metadata": {},
   "source": [
    "#### Results dataframe"
   ]
  },
  {
   "cell_type": "code",
   "execution_count": null,
   "id": "97023472",
   "metadata": {},
   "outputs": [],
   "source": [
    "test_log = pd.read_excel('results/df/test_log.xlsx').drop(['Unnamed: 0'],axis=1)\n",
    "test_log.round(3)"
   ]
  },
  {
   "cell_type": "code",
   "execution_count": null,
   "id": "5fe698f0",
   "metadata": {},
   "outputs": [],
   "source": []
  },
  {
   "cell_type": "code",
   "execution_count": null,
   "id": "669c70c9",
   "metadata": {},
   "outputs": [],
   "source": []
  },
  {
   "cell_type": "code",
   "execution_count": null,
   "id": "2cc427c2",
   "metadata": {},
   "outputs": [],
   "source": []
  },
  {
   "cell_type": "code",
   "execution_count": null,
   "id": "9b3b4887",
   "metadata": {},
   "outputs": [],
   "source": []
  },
  {
   "cell_type": "code",
   "execution_count": null,
   "id": "40f0340d",
   "metadata": {},
   "outputs": [],
   "source": []
  },
  {
   "cell_type": "code",
   "execution_count": null,
   "id": "4ea5e917",
   "metadata": {},
   "outputs": [],
   "source": []
  },
  {
   "cell_type": "code",
   "execution_count": null,
   "id": "58ae86b6",
   "metadata": {},
   "outputs": [],
   "source": [
    "import numpy as np\n",
    "import pandas as pd\n",
    "import matplotlib.pyplot as plt\n",
    "import seaborn as sns\n",
    "from tqdm.auto import tqdm\n",
    "from sklearn import tree\n",
    "from sklearn.model_selection import train_test_split\n",
    "from sklearn import metrics\n",
    "from sklearn.metrics import confusion_matrix\n",
    "from imblearn.over_sampling import SMOTE\n",
    "\n",
    "\n",
    "class TreeTester():\n",
    "    '''\n",
    "    Object for train and test of a decision tree model.\n",
    "    \n",
    "    Arguments:\n",
    "        features (list of strings): list of features to use as predictors (['feature0','feature1',...,]);\n",
    "        train_size (float): fraction of dataset to use for train purposes;\n",
    "        robustness_iteration (int): number of different train and test routines to do with a fixed configuration;\n",
    "        auto_train (bool): boolean flag; allows to use the model predictions as added features;\n",
    "        added_features (int): number of prediction routines to use ad added features;\n",
    "        oversample (bool): activate/deactive oversampling with SMOTE technique;\n",
    "        data (pandas DataFrame): original dataset\n",
    "        target (string): target column.\n",
    "    '''\n",
    "    def __init__(self,*args,**kwargs):\n",
    "        # Set default parameters\n",
    "        self.features = None\n",
    "        self.train_size = 0.66\n",
    "        self.robustness_iterations = 100\n",
    "        self.auto_train = False\n",
    "        self.added_features = 0\n",
    "        self.oversample = False\n",
    "        self.data = pd.DataFrame()\n",
    "        self.X_train = pd.DataFrame() \n",
    "        self.X_test = pd.DataFrame() \n",
    "        self.y_train = pd.DataFrame() \n",
    "        self.y_test = pd.DataFrame() \n",
    "        self.y_pred = pd.DataFrame() \n",
    "        self.target = ''\n",
    "        self.classifier = tree.DecisionTreeClassifier()\n",
    "        # Update with provided parameters\n",
    "        self.__dict__.update(kwargs)\n",
    "        # Actual initialization\n",
    "        self.original_rows = len(self.data)\n",
    "        self.X = self.data.drop([self.target],axis=1)\n",
    "        self.y = self.data[self.target]\n",
    "        self.evaluators = {}\n",
    "        \n",
    "        \n",
    "    def train(self):\n",
    "        '''\n",
    "        Single train and test of the model.\n",
    "        '''\n",
    "        # oversampling, if needed\n",
    "        X = self.X\n",
    "        y = self.y\n",
    "        if self.oversample:\n",
    "            oversample = SMOTE()\n",
    "            X,y = oversample.fit_resample(X,y)\n",
    "        # feature selection\n",
    "        if self.features:\n",
    "            X_train, X_test, y_train, y_test = train_test_split(X[self.features], y, train_size=self.train_size,\n",
    "                                                                test_size=1-self.train_size)\n",
    "        else:\n",
    "            X_train, X_test, y_train, y_test = train_test_split(X, y, train_size=self.train_size,\n",
    "                                                                test_size=1-self.train_size)\n",
    "        # using model's guess as a feature\n",
    "        if self.auto_train:\n",
    "            for j in range(self.added_features):\n",
    "                self.classifier.fit(X_train, y_train)\n",
    "                X_train[f'pred_{j}'] = self.classifier.predict(X_train)\n",
    "                X_test[f'pred_{j}'] = self.classifier.predict(X_test)\n",
    "        self.classifier.fit(X_train, y_train)\n",
    "        self.X_train = X_train\n",
    "        self.X_test = X_test\n",
    "        self.y_train = y_train\n",
    "        self.y_test = y_test\n",
    "        \n",
    "        \n",
    "    def evaluate(self):\n",
    "        '''\n",
    "        Constructs evaluators to rate model's performance.\n",
    "        '''\n",
    "        accuracy = []\n",
    "        recall = []\n",
    "        selectivity = []\n",
    "        precision = []\n",
    "        F1_measure = []\n",
    "        NPV = []\n",
    "        FNR = []\n",
    "        for i in range(self.robustness_iterations):\n",
    "            self.train()\n",
    "            results = self.y_test.to_frame().rename(columns={self.target: \"true_value\"})\n",
    "            self.y_pred = self.classifier.predict(self.X_test)\n",
    "            results['predicted'] = self.y_pred\n",
    "            cm = confusion_matrix(results.query('index<@self.original_rows').true_value,results.query('index<@self.original_rows').predicted)\n",
    "            TP = cm[0][0]\n",
    "            FP = cm[0][1]\n",
    "            FN = cm[1][0]\n",
    "            TN = cm[1][1]\n",
    "            accuracy.append((TP+TN)/(TP+TN+FP+FN))\n",
    "            recall.append(TP/(TP+FN))\n",
    "            selectivity.append(TN/(TN+FP))\n",
    "            precision.append(TP/(TP+FP))\n",
    "            NPV.append(TN/(TN+FN))\n",
    "            FNR.append(FN/(FN+TP))\n",
    "            F1_measure.append(2*precision[-1]*recall[-1]/(precision[-1]+recall[-1]))\n",
    "        self.evaluators['accuracy'] = accuracy\n",
    "        self.evaluators['recall'] = recall\n",
    "        self.evaluators['selectivity'] = selectivity\n",
    "        self.evaluators['precision'] = precision\n",
    "        self.evaluators['NPV'] = NPV\n",
    "        self.evaluators['FNR'] = FNR\n",
    "        self.evaluators['F1_measure'] = F1_measure\n",
    "        self.evaluators = pd.DataFrame.from_dict(self.evaluators)\n",
    "        \n",
    "    \n",
    "    def plot_results(self):\n",
    "        '''\n",
    "        Simple box-and-whiskers plot.\n",
    "        '''\n",
    "        fig,ax = plt.subplots()\n",
    "        sns.boxplot(x=\"variable\", y=\"value\", data=pd.melt(self.evaluators))\n",
    "        return"
   ]
  },
  {
   "cell_type": "code",
   "execution_count": null,
   "id": "4a6af67f",
   "metadata": {},
   "outputs": [],
   "source": []
  },
  {
   "cell_type": "code",
   "execution_count": null,
   "id": "042142ab",
   "metadata": {},
   "outputs": [],
   "source": []
  },
  {
   "cell_type": "code",
   "execution_count": null,
   "id": "4d2dcc90",
   "metadata": {},
   "outputs": [],
   "source": []
  }
 ],
 "metadata": {
  "kernelspec": {
   "display_name": "Python 3",
   "language": "python",
   "name": "python3"
  },
  "language_info": {
   "codemirror_mode": {
    "name": "ipython",
    "version": 3
   },
   "file_extension": ".py",
   "mimetype": "text/x-python",
   "name": "python",
   "nbconvert_exporter": "python",
   "pygments_lexer": "ipython3",
   "version": "3.8.8"
  }
 },
 "nbformat": 4,
 "nbformat_minor": 5
}
