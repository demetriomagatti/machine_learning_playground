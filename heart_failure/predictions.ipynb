{
 "cells": [
  {
   "cell_type": "code",
   "execution_count": 1,
   "id": "0ad15165",
   "metadata": {},
   "outputs": [
    {
     "data": {
      "application/javascript": [
       "require([\"codemirror/keymap/sublime\", \"notebook/js/cell\", \"base/js/namespace\"],\n",
       "    function(sublime_keymap, cell, IPython){\n",
       "        cell.Cell.options_default.cm_config.keyMap = 'sublime';\n",
       "        var cells = IPython.notebook.get_cells();\n",
       "        for(var cl=0; cl< cells.length ; cl++){\n",
       "            cells[cl].code_mirror.setOption('keyMap', 'sublime');\n",
       "        }\n",
       "    }\n",
       ");\n"
      ],
      "text/plain": [
       "<IPython.core.display.Javascript object>"
      ]
     },
     "metadata": {},
     "output_type": "display_data"
    }
   ],
   "source": [
    "%%javascript\n",
    "require([\"codemirror/keymap/sublime\", \"notebook/js/cell\", \"base/js/namespace\"],\n",
    "    function(sublime_keymap, cell, IPython){\n",
    "        cell.Cell.options_default.cm_config.keyMap = 'sublime';\n",
    "        var cells = IPython.notebook.get_cells();\n",
    "        for(var cl=0; cl< cells.length ; cl++){\n",
    "            cells[cl].code_mirror.setOption('keyMap', 'sublime');\n",
    "        }\n",
    "    }\n",
    ");"
   ]
  },
  {
   "cell_type": "code",
   "execution_count": 2,
   "id": "a7fcc290",
   "metadata": {},
   "outputs": [],
   "source": [
    "import numpy as np\n",
    "import pandas as pd\n",
    "import glob\n",
    "import itertools\n",
    "from openpyxl import load_workbook\n",
    "from tqdm.auto import tqdm\n",
    "import models as md\n",
    "import log_results as lr\n",
    "import matplotlib.pyplot as plt\n",
    "%matplotlib inline"
   ]
  },
  {
   "cell_type": "markdown",
   "id": "af062658",
   "metadata": {},
   "source": [
    "### Exploration"
   ]
  },
  {
   "cell_type": "code",
   "execution_count": 3,
   "id": "7adc8aee",
   "metadata": {},
   "outputs": [
    {
     "data": {
      "text/html": [
       "<div>\n",
       "<style scoped>\n",
       "    .dataframe tbody tr th:only-of-type {\n",
       "        vertical-align: middle;\n",
       "    }\n",
       "\n",
       "    .dataframe tbody tr th {\n",
       "        vertical-align: top;\n",
       "    }\n",
       "\n",
       "    .dataframe thead th {\n",
       "        text-align: right;\n",
       "    }\n",
       "</style>\n",
       "<table border=\"1\" class=\"dataframe\">\n",
       "  <thead>\n",
       "    <tr style=\"text-align: right;\">\n",
       "      <th></th>\n",
       "      <th>age</th>\n",
       "      <th>anaemia</th>\n",
       "      <th>creatinine_phosphokinase</th>\n",
       "      <th>diabetes</th>\n",
       "      <th>ejection_fraction</th>\n",
       "      <th>high_blood_pressure</th>\n",
       "      <th>platelets</th>\n",
       "      <th>serum_creatinine</th>\n",
       "      <th>serum_sodium</th>\n",
       "      <th>sex</th>\n",
       "      <th>smoking</th>\n",
       "      <th>time</th>\n",
       "      <th>DEATH_EVENT</th>\n",
       "    </tr>\n",
       "  </thead>\n",
       "  <tbody>\n",
       "    <tr>\n",
       "      <th>0</th>\n",
       "      <td>75.0</td>\n",
       "      <td>0</td>\n",
       "      <td>582</td>\n",
       "      <td>0</td>\n",
       "      <td>20</td>\n",
       "      <td>1</td>\n",
       "      <td>265000.00</td>\n",
       "      <td>1.9</td>\n",
       "      <td>130</td>\n",
       "      <td>1</td>\n",
       "      <td>0</td>\n",
       "      <td>4</td>\n",
       "      <td>1</td>\n",
       "    </tr>\n",
       "    <tr>\n",
       "      <th>1</th>\n",
       "      <td>55.0</td>\n",
       "      <td>0</td>\n",
       "      <td>7861</td>\n",
       "      <td>0</td>\n",
       "      <td>38</td>\n",
       "      <td>0</td>\n",
       "      <td>263358.03</td>\n",
       "      <td>1.1</td>\n",
       "      <td>136</td>\n",
       "      <td>1</td>\n",
       "      <td>0</td>\n",
       "      <td>6</td>\n",
       "      <td>1</td>\n",
       "    </tr>\n",
       "    <tr>\n",
       "      <th>2</th>\n",
       "      <td>65.0</td>\n",
       "      <td>0</td>\n",
       "      <td>146</td>\n",
       "      <td>0</td>\n",
       "      <td>20</td>\n",
       "      <td>0</td>\n",
       "      <td>162000.00</td>\n",
       "      <td>1.3</td>\n",
       "      <td>129</td>\n",
       "      <td>1</td>\n",
       "      <td>1</td>\n",
       "      <td>7</td>\n",
       "      <td>1</td>\n",
       "    </tr>\n",
       "    <tr>\n",
       "      <th>3</th>\n",
       "      <td>50.0</td>\n",
       "      <td>1</td>\n",
       "      <td>111</td>\n",
       "      <td>0</td>\n",
       "      <td>20</td>\n",
       "      <td>0</td>\n",
       "      <td>210000.00</td>\n",
       "      <td>1.9</td>\n",
       "      <td>137</td>\n",
       "      <td>1</td>\n",
       "      <td>0</td>\n",
       "      <td>7</td>\n",
       "      <td>1</td>\n",
       "    </tr>\n",
       "    <tr>\n",
       "      <th>4</th>\n",
       "      <td>65.0</td>\n",
       "      <td>1</td>\n",
       "      <td>160</td>\n",
       "      <td>1</td>\n",
       "      <td>20</td>\n",
       "      <td>0</td>\n",
       "      <td>327000.00</td>\n",
       "      <td>2.7</td>\n",
       "      <td>116</td>\n",
       "      <td>0</td>\n",
       "      <td>0</td>\n",
       "      <td>8</td>\n",
       "      <td>1</td>\n",
       "    </tr>\n",
       "  </tbody>\n",
       "</table>\n",
       "</div>"
      ],
      "text/plain": [
       "    age  anaemia  creatinine_phosphokinase  diabetes  ejection_fraction  \\\n",
       "0  75.0        0                       582         0                 20   \n",
       "1  55.0        0                      7861         0                 38   \n",
       "2  65.0        0                       146         0                 20   \n",
       "3  50.0        1                       111         0                 20   \n",
       "4  65.0        1                       160         1                 20   \n",
       "\n",
       "   high_blood_pressure  platelets  serum_creatinine  serum_sodium  sex  \\\n",
       "0                    1  265000.00               1.9           130    1   \n",
       "1                    0  263358.03               1.1           136    1   \n",
       "2                    0  162000.00               1.3           129    1   \n",
       "3                    0  210000.00               1.9           137    1   \n",
       "4                    0  327000.00               2.7           116    0   \n",
       "\n",
       "   smoking  time  DEATH_EVENT  \n",
       "0        0     4            1  \n",
       "1        0     6            1  \n",
       "2        1     7            1  \n",
       "3        0     7            1  \n",
       "4        0     8            1  "
      ]
     },
     "execution_count": 3,
     "metadata": {},
     "output_type": "execute_result"
    }
   ],
   "source": [
    "data = pd.read_csv('heart_failure_clinical_records_dataset.csv')\n",
    "data.head()"
   ]
  },
  {
   "cell_type": "code",
   "execution_count": 4,
   "id": "a63ddc49",
   "metadata": {},
   "outputs": [
    {
     "data": {
      "text/plain": [
       "array([299])"
      ]
     },
     "execution_count": 4,
     "metadata": {},
     "output_type": "execute_result"
    }
   ],
   "source": [
    "# data exploration - looking for empty values\n",
    "data.count().unique()"
   ]
  },
  {
   "cell_type": "markdown",
   "id": "8c2743be",
   "metadata": {},
   "source": [
    "### Simple model example"
   ]
  },
  {
   "cell_type": "code",
   "execution_count": 5,
   "id": "f9cf5421",
   "metadata": {},
   "outputs": [],
   "source": [
    "TT = md.TreeTester(data=data,target='DEATH_EVENT')\n",
    "TT.evaluate()"
   ]
  },
  {
   "cell_type": "code",
   "execution_count": 6,
   "id": "6b20ae63",
   "metadata": {},
   "outputs": [
    {
     "data": {
      "image/png": "[encoded data removed]",
      "text/plain": [
       "<Figure size 432x288 with 1 Axes>"
      ]
     },
     "metadata": {
      "needs_background": "light"
     },
     "output_type": "display_data"
    }
   ],
   "source": [
    "TT.plot_results()"
   ]
  },
  {
   "cell_type": "markdown",
   "id": "0724382d",
   "metadata": {},
   "source": [
    "### Running and saving"
   ]
  },
  {
   "cell_type": "code",
   "execution_count": 12,
   "id": "7f403284",
   "metadata": {},
   "outputs": [],
   "source": [
    "# Look for already existing results dataframes, define \"this test number\" as \"last test number + 1\"\n",
    "test_df_list = glob.glob(\"results/df/*.pkl\")\n",
    "try:\n",
    "    test_no = max([int(elem.replace(\"results/df/\",\"\").replace(\".pkl\",\"\").replace(\"df\",\"\")) for elem in test_df_list])+1\n",
    "except:\n",
    "    test_no = 0\n",
    "    \n",
    "# Test details\n",
    "features = list(data.drop(['time','DEATH_EVENT'],axis=1).columns)\n",
    "auto_train = True\n",
    "added_features = 1\n",
    "oversample = True\n",
    "df_name = f'df{test_no}'\n",
    "\n",
    "# Running model and saving results\n",
    "TT = md.TreeTester(data=data.drop(['time'],axis=1),target='DEATH_EVENT',oversample=oversample,\n",
    "                   auto_train=auto_train,added_features=added_features)\n",
    "TT.evaluate()\n",
    "TT.evaluators.to_pickle(f'results/df/{df_name}.pkl')\n",
    "\n",
    "# Updating test log file\n",
    "results_logger = lr.Logger(oversample=oversample,features=features,df_name=df_name,\n",
    "                           auto_train=auto_train,added_features=added_features)\n",
    "results_logger.update_log()"
   ]
  },
  {
   "cell_type": "code",
   "execution_count": 13,
   "id": "2f753f81",
   "metadata": {},
   "outputs": [
    {
     "data": {
      "text/html": [
       "<div>\n",
       "<style scoped>\n",
       "    .dataframe tbody tr th:only-of-type {\n",
       "        vertical-align: middle;\n",
       "    }\n",
       "\n",
       "    .dataframe tbody tr th {\n",
       "        vertical-align: top;\n",
       "    }\n",
       "\n",
       "    .dataframe thead th {\n",
       "        text-align: right;\n",
       "    }\n",
       "</style>\n",
       "<table border=\"1\" class=\"dataframe\">\n",
       "  <thead>\n",
       "    <tr style=\"text-align: right;\">\n",
       "      <th></th>\n",
       "      <th>auto_train</th>\n",
       "      <th>added_features</th>\n",
       "      <th>oversample</th>\n",
       "      <th>features</th>\n",
       "      <th>train_size</th>\n",
       "      <th>robustness_iterations</th>\n",
       "      <th>results_df</th>\n",
       "    </tr>\n",
       "  </thead>\n",
       "  <tbody>\n",
       "    <tr>\n",
       "      <th>0</th>\n",
       "      <td>False</td>\n",
       "      <td>0</td>\n",
       "      <td>False</td>\n",
       "      <td>['age', 'anaemia', 'creatinine_phosphokinase',...</td>\n",
       "      <td>0.66</td>\n",
       "      <td>100</td>\n",
       "      <td>df0</td>\n",
       "    </tr>\n",
       "    <tr>\n",
       "      <th>1</th>\n",
       "      <td>False</td>\n",
       "      <td>0</td>\n",
       "      <td>True</td>\n",
       "      <td>['age', 'anaemia', 'creatinine_phosphokinase',...</td>\n",
       "      <td>0.66</td>\n",
       "      <td>100</td>\n",
       "      <td>df1</td>\n",
       "    </tr>\n",
       "    <tr>\n",
       "      <th>2</th>\n",
       "      <td>True</td>\n",
       "      <td>1</td>\n",
       "      <td>False</td>\n",
       "      <td>['age', 'anaemia', 'creatinine_phosphokinase',...</td>\n",
       "      <td>0.66</td>\n",
       "      <td>100</td>\n",
       "      <td>df2</td>\n",
       "    </tr>\n",
       "    <tr>\n",
       "      <th>3</th>\n",
       "      <td>True</td>\n",
       "      <td>1</td>\n",
       "      <td>True</td>\n",
       "      <td>['age', 'anaemia', 'creatinine_phosphokinase',...</td>\n",
       "      <td>0.66</td>\n",
       "      <td>100</td>\n",
       "      <td>df3</td>\n",
       "    </tr>\n",
       "  </tbody>\n",
       "</table>\n",
       "</div>"
      ],
      "text/plain": [
       "   auto_train  added_features  oversample  \\\n",
       "0       False               0       False   \n",
       "1       False               0        True   \n",
       "2        True               1       False   \n",
       "3        True               1        True   \n",
       "\n",
       "                                            features  train_size  \\\n",
       "0  ['age', 'anaemia', 'creatinine_phosphokinase',...        0.66   \n",
       "1  ['age', 'anaemia', 'creatinine_phosphokinase',...        0.66   \n",
       "2  ['age', 'anaemia', 'creatinine_phosphokinase',...        0.66   \n",
       "3  ['age', 'anaemia', 'creatinine_phosphokinase',...        0.66   \n",
       "\n",
       "   robustness_iterations results_df  \n",
       "0                    100        df0  \n",
       "1                    100        df1  \n",
       "2                    100        df2  \n",
       "3                    100        df3  "
      ]
     },
     "execution_count": 13,
     "metadata": {},
     "output_type": "execute_result"
    }
   ],
   "source": [
    "test_log = pd.read_excel('results/df/test_log.xlsx').drop(['Unnamed: 0'],axis=1)\n",
    "test_log"
   ]
  },
  {
   "cell_type": "code",
   "execution_count": null,
   "id": "3177fb0d",
   "metadata": {},
   "outputs": [],
   "source": []
  },
  {
   "cell_type": "code",
   "execution_count": null,
   "id": "3c2213cd",
   "metadata": {},
   "outputs": [],
   "source": []
  },
  {
   "cell_type": "code",
   "execution_count": null,
   "id": "59d664cd",
   "metadata": {},
   "outputs": [],
   "source": [
    "# feature selection\n",
    "\n",
    "results = {}\n",
    "TT = md.TreeTester(data=data.drop(['time'],axis=1),target='DEATH_EVENT')\n",
    "TT.evaluate()\n",
    "results['all_set'] = TT.evaluators.mean()\n",
    "\n",
    "for column in tqdm(data.drop(['DEATH_EVENT','time'],axis=1).columns):\n",
    "    TT = md.TreeTester(data=data.drop([column],axis=1),target='DEATH_EVENT')\n",
    "    TT.evaluate()\n",
    "    results[column] = TT.evaluators.mean()"
   ]
  },
  {
   "cell_type": "code",
   "execution_count": null,
   "id": "627811f1",
   "metadata": {},
   "outputs": [],
   "source": []
  },
  {
   "cell_type": "code",
   "execution_count": null,
   "id": "59f40984",
   "metadata": {},
   "outputs": [],
   "source": []
  },
  {
   "cell_type": "code",
   "execution_count": null,
   "id": "a09573df",
   "metadata": {},
   "outputs": [],
   "source": []
  },
  {
   "cell_type": "code",
   "execution_count": null,
   "id": "e95a068e",
   "metadata": {},
   "outputs": [],
   "source": [
    "# feature selection\n",
    "\n",
    "auto_train = False\n",
    "added_features = 0\n",
    "oversample = False\n",
    "forced_features = None\n",
    "\n",
    "line_info = {\n",
    "    'auto_train': auto_train,\n",
    "    'n_features': added_features,\n",
    "    'oversample': oversample,\n",
    "    'forced_features': forced_features\n",
    "}\n",
    "\n",
    "results = {}\n",
    "TT = md.TreeTester(data=data.drop(['time'],axis=1),target='DEATH_EVENT')\n",
    "TT.evaluate()\n",
    "results['all_set'] = TT.evaluators.mean()\n",
    "\n",
    "for item in tqdm(list(itertools.combinations(data.drop(['time','DEATH_EVENT'],axis=1).columns, 2))):\n",
    "    TT = md.TreeTester(data=data,features=list(item),target='DEATH_EVENT')\n",
    "    TT.evaluate()\n",
    "    results[item] = TT.evaluators.mean()"
   ]
  },
  {
   "cell_type": "code",
   "execution_count": null,
   "id": "d1925a90",
   "metadata": {},
   "outputs": [],
   "source": []
  },
  {
   "cell_type": "code",
   "execution_count": null,
   "id": "f512a2b9",
   "metadata": {},
   "outputs": [],
   "source": [
    "\n",
    "auto_train = False\n",
    "added_features = 121\n",
    "oversample = False\n",
    "forced_features = ['age','sex']\n",
    "\n",
    "line_info = {\n",
    "    'auto_train': auto_train,\n",
    "    'n_features': added_features,\n",
    "    'oversample': oversample,\n",
    "    'forced_features': forced_features\n",
    "}\n",
    "\n",
    "try:\n",
    "    book = load_workbook('results/df/test_log.xlsx')\n",
    "    book = load_workbook('results/df/test_log.xlsx')\n",
    "    writer = pd.ExcelWriter('results/df/test_log.xlsx', engine='openpyxl') \n",
    "    writer.book = book\n",
    "    writer.book = book\n",
    "    writer.sheets = {ws.title: ws for ws in book.worksheets}\n",
    "    for sheetname in writer.sheets:\n",
    "        pd.DataFrame([line_info]).to_excel(writer,sheet_name=sheetname, startrow=writer.sheets[sheetname].max_row,\n",
    "                                           index = True,header= False)\n",
    "\n",
    "    writer.save()\n",
    "except: \n",
    "    print('No test log file - creating one')\n",
    "    pd.DataFrame([line_info]).to_excel('results/df/test_log.xlsx')"
   ]
  },
  {
   "cell_type": "code",
   "execution_count": null,
   "id": "6fc078b1",
   "metadata": {
    "scrolled": true
   },
   "outputs": [],
   "source": [
    "# feature selection\n",
    "import itertools\n",
    "\n",
    "results = {}\n",
    "TT = md.TreeTester(data=data.drop(['time'],axis=1),target='DEATH_EVENT')\n",
    "TT.evaluate()\n",
    "results['all_set'] = TT.evaluators.mean()\n",
    "\n",
    "for item in tqdm(list(itertools.combinations(data.drop(['time','DEATH_EVENT'],axis=1).columns, 2))):\n",
    "    TT = md.TreeTester(data=data,features=list(item),target='DEATH_EVENT')\n",
    "    TT.evaluate()\n",
    "    results[item] = TT.evaluators.mean()"
   ]
  },
  {
   "cell_type": "code",
   "execution_count": null,
   "id": "692b2795",
   "metadata": {},
   "outputs": [],
   "source": [
    "results_df = pd.DataFrame.from_dict(results).round(3)\n",
    "results_df = results_df[results_df.iloc[2,:].sort_values().index[::-1]]\n",
    "results_df"
   ]
  },
  {
   "cell_type": "code",
   "execution_count": null,
   "id": "9bed37ed",
   "metadata": {
    "scrolled": true
   },
   "outputs": [],
   "source": [
    "results = {}\n",
    "TT = md.TreeTester(data=data.drop(['time'],axis=1),target='DEATH_EVENT')\n",
    "TT.evaluate()\n",
    "results['all_set'] = TT.evaluators.mean()\n",
    "\n",
    "for item in tqdm(list(itertools.combinations(data.drop(['time','DEATH_EVENT'],axis=1).columns, 3))):\n",
    "    TT = md.TreeTester(data=data,features=list(item),target='DEATH_EVENT')\n",
    "    TT.evaluate()\n",
    "    results[item] = TT.evaluators.mean()"
   ]
  },
  {
   "cell_type": "code",
   "execution_count": null,
   "id": "db24463b",
   "metadata": {
    "scrolled": true
   },
   "outputs": [],
   "source": [
    "results_df = pd.DataFrame.from_dict(results).round(3)\n",
    "results_df = results_df[results_df.iloc[2,:].sort_values().index[::-1]]\n",
    "results_df"
   ]
  },
  {
   "cell_type": "code",
   "execution_count": null,
   "id": "7782190f",
   "metadata": {},
   "outputs": [],
   "source": [
    "results = {}\n",
    "TT = md.TreeTester(data=data.drop(['time'],axis=1),target='DEATH_EVENT')\n",
    "TT.evaluate()\n",
    "results['all_set'] = TT.evaluators.mean()\n",
    "\n",
    "for item in tqdm(list(itertools.combinations(data.drop(['time','sex','age','smoking','DEATH_EVENT'],axis=1).columns, 2))):\n",
    "    TT = md.TreeTester(data=data,features=['sex','age','smoking']+list(item),target='DEATH_EVENT')\n",
    "    TT.evaluate()\n",
    "    results[item] = TT.evaluators.mean()"
   ]
  },
  {
   "cell_type": "code",
   "execution_count": null,
   "id": "cc4330ec",
   "metadata": {
    "scrolled": true
   },
   "outputs": [],
   "source": [
    "results_df = pd.DataFrame.from_dict(results).round(3)\n",
    "results_df = results_df[results_df.iloc[2,:].sort_values().index[::-1]]\n",
    "results_df"
   ]
  },
  {
   "cell_type": "code",
   "execution_count": null,
   "id": "9b3e0f53",
   "metadata": {},
   "outputs": [],
   "source": [
    "results = {}\n",
    "TT = md.TreeTester(data=data.drop(['time'],axis=1),target='DEATH_EVENT')\n",
    "TT.evaluate()\n",
    "results['all_set'] = TT.evaluators.mean()\n",
    "\n",
    "for item in tqdm(list(itertools.combinations(data.drop(['time','sex','age','smoking','DEATH_EVENT'],axis=1).columns, 3))):\n",
    "    TT = md.TreeTester(data=data,features=['sex','age','smoking']+list(item),target='DEATH_EVENT')\n",
    "    TT.evaluate()\n",
    "    results[item] = TT.evaluators.mean()"
   ]
  },
  {
   "cell_type": "code",
   "execution_count": null,
   "id": "75b43a70",
   "metadata": {},
   "outputs": [],
   "source": [
    "results_df = pd.DataFrame.from_dict(results).round(3)\n",
    "results_df = results_df[results_df.iloc[2,:].sort_values().index[::-1]]\n",
    "results_df"
   ]
  },
  {
   "cell_type": "code",
   "execution_count": null,
   "id": "e6b0deb2",
   "metadata": {},
   "outputs": [],
   "source": [
    "# oversampling\n",
    "\n",
    "results = {}\n",
    "TT = md.TreeTester(data=data.drop(['time'],axis=1),target='DEATH_EVENT')\n",
    "TT.evaluate()\n",
    "results['all_set'] = TT.evaluators.mean()\n",
    "\n",
    "for item in tqdm(list(itertools.combinations(data.drop(['time','DEATH_EVENT'],axis=1).columns, 2))):\n",
    "    TT = md.TreeTester(data=data,features=list(item),target='DEATH_EVENT',oversample=True)\n",
    "    TT.evaluate()\n",
    "    results[item] = TT.evaluators.mean()"
   ]
  },
  {
   "cell_type": "code",
   "execution_count": null,
   "id": "24918124",
   "metadata": {},
   "outputs": [],
   "source": [
    "results_df = pd.DataFrame.from_dict(results).round(3)\n",
    "results_df = results_df[results_df.iloc[2,:].sort_values().index[::-1]]\n",
    "results_df"
   ]
  },
  {
   "cell_type": "code",
   "execution_count": null,
   "id": "69dc6a09",
   "metadata": {},
   "outputs": [],
   "source": [
    "# oversampling\n",
    "\n",
    "results = {}\n",
    "TT = md.TreeTester(data=data.drop(['time'],axis=1),target='DEATH_EVENT')\n",
    "TT.evaluate()\n",
    "results['all_set'] = TT.evaluators.mean()\n",
    "\n",
    "for item in tqdm(list(itertools.combinations(data.drop(['time','sex','age','smoking','DEATH_EVENT'],axis=1).columns, 2))):\n",
    "    TT = md.TreeTester(data=data,features=['sex','age','smoking']+list(item),target='DEATH_EVENT',oversample=True)\n",
    "    TT.evaluate()\n",
    "    results[item] = TT.evaluators.mean()"
   ]
  },
  {
   "cell_type": "code",
   "execution_count": null,
   "id": "7896f631",
   "metadata": {},
   "outputs": [],
   "source": [
    "results_df = pd.DataFrame.from_dict(results).round(3)\n",
    "results_df = results_df[results_df.iloc[2,:].sort_values().index[::-1]]\n",
    "results_df"
   ]
  },
  {
   "cell_type": "code",
   "execution_count": null,
   "id": "2994bd96",
   "metadata": {
    "scrolled": true
   },
   "outputs": [],
   "source": [
    "# oversampling\n",
    "\n",
    "results = {}\n",
    "TT = md.TreeTester(data=data.drop(['time'],axis=1),target='DEATH_EVENT')\n",
    "TT.evaluate()\n",
    "results['all_set'] = TT.evaluators.mean()\n",
    "\n",
    "for item in tqdm(list(itertools.combinations(data.drop(['time','sex','age','smoking','DEATH_EVENT'],axis=1).columns, 2))):\n",
    "    TT = md.TreeTester(data=data,features=['sex','age','smoking']+list(item),target='DEATH_EVENT',oversample=True,\n",
    "                       auto_train=True,added_features=1)\n",
    "    TT.evaluate()\n",
    "    results[item] = TT.evaluators.mean()"
   ]
  },
  {
   "cell_type": "code",
   "execution_count": null,
   "id": "32da16c5",
   "metadata": {},
   "outputs": [],
   "source": [
    "results_df = pd.DataFrame.from_dict(results).round(3)\n",
    "results_df = results_df[results_df.iloc[2,:].sort_values().index[::-1]]\n",
    "results_df"
   ]
  },
  {
   "cell_type": "code",
   "execution_count": null,
   "id": "c2b6f7bf",
   "metadata": {
    "scrolled": true
   },
   "outputs": [],
   "source": [
    "# feature selection\n",
    "results = {}\n",
    "TT = md.TreeTester(data=data.drop(['time'],axis=1),target='DEATH_EVENT')\n",
    "TT.evaluate()\n",
    "results['all_set'] = TT.evaluators.mean()\n",
    "\n",
    "for item in tqdm(list(itertools.combinations(data.drop(['time','DEATH_EVENT'],axis=1).columns, 2))):\n",
    "    TT = md.TreeTester(data=data,features=list(item),target='DEATH_EVENT',oversample=True,\n",
    "                       auto_train=True,added_features=1)\n",
    "    TT.evaluate()\n",
    "    results[item] = TT.evaluators.mean()"
   ]
  },
  {
   "cell_type": "code",
   "execution_count": null,
   "id": "aa1b5500",
   "metadata": {},
   "outputs": [],
   "source": [
    "results_df = pd.DataFrame.from_dict(results).round(3)\n",
    "results_df = results_df[results_df.iloc[2,:].sort_values().index[::-1]]\n",
    "results_df"
   ]
  },
  {
   "cell_type": "code",
   "execution_count": null,
   "id": "2cf2a561",
   "metadata": {},
   "outputs": [],
   "source": [
    "results_df[list(results_df.columns)[10:40]]"
   ]
  },
  {
   "cell_type": "code",
   "execution_count": null,
   "id": "b7f4df83",
   "metadata": {},
   "outputs": [],
   "source": [
    "TT.plot_results()"
   ]
  },
  {
   "cell_type": "code",
   "execution_count": null,
   "id": "1f5b8ef8",
   "metadata": {},
   "outputs": [],
   "source": []
  }
 ],
 "metadata": {
  "kernelspec": {
   "display_name": "Python 3",
   "language": "python",
   "name": "python3"
  },
  "language_info": {
   "codemirror_mode": {
    "name": "ipython",
    "version": 3
   },
   "file_extension": ".py",
   "mimetype": "text/x-python",
   "name": "python",
   "nbconvert_exporter": "python",
   "pygments_lexer": "ipython3",
   "version": "3.8.8"
  }
 },
 "nbformat": 4,
 "nbformat_minor": 5
}
