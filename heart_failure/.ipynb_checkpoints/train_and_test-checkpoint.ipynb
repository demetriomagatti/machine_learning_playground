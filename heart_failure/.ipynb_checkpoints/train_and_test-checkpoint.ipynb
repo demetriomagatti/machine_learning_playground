{
 "cells": [
  {
   "cell_type": "code",
   "execution_count": 1,
   "id": "0ad15165",
   "metadata": {},
   "outputs": [
    {
     "data": {
      "application/javascript": [
       "require([\"codemirror/keymap/sublime\", \"notebook/js/cell\", \"base/js/namespace\"],\n",
       "    function(sublime_keymap, cell, IPython){\n",
       "        cell.Cell.options_default.cm_config.keyMap = 'sublime';\n",
       "        var cells = IPython.notebook.get_cells();\n",
       "        for(var cl=0; cl< cells.length ; cl++){\n",
       "            cells[cl].code_mirror.setOption('keyMap', 'sublime');\n",
       "        }\n",
       "    }\n",
       ");\n"
      ],
      "text/plain": [
       "<IPython.core.display.Javascript object>"
      ]
     },
     "metadata": {},
     "output_type": "display_data"
    }
   ],
   "source": [
    "%%javascript\n",
    "require([\"codemirror/keymap/sublime\", \"notebook/js/cell\", \"base/js/namespace\"],\n",
    "    function(sublime_keymap, cell, IPython){\n",
    "        cell.Cell.options_default.cm_config.keyMap = 'sublime';\n",
    "        var cells = IPython.notebook.get_cells();\n",
    "        for(var cl=0; cl< cells.length ; cl++){\n",
    "            cells[cl].code_mirror.setOption('keyMap', 'sublime');\n",
    "        }\n",
    "    }\n",
    ");"
   ]
  },
  {
   "cell_type": "code",
   "execution_count": 2,
   "id": "a7fcc290",
   "metadata": {},
   "outputs": [],
   "source": [
    "import numpy as np\n",
    "import pandas as pd\n",
    "import glob\n",
    "import itertools\n",
    "from openpyxl import load_workbook\n",
    "from tqdm.auto import tqdm\n",
    "import models as md\n",
    "import log_results as lr\n",
    "import matplotlib.pyplot as plt\n",
    "%matplotlib inline"
   ]
  },
  {
   "cell_type": "markdown",
   "id": "af062658",
   "metadata": {},
   "source": [
    "### Exploration"
   ]
  },
  {
   "cell_type": "code",
   "execution_count": 3,
   "id": "7adc8aee",
   "metadata": {},
   "outputs": [
    {
     "data": {
      "text/html": [
       "<div>\n",
       "<style scoped>\n",
       "    .dataframe tbody tr th:only-of-type {\n",
       "        vertical-align: middle;\n",
       "    }\n",
       "\n",
       "    .dataframe tbody tr th {\n",
       "        vertical-align: top;\n",
       "    }\n",
       "\n",
       "    .dataframe thead th {\n",
       "        text-align: right;\n",
       "    }\n",
       "</style>\n",
       "<table border=\"1\" class=\"dataframe\">\n",
       "  <thead>\n",
       "    <tr style=\"text-align: right;\">\n",
       "      <th></th>\n",
       "      <th>age</th>\n",
       "      <th>anaemia</th>\n",
       "      <th>creatinine_phosphokinase</th>\n",
       "      <th>diabetes</th>\n",
       "      <th>ejection_fraction</th>\n",
       "      <th>high_blood_pressure</th>\n",
       "      <th>platelets</th>\n",
       "      <th>serum_creatinine</th>\n",
       "      <th>serum_sodium</th>\n",
       "      <th>sex</th>\n",
       "      <th>smoking</th>\n",
       "      <th>time</th>\n",
       "      <th>DEATH_EVENT</th>\n",
       "    </tr>\n",
       "  </thead>\n",
       "  <tbody>\n",
       "    <tr>\n",
       "      <th>0</th>\n",
       "      <td>75.0</td>\n",
       "      <td>0</td>\n",
       "      <td>582</td>\n",
       "      <td>0</td>\n",
       "      <td>20</td>\n",
       "      <td>1</td>\n",
       "      <td>265000.00</td>\n",
       "      <td>1.9</td>\n",
       "      <td>130</td>\n",
       "      <td>1</td>\n",
       "      <td>0</td>\n",
       "      <td>4</td>\n",
       "      <td>1</td>\n",
       "    </tr>\n",
       "    <tr>\n",
       "      <th>1</th>\n",
       "      <td>55.0</td>\n",
       "      <td>0</td>\n",
       "      <td>7861</td>\n",
       "      <td>0</td>\n",
       "      <td>38</td>\n",
       "      <td>0</td>\n",
       "      <td>263358.03</td>\n",
       "      <td>1.1</td>\n",
       "      <td>136</td>\n",
       "      <td>1</td>\n",
       "      <td>0</td>\n",
       "      <td>6</td>\n",
       "      <td>1</td>\n",
       "    </tr>\n",
       "    <tr>\n",
       "      <th>2</th>\n",
       "      <td>65.0</td>\n",
       "      <td>0</td>\n",
       "      <td>146</td>\n",
       "      <td>0</td>\n",
       "      <td>20</td>\n",
       "      <td>0</td>\n",
       "      <td>162000.00</td>\n",
       "      <td>1.3</td>\n",
       "      <td>129</td>\n",
       "      <td>1</td>\n",
       "      <td>1</td>\n",
       "      <td>7</td>\n",
       "      <td>1</td>\n",
       "    </tr>\n",
       "    <tr>\n",
       "      <th>3</th>\n",
       "      <td>50.0</td>\n",
       "      <td>1</td>\n",
       "      <td>111</td>\n",
       "      <td>0</td>\n",
       "      <td>20</td>\n",
       "      <td>0</td>\n",
       "      <td>210000.00</td>\n",
       "      <td>1.9</td>\n",
       "      <td>137</td>\n",
       "      <td>1</td>\n",
       "      <td>0</td>\n",
       "      <td>7</td>\n",
       "      <td>1</td>\n",
       "    </tr>\n",
       "    <tr>\n",
       "      <th>4</th>\n",
       "      <td>65.0</td>\n",
       "      <td>1</td>\n",
       "      <td>160</td>\n",
       "      <td>1</td>\n",
       "      <td>20</td>\n",
       "      <td>0</td>\n",
       "      <td>327000.00</td>\n",
       "      <td>2.7</td>\n",
       "      <td>116</td>\n",
       "      <td>0</td>\n",
       "      <td>0</td>\n",
       "      <td>8</td>\n",
       "      <td>1</td>\n",
       "    </tr>\n",
       "  </tbody>\n",
       "</table>\n",
       "</div>"
      ],
      "text/plain": [
       "    age  anaemia  creatinine_phosphokinase  diabetes  ejection_fraction  \\\n",
       "0  75.0        0                       582         0                 20   \n",
       "1  55.0        0                      7861         0                 38   \n",
       "2  65.0        0                       146         0                 20   \n",
       "3  50.0        1                       111         0                 20   \n",
       "4  65.0        1                       160         1                 20   \n",
       "\n",
       "   high_blood_pressure  platelets  serum_creatinine  serum_sodium  sex  \\\n",
       "0                    1  265000.00               1.9           130    1   \n",
       "1                    0  263358.03               1.1           136    1   \n",
       "2                    0  162000.00               1.3           129    1   \n",
       "3                    0  210000.00               1.9           137    1   \n",
       "4                    0  327000.00               2.7           116    0   \n",
       "\n",
       "   smoking  time  DEATH_EVENT  \n",
       "0        0     4            1  \n",
       "1        0     6            1  \n",
       "2        1     7            1  \n",
       "3        0     7            1  \n",
       "4        0     8            1  "
      ]
     },
     "execution_count": 3,
     "metadata": {},
     "output_type": "execute_result"
    }
   ],
   "source": [
    "data = pd.read_csv('heart_failure_clinical_records_dataset.csv')\n",
    "data.head()"
   ]
  },
  {
   "cell_type": "code",
   "execution_count": 4,
   "id": "a63ddc49",
   "metadata": {},
   "outputs": [
    {
     "data": {
      "text/plain": [
       "array([299])"
      ]
     },
     "execution_count": 4,
     "metadata": {},
     "output_type": "execute_result"
    }
   ],
   "source": [
    "# data exploration - looking for empty values\n",
    "data.count().unique()"
   ]
  },
  {
   "cell_type": "markdown",
   "id": "8c2743be",
   "metadata": {},
   "source": [
    "### Simple model example"
   ]
  },
  {
   "cell_type": "code",
   "execution_count": 5,
   "id": "f9cf5421",
   "metadata": {},
   "outputs": [],
   "source": [
    "TT = md.TreeTester(data=data,target='DEATH_EVENT')\n",
    "TT.evaluate()"
   ]
  },
  {
   "cell_type": "code",
   "execution_count": 6,
   "id": "6b20ae63",
   "metadata": {},
   "outputs": [
    {
     "data": {
      "image/png": "[encoded data removed]",
      "text/plain": [
       "<Figure size 432x288 with 1 Axes>"
      ]
     },
     "metadata": {
      "needs_background": "light"
     },
     "output_type": "display_data"
    }
   ],
   "source": [
    "TT.plot_results()"
   ]
  },
  {
   "cell_type": "markdown",
   "id": "0724382d",
   "metadata": {},
   "source": [
    "### Running and saving"
   ]
  },
  {
   "cell_type": "markdown",
   "id": "7e934fa4",
   "metadata": {},
   "source": [
    "#### Example: first test config - all features - no oversample - no autotrain"
   ]
  },
  {
   "cell_type": "code",
   "execution_count": 51,
   "id": "7f403284",
   "metadata": {},
   "outputs": [],
   "source": [
    "# Look for already existing results dataframes, define \"this test number\" as \"last test number + 1\"\n",
    "test_df_list = glob.glob(\"results/df/*.pkl\")\n",
    "try:\n",
    "    test_no = max([int(elem.replace(\"results/df/\",\"\").replace(\".pkl\",\"\").replace(\"df\",\"\")) for elem in test_df_list])+1\n",
    "except:\n",
    "    test_no = 0\n",
    "    \n",
    "# Test details\n",
    "features = list(data.drop(['time','DEATH_EVENT'],axis=1).columns)\n",
    "auto_train = True\n",
    "added_features = 10\n",
    "oversample = True\n",
    "df_name = f'df{test_no}'\n",
    "\n",
    "# Checking for pre existing resutlts\n",
    "query = {\n",
    "    'auto_train': auto_train,\n",
    "    'added_features': added_features,\n",
    "    'features': f\"{features}\",\n",
    "    'oversample': oversample\n",
    "}\n",
    "if test_no:\n",
    "    results_logger = lr.Logger(oversample=oversample,features=features,auto_train=auto_train,\n",
    "                           added_features=added_features,query=query)\n",
    "    if len(results_logger.find_row()):\n",
    "        pass\n",
    "    else:\n",
    "        # Running model and saving results\n",
    "        TT = md.TreeTester(data=data.drop(['time'],axis=1),target='DEATH_EVENT',oversample=oversample,\n",
    "                           auto_train=auto_train,added_features=added_features)\n",
    "        TT.evaluate()\n",
    "        TT.evaluators.to_pickle(f'results/df/{df_name}.pkl')\n",
    "\n",
    "        # Updating test log file\n",
    "        results_logger = lr.Logger(oversample=oversample,features=features,df_name=df_name,\n",
    "                                   auto_train=auto_train,added_features=added_features,\n",
    "                                   df_results=TT.evaluators)\n",
    "        results_logger.update_log()\n",
    "else:\n",
    "    TT = md.TreeTester(data=data.drop(['time'],axis=1),target='DEATH_EVENT',oversample=oversample,\n",
    "                   auto_train=auto_train,added_features=added_features)\n",
    "    TT.evaluate()\n",
    "    TT.evaluators.to_pickle(f'results/df/{df_name}.pkl')\n",
    "\n",
    "    # Updating test log file\n",
    "    results_logger = lr.Logger(oversample=oversample,features=features,df_name=df_name,\n",
    "                               auto_train=auto_train,added_features=added_features,\n",
    "                               df_results=TT.evaluators)\n",
    "    results_logger.update_log()"
   ]
  },
  {
   "cell_type": "markdown",
   "id": "7326bdd1",
   "metadata": {},
   "source": [
    "#### Adding more and more and more configurations"
   ]
  },
  {
   "cell_type": "code",
   "execution_count": 61,
   "id": "42d3ea60",
   "metadata": {},
   "outputs": [
    {
     "data": {
      "application/vnd.jupyter.widget-view+json": {
       "model_id": "9870ba57c9dd47f89d77fd34ebd26e63",
       "version_major": 2,
       "version_minor": 0
      },
      "text/plain": [
       "  0%|          | 0/55 [00:00<?, ?it/s]"
      ]
     },
     "metadata": {},
     "output_type": "display_data"
    },
    {
     "name": "stderr",
     "output_type": "stream",
     "text": [
      "/home/demetrio/git_repo/machine_learning_playground/heart_failure/models.py:105: RuntimeWarning: invalid value encountered in long_scalars\n",
      "  selectivity.append(TN/(TN+FP))\n",
      "/home/demetrio/git_repo/machine_learning_playground/heart_failure/models.py:105: RuntimeWarning: invalid value encountered in long_scalars\n",
      "  selectivity.append(TN/(TN+FP))\n",
      "/home/demetrio/git_repo/machine_learning_playground/heart_failure/models.py:105: RuntimeWarning: invalid value encountered in long_scalars\n",
      "  selectivity.append(TN/(TN+FP))\n",
      "/home/demetrio/git_repo/machine_learning_playground/heart_failure/models.py:105: RuntimeWarning: invalid value encountered in long_scalars\n",
      "  selectivity.append(TN/(TN+FP))\n"
     ]
    }
   ],
   "source": [
    "# Test details\n",
    "auto_train = True\n",
    "added_features = 5\n",
    "oversample = True\n",
    "\n",
    "for item in tqdm(list(itertools.combinations(data.drop(['time','DEATH_EVENT'],axis=1).columns,2))):\n",
    "    # Check if pre-existing results can be found\n",
    "    query = {\n",
    "        'auto_train': auto_train,\n",
    "        'added_features': added_features,\n",
    "        'features': f\"{list(item)}\",\n",
    "        'oversample': oversample\n",
    "    }\n",
    "    results_logger = lr.Logger(oversample=oversample,features=list(item),auto_train=auto_train,\n",
    "                               added_features=added_features,query=query)\n",
    "    if len(results_logger.find_row()):\n",
    "        pass\n",
    "    else:\n",
    "        # Look for already existing results dataframes, define \"this test number\" as \"last test number + 1\"\n",
    "        test_df_list = glob.glob(\"results/df/*.pkl\")\n",
    "        try:\n",
    "            test_no = max([int(elem.replace(\"results/df/\",\"\").replace(\".pkl\",\"\").replace(\"df\",\"\")) for elem in test_df_list])+1\n",
    "        except:\n",
    "            test_no = 0\n",
    "        df_name = f'df{test_no}'\n",
    "\n",
    "        # Running model and saving results\n",
    "        TT = md.TreeTester(data=data,features=list(item),target='DEATH_EVENT',oversample=oversample,\n",
    "                           auto_train=auto_train,added_features=added_features)\n",
    "        TT.evaluate()\n",
    "        TT.evaluators.to_pickle(f'results/df/{df_name}.pkl')\n",
    "\n",
    "        # Updating test log file\n",
    "        results_logger = lr.Logger(oversample=oversample,features=list(item),df_name=df_name,\n",
    "                                   auto_train=auto_train,added_features=added_features,\n",
    "                                   df_results=TT.evaluators)\n",
    "        results_logger.update_log()"
   ]
  },
  {
   "cell_type": "markdown",
   "id": "25c01a09",
   "metadata": {},
   "source": [
    "#### Results dataframe"
   ]
  },
  {
   "cell_type": "code",
   "execution_count": 62,
   "id": "97023472",
   "metadata": {},
   "outputs": [
    {
     "data": {
      "text/html": [
       "<div>\n",
       "<style scoped>\n",
       "    .dataframe tbody tr th:only-of-type {\n",
       "        vertical-align: middle;\n",
       "    }\n",
       "\n",
       "    .dataframe tbody tr th {\n",
       "        vertical-align: top;\n",
       "    }\n",
       "\n",
       "    .dataframe thead th {\n",
       "        text-align: right;\n",
       "    }\n",
       "</style>\n",
       "<table border=\"1\" class=\"dataframe\">\n",
       "  <thead>\n",
       "    <tr style=\"text-align: right;\">\n",
       "      <th></th>\n",
       "      <th>auto_train</th>\n",
       "      <th>added_features</th>\n",
       "      <th>oversample</th>\n",
       "      <th>features</th>\n",
       "      <th>train_size</th>\n",
       "      <th>robustness_iterations</th>\n",
       "      <th>results_df</th>\n",
       "      <th>accuracy</th>\n",
       "      <th>recall</th>\n",
       "      <th>selectivity</th>\n",
       "      <th>precision</th>\n",
       "      <th>NPV</th>\n",
       "      <th>FNR</th>\n",
       "      <th>F1_measure</th>\n",
       "    </tr>\n",
       "  </thead>\n",
       "  <tbody>\n",
       "    <tr>\n",
       "      <th>329</th>\n",
       "      <td>True</td>\n",
       "      <td>5</td>\n",
       "      <td>True</td>\n",
       "      <td>['diabetes', 'sex']</td>\n",
       "      <td>0.66</td>\n",
       "      <td>100</td>\n",
       "      <td>df329</td>\n",
       "      <td>0.493</td>\n",
       "      <td>0.663</td>\n",
       "      <td>0.291</td>\n",
       "      <td>0.533</td>\n",
       "      <td>0.426</td>\n",
       "      <td>0.337</td>\n",
       "      <td>0.563</td>\n",
       "    </tr>\n",
       "    <tr>\n",
       "      <th>261</th>\n",
       "      <td>True</td>\n",
       "      <td>1</td>\n",
       "      <td>True</td>\n",
       "      <td>['creatinine_phosphokinase', 'diabetes']</td>\n",
       "      <td>0.66</td>\n",
       "      <td>100</td>\n",
       "      <td>df261</td>\n",
       "      <td>0.547</td>\n",
       "      <td>0.704</td>\n",
       "      <td>0.356</td>\n",
       "      <td>0.578</td>\n",
       "      <td>0.489</td>\n",
       "      <td>0.296</td>\n",
       "      <td>0.631</td>\n",
       "    </tr>\n",
       "    <tr>\n",
       "      <th>252</th>\n",
       "      <td>True</td>\n",
       "      <td>1</td>\n",
       "      <td>True</td>\n",
       "      <td>['anaemia', 'creatinine_phosphokinase']</td>\n",
       "      <td>0.66</td>\n",
       "      <td>100</td>\n",
       "      <td>df252</td>\n",
       "      <td>0.547</td>\n",
       "      <td>0.688</td>\n",
       "      <td>0.344</td>\n",
       "      <td>0.609</td>\n",
       "      <td>0.426</td>\n",
       "      <td>0.312</td>\n",
       "      <td>0.642</td>\n",
       "    </tr>\n",
       "    <tr>\n",
       "      <th>131</th>\n",
       "      <td>False</td>\n",
       "      <td>0</td>\n",
       "      <td>True</td>\n",
       "      <td>['sex', 'smoking']</td>\n",
       "      <td>0.66</td>\n",
       "      <td>100</td>\n",
       "      <td>df131</td>\n",
       "      <td>0.471</td>\n",
       "      <td>0.690</td>\n",
       "      <td>0.323</td>\n",
       "      <td>0.420</td>\n",
       "      <td>0.592</td>\n",
       "      <td>0.310</td>\n",
       "      <td>0.501</td>\n",
       "    </tr>\n",
       "    <tr>\n",
       "      <th>175</th>\n",
       "      <td>True</td>\n",
       "      <td>1</td>\n",
       "      <td>False</td>\n",
       "      <td>['high_blood_pressure', 'sex']</td>\n",
       "      <td>0.66</td>\n",
       "      <td>100</td>\n",
       "      <td>df175</td>\n",
       "      <td>0.677</td>\n",
       "      <td>0.677</td>\n",
       "      <td>NaN</td>\n",
       "      <td>1.000</td>\n",
       "      <td>0.000</td>\n",
       "      <td>0.323</td>\n",
       "      <td>0.807</td>\n",
       "    </tr>\n",
       "  </tbody>\n",
       "</table>\n",
       "</div>"
      ],
      "text/plain": [
       "     auto_train  added_features  oversample  \\\n",
       "329        True               5        True   \n",
       "261        True               1        True   \n",
       "252        True               1        True   \n",
       "131       False               0        True   \n",
       "175        True               1       False   \n",
       "\n",
       "                                     features  train_size  \\\n",
       "329                       ['diabetes', 'sex']        0.66   \n",
       "261  ['creatinine_phosphokinase', 'diabetes']        0.66   \n",
       "252   ['anaemia', 'creatinine_phosphokinase']        0.66   \n",
       "131                        ['sex', 'smoking']        0.66   \n",
       "175            ['high_blood_pressure', 'sex']        0.66   \n",
       "\n",
       "     robustness_iterations results_df  accuracy  recall  selectivity  \\\n",
       "329                    100      df329     0.493   0.663        0.291   \n",
       "261                    100      df261     0.547   0.704        0.356   \n",
       "252                    100      df252     0.547   0.688        0.344   \n",
       "131                    100      df131     0.471   0.690        0.323   \n",
       "175                    100      df175     0.677   0.677          NaN   \n",
       "\n",
       "     precision    NPV    FNR  F1_measure  \n",
       "329      0.533  0.426  0.337       0.563  \n",
       "261      0.578  0.489  0.296       0.631  \n",
       "252      0.609  0.426  0.312       0.642  \n",
       "131      0.420  0.592  0.310       0.501  \n",
       "175      1.000  0.000  0.323       0.807  "
      ]
     },
     "execution_count": 62,
     "metadata": {},
     "output_type": "execute_result"
    }
   ],
   "source": [
    "test_log = pd.read_excel('results/df/test_log.xlsx').drop(['Unnamed: 0'],axis=1)\n",
    "test_log.round(3).sample(5)"
   ]
  }
 ],
 "metadata": {
  "kernelspec": {
   "display_name": "Python 3",
   "language": "python",
   "name": "python3"
  },
  "language_info": {
   "codemirror_mode": {
    "name": "ipython",
    "version": 3
   },
   "file_extension": ".py",
   "mimetype": "text/x-python",
   "name": "python",
   "nbconvert_exporter": "python",
   "pygments_lexer": "ipython3",
   "version": "3.8.8"
  }
 },
 "nbformat": 4,
 "nbformat_minor": 5
}
