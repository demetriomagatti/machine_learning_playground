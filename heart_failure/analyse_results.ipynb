{
 "cells": [
  {
   "cell_type": "code",
   "execution_count": 1,
   "id": "9afdf30b",
   "metadata": {},
   "outputs": [
    {
     "data": {
      "application/javascript": [
       "require([\"codemirror/keymap/sublime\", \"notebook/js/cell\", \"base/js/namespace\"],\n",
       "    function(sublime_keymap, cell, IPython){\n",
       "        cell.Cell.options_default.cm_config.keyMap = 'sublime';\n",
       "        var cells = IPython.notebook.get_cells();\n",
       "        for(var cl=0; cl< cells.length ; cl++){\n",
       "            cells[cl].code_mirror.setOption('keyMap', 'sublime');\n",
       "        }\n",
       "    }\n",
       ");\n"
      ],
      "text/plain": [
       "<IPython.core.display.Javascript object>"
      ]
     },
     "metadata": {},
     "output_type": "display_data"
    }
   ],
   "source": [
    "%%javascript\n",
    "require([\"codemirror/keymap/sublime\", \"notebook/js/cell\", \"base/js/namespace\"],\n",
    "    function(sublime_keymap, cell, IPython){\n",
    "        cell.Cell.options_default.cm_config.keyMap = 'sublime';\n",
    "        var cells = IPython.notebook.get_cells();\n",
    "        for(var cl=0; cl< cells.length ; cl++){\n",
    "            cells[cl].code_mirror.setOption('keyMap', 'sublime');\n",
    "        }\n",
    "    }\n",
    ");"
   ]
  },
  {
   "cell_type": "code",
   "execution_count": 2,
   "id": "bf5d7845",
   "metadata": {},
   "outputs": [],
   "source": [
    "import numpy as np\n",
    "import pandas as pd\n",
    "from tqdm.auto import tqdm\n",
    "import matplotlib.pyplot as plt\n",
    "%matplotlib inline"
   ]
  },
  {
   "cell_type": "markdown",
   "id": "0669a7d6",
   "metadata": {},
   "source": [
    "#### Load lite results from log file"
   ]
  },
  {
   "cell_type": "code",
   "execution_count": 45,
   "id": "d5997310",
   "metadata": {},
   "outputs": [
    {
     "data": {
      "text/html": [
       "<div>\n",
       "<style scoped>\n",
       "    .dataframe tbody tr th:only-of-type {\n",
       "        vertical-align: middle;\n",
       "    }\n",
       "\n",
       "    .dataframe tbody tr th {\n",
       "        vertical-align: top;\n",
       "    }\n",
       "\n",
       "    .dataframe thead th {\n",
       "        text-align: right;\n",
       "    }\n",
       "</style>\n",
       "<table border=\"1\" class=\"dataframe\">\n",
       "  <thead>\n",
       "    <tr style=\"text-align: right;\">\n",
       "      <th></th>\n",
       "      <th>auto_train</th>\n",
       "      <th>added_features</th>\n",
       "      <th>oversample</th>\n",
       "      <th>features</th>\n",
       "      <th>train_size</th>\n",
       "      <th>robustness_iterations</th>\n",
       "      <th>results_df</th>\n",
       "      <th>accuracy</th>\n",
       "      <th>recall</th>\n",
       "      <th>selectivity</th>\n",
       "      <th>precision</th>\n",
       "      <th>NPV</th>\n",
       "      <th>FNR</th>\n",
       "      <th>F1_measure</th>\n",
       "    </tr>\n",
       "  </thead>\n",
       "  <tbody>\n",
       "    <tr>\n",
       "      <th>0</th>\n",
       "      <td>0</td>\n",
       "      <td>0</td>\n",
       "      <td>0</td>\n",
       "      <td>['age', 'anaemia', 'creatinine_phosphokinase',...</td>\n",
       "      <td>0.66</td>\n",
       "      <td>100</td>\n",
       "      <td>df0</td>\n",
       "      <td>0.679</td>\n",
       "      <td>0.761</td>\n",
       "      <td>0.513</td>\n",
       "      <td>0.763</td>\n",
       "      <td>0.508</td>\n",
       "      <td>0.239</td>\n",
       "      <td>0.760</td>\n",
       "    </tr>\n",
       "    <tr>\n",
       "      <th>1</th>\n",
       "      <td>0</td>\n",
       "      <td>0</td>\n",
       "      <td>1</td>\n",
       "      <td>['age', 'anaemia', 'creatinine_phosphokinase',...</td>\n",
       "      <td>0.66</td>\n",
       "      <td>100</td>\n",
       "      <td>df1</td>\n",
       "      <td>0.695</td>\n",
       "      <td>0.806</td>\n",
       "      <td>0.522</td>\n",
       "      <td>0.727</td>\n",
       "      <td>0.629</td>\n",
       "      <td>0.194</td>\n",
       "      <td>0.763</td>\n",
       "    </tr>\n",
       "    <tr>\n",
       "      <th>2</th>\n",
       "      <td>1</td>\n",
       "      <td>1</td>\n",
       "      <td>0</td>\n",
       "      <td>['age', 'anaemia', 'creatinine_phosphokinase',...</td>\n",
       "      <td>0.66</td>\n",
       "      <td>100</td>\n",
       "      <td>df2</td>\n",
       "      <td>0.660</td>\n",
       "      <td>0.749</td>\n",
       "      <td>0.471</td>\n",
       "      <td>0.755</td>\n",
       "      <td>0.463</td>\n",
       "      <td>0.251</td>\n",
       "      <td>0.750</td>\n",
       "    </tr>\n",
       "    <tr>\n",
       "      <th>3</th>\n",
       "      <td>1</td>\n",
       "      <td>1</td>\n",
       "      <td>1</td>\n",
       "      <td>['age', 'anaemia', 'creatinine_phosphokinase',...</td>\n",
       "      <td>0.66</td>\n",
       "      <td>100</td>\n",
       "      <td>df3</td>\n",
       "      <td>0.692</td>\n",
       "      <td>0.801</td>\n",
       "      <td>0.527</td>\n",
       "      <td>0.721</td>\n",
       "      <td>0.632</td>\n",
       "      <td>0.199</td>\n",
       "      <td>0.757</td>\n",
       "    </tr>\n",
       "    <tr>\n",
       "      <th>4</th>\n",
       "      <td>0</td>\n",
       "      <td>0</td>\n",
       "      <td>0</td>\n",
       "      <td>['age', 'anaemia']</td>\n",
       "      <td>0.66</td>\n",
       "      <td>100</td>\n",
       "      <td>df4</td>\n",
       "      <td>0.662</td>\n",
       "      <td>0.705</td>\n",
       "      <td>0.465</td>\n",
       "      <td>0.869</td>\n",
       "      <td>0.224</td>\n",
       "      <td>0.295</td>\n",
       "      <td>0.776</td>\n",
       "    </tr>\n",
       "  </tbody>\n",
       "</table>\n",
       "</div>"
      ],
      "text/plain": [
       "   auto_train  added_features  oversample  \\\n",
       "0           0               0           0   \n",
       "1           0               0           1   \n",
       "2           1               1           0   \n",
       "3           1               1           1   \n",
       "4           0               0           0   \n",
       "\n",
       "                                            features  train_size  \\\n",
       "0  ['age', 'anaemia', 'creatinine_phosphokinase',...        0.66   \n",
       "1  ['age', 'anaemia', 'creatinine_phosphokinase',...        0.66   \n",
       "2  ['age', 'anaemia', 'creatinine_phosphokinase',...        0.66   \n",
       "3  ['age', 'anaemia', 'creatinine_phosphokinase',...        0.66   \n",
       "4                                 ['age', 'anaemia']        0.66   \n",
       "\n",
       "   robustness_iterations results_df  accuracy  recall  selectivity  precision  \\\n",
       "0                    100        df0     0.679   0.761        0.513      0.763   \n",
       "1                    100        df1     0.695   0.806        0.522      0.727   \n",
       "2                    100        df2     0.660   0.749        0.471      0.755   \n",
       "3                    100        df3     0.692   0.801        0.527      0.721   \n",
       "4                    100        df4     0.662   0.705        0.465      0.869   \n",
       "\n",
       "     NPV    FNR  F1_measure  \n",
       "0  0.508  0.239       0.760  \n",
       "1  0.629  0.194       0.763  \n",
       "2  0.463  0.251       0.750  \n",
       "3  0.632  0.199       0.757  \n",
       "4  0.224  0.295       0.776  "
      ]
     },
     "execution_count": 45,
     "metadata": {},
     "output_type": "execute_result"
    }
   ],
   "source": [
    "test_log = pd.read_excel('results/df/test_log.xlsx').drop(['Unnamed: 0'],axis=1)\n",
    "test_log.round(3).head()"
   ]
  },
  {
   "cell_type": "code",
   "execution_count": 46,
   "id": "b635df92",
   "metadata": {},
   "outputs": [],
   "source": [
    "import ast\n",
    "test_log['n_features'] = [len(ast.literal_eval(item)) for item in test_log['features']]"
   ]
  },
  {
   "cell_type": "markdown",
   "id": "76d8f863",
   "metadata": {},
   "source": [
    "#### Time to actually do something"
   ]
  },
  {
   "cell_type": "code",
   "execution_count": 59,
   "id": "a7ae489e",
   "metadata": {},
   "outputs": [],
   "source": [
    "query = {\n",
    "    'auto_train': False,\n",
    "    'oversample': True,\n",
    "    'n_features': 2\n",
    "}\n",
    "query_str = ''\n",
    "for key in query.keys():\n",
    "    query_str = query_str + f'{key} == @query[\"{key}\"] & ' \n",
    "query_str = query_str[:-2]"
   ]
  },
  {
   "cell_type": "code",
   "execution_count": 60,
   "id": "5703546c",
   "metadata": {},
   "outputs": [
    {
     "data": {
      "text/plain": [
       "[<matplotlib.lines.Line2D at 0x7f3238232460>]"
      ]
     },
     "execution_count": 60,
     "metadata": {},
     "output_type": "execute_result"
    },
    {
     "data": {
      "image/png": "[encoded data removed]",
      "text/plain": [
       "<Figure size 432x288 with 1 Axes>"
      ]
     },
     "metadata": {
      "needs_background": "light"
     },
     "output_type": "display_data"
    }
   ],
   "source": [
    "plt.plot(test_log.query(query_str).accuracy,test_log.query(query_str).selectivity,'.')"
   ]
  },
  {
   "cell_type": "code",
   "execution_count": null,
   "id": "2cee0aea",
   "metadata": {},
   "outputs": [],
   "source": []
  }
 ],
 "metadata": {
  "kernelspec": {
   "display_name": "Python 3",
   "language": "python",
   "name": "python3"
  },
  "language_info": {
   "codemirror_mode": {
    "name": "ipython",
    "version": 3
   },
   "file_extension": ".py",
   "mimetype": "text/x-python",
   "name": "python",
   "nbconvert_exporter": "python",
   "pygments_lexer": "ipython3",
   "version": "3.8.8"
  }
 },
 "nbformat": 4,
 "nbformat_minor": 5
}
