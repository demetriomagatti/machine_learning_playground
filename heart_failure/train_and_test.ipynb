{
 "cells": [
  {
   "cell_type": "code",
   "execution_count": 1,
   "id": "0ad15165",
   "metadata": {},
   "outputs": [
    {
     "data": {
      "application/javascript": [
       "require([\"codemirror/keymap/sublime\", \"notebook/js/cell\", \"base/js/namespace\"],\n",
       "    function(sublime_keymap, cell, IPython){\n",
       "        cell.Cell.options_default.cm_config.keyMap = 'sublime';\n",
       "        var cells = IPython.notebook.get_cells();\n",
       "        for(var cl=0; cl< cells.length ; cl++){\n",
       "            cells[cl].code_mirror.setOption('keyMap', 'sublime');\n",
       "        }\n",
       "    }\n",
       ");\n"
      ],
      "text/plain": [
       "<IPython.core.display.Javascript object>"
      ]
     },
     "metadata": {},
     "output_type": "display_data"
    }
   ],
   "source": [
    "%%javascript\n",
    "require([\"codemirror/keymap/sublime\", \"notebook/js/cell\", \"base/js/namespace\"],\n",
    "    function(sublime_keymap, cell, IPython){\n",
    "        cell.Cell.options_default.cm_config.keyMap = 'sublime';\n",
    "        var cells = IPython.notebook.get_cells();\n",
    "        for(var cl=0; cl< cells.length ; cl++){\n",
    "            cells[cl].code_mirror.setOption('keyMap', 'sublime');\n",
    "        }\n",
    "    }\n",
    ");"
   ]
  },
  {
   "cell_type": "code",
   "execution_count": 2,
   "id": "a7fcc290",
   "metadata": {},
   "outputs": [],
   "source": [
    "import numpy as np\n",
    "import pandas as pd\n",
    "import glob\n",
    "import itertools\n",
    "from openpyxl import load_workbook\n",
    "from tqdm.auto import tqdm\n",
    "from sklearn.metrics import confusion_matrix\n",
    "import models as md\n",
    "import log_results as lr\n",
    "import matplotlib.pyplot as plt\n",
    "%matplotlib inline"
   ]
  },
  {
   "cell_type": "code",
   "execution_count": 3,
   "id": "ae027b3d",
   "metadata": {},
   "outputs": [],
   "source": [
    "import warnings\n",
    "warnings.filterwarnings(\"ignore\", category=RuntimeWarning) "
   ]
  },
  {
   "cell_type": "markdown",
   "id": "af062658",
   "metadata": {},
   "source": [
    "### Exploration"
   ]
  },
  {
   "cell_type": "code",
   "execution_count": 4,
   "id": "7adc8aee",
   "metadata": {},
   "outputs": [
    {
     "data": {
      "text/html": [
       "<div>\n",
       "<style scoped>\n",
       "    .dataframe tbody tr th:only-of-type {\n",
       "        vertical-align: middle;\n",
       "    }\n",
       "\n",
       "    .dataframe tbody tr th {\n",
       "        vertical-align: top;\n",
       "    }\n",
       "\n",
       "    .dataframe thead th {\n",
       "        text-align: right;\n",
       "    }\n",
       "</style>\n",
       "<table border=\"1\" class=\"dataframe\">\n",
       "  <thead>\n",
       "    <tr style=\"text-align: right;\">\n",
       "      <th></th>\n",
       "      <th>age</th>\n",
       "      <th>anaemia</th>\n",
       "      <th>creatinine_phosphokinase</th>\n",
       "      <th>diabetes</th>\n",
       "      <th>ejection_fraction</th>\n",
       "      <th>high_blood_pressure</th>\n",
       "      <th>platelets</th>\n",
       "      <th>serum_creatinine</th>\n",
       "      <th>serum_sodium</th>\n",
       "      <th>sex</th>\n",
       "      <th>smoking</th>\n",
       "      <th>time</th>\n",
       "      <th>DEATH_EVENT</th>\n",
       "    </tr>\n",
       "  </thead>\n",
       "  <tbody>\n",
       "    <tr>\n",
       "      <th>0</th>\n",
       "      <td>75.0</td>\n",
       "      <td>0</td>\n",
       "      <td>582</td>\n",
       "      <td>0</td>\n",
       "      <td>20</td>\n",
       "      <td>1</td>\n",
       "      <td>265000.00</td>\n",
       "      <td>1.9</td>\n",
       "      <td>130</td>\n",
       "      <td>1</td>\n",
       "      <td>0</td>\n",
       "      <td>4</td>\n",
       "      <td>1</td>\n",
       "    </tr>\n",
       "    <tr>\n",
       "      <th>1</th>\n",
       "      <td>55.0</td>\n",
       "      <td>0</td>\n",
       "      <td>7861</td>\n",
       "      <td>0</td>\n",
       "      <td>38</td>\n",
       "      <td>0</td>\n",
       "      <td>263358.03</td>\n",
       "      <td>1.1</td>\n",
       "      <td>136</td>\n",
       "      <td>1</td>\n",
       "      <td>0</td>\n",
       "      <td>6</td>\n",
       "      <td>1</td>\n",
       "    </tr>\n",
       "    <tr>\n",
       "      <th>2</th>\n",
       "      <td>65.0</td>\n",
       "      <td>0</td>\n",
       "      <td>146</td>\n",
       "      <td>0</td>\n",
       "      <td>20</td>\n",
       "      <td>0</td>\n",
       "      <td>162000.00</td>\n",
       "      <td>1.3</td>\n",
       "      <td>129</td>\n",
       "      <td>1</td>\n",
       "      <td>1</td>\n",
       "      <td>7</td>\n",
       "      <td>1</td>\n",
       "    </tr>\n",
       "    <tr>\n",
       "      <th>3</th>\n",
       "      <td>50.0</td>\n",
       "      <td>1</td>\n",
       "      <td>111</td>\n",
       "      <td>0</td>\n",
       "      <td>20</td>\n",
       "      <td>0</td>\n",
       "      <td>210000.00</td>\n",
       "      <td>1.9</td>\n",
       "      <td>137</td>\n",
       "      <td>1</td>\n",
       "      <td>0</td>\n",
       "      <td>7</td>\n",
       "      <td>1</td>\n",
       "    </tr>\n",
       "    <tr>\n",
       "      <th>4</th>\n",
       "      <td>65.0</td>\n",
       "      <td>1</td>\n",
       "      <td>160</td>\n",
       "      <td>1</td>\n",
       "      <td>20</td>\n",
       "      <td>0</td>\n",
       "      <td>327000.00</td>\n",
       "      <td>2.7</td>\n",
       "      <td>116</td>\n",
       "      <td>0</td>\n",
       "      <td>0</td>\n",
       "      <td>8</td>\n",
       "      <td>1</td>\n",
       "    </tr>\n",
       "  </tbody>\n",
       "</table>\n",
       "</div>"
      ],
      "text/plain": [
       "    age  anaemia  creatinine_phosphokinase  diabetes  ejection_fraction  \\\n",
       "0  75.0        0                       582         0                 20   \n",
       "1  55.0        0                      7861         0                 38   \n",
       "2  65.0        0                       146         0                 20   \n",
       "3  50.0        1                       111         0                 20   \n",
       "4  65.0        1                       160         1                 20   \n",
       "\n",
       "   high_blood_pressure  platelets  serum_creatinine  serum_sodium  sex  \\\n",
       "0                    1  265000.00               1.9           130    1   \n",
       "1                    0  263358.03               1.1           136    1   \n",
       "2                    0  162000.00               1.3           129    1   \n",
       "3                    0  210000.00               1.9           137    1   \n",
       "4                    0  327000.00               2.7           116    0   \n",
       "\n",
       "   smoking  time  DEATH_EVENT  \n",
       "0        0     4            1  \n",
       "1        0     6            1  \n",
       "2        1     7            1  \n",
       "3        0     7            1  \n",
       "4        0     8            1  "
      ]
     },
     "execution_count": 4,
     "metadata": {},
     "output_type": "execute_result"
    }
   ],
   "source": [
    "data = pd.read_csv('heart_failure_clinical_records_dataset.csv')\n",
    "data.head()"
   ]
  },
  {
   "cell_type": "code",
   "execution_count": 5,
   "id": "a63ddc49",
   "metadata": {},
   "outputs": [
    {
     "data": {
      "text/plain": [
       "array([299])"
      ]
     },
     "execution_count": 5,
     "metadata": {},
     "output_type": "execute_result"
    }
   ],
   "source": [
    "# data exploration - looking for empty values\n",
    "data.count().unique()"
   ]
  },
  {
   "cell_type": "markdown",
   "id": "8c2743be",
   "metadata": {},
   "source": [
    "### Simple model example"
   ]
  },
  {
   "cell_type": "code",
   "execution_count": 6,
   "id": "f9cf5421",
   "metadata": {},
   "outputs": [],
   "source": [
    "TT = md.TreeTester(data=data,target='DEATH_EVENT')\n",
    "TT.evaluate()"
   ]
  },
  {
   "cell_type": "code",
   "execution_count": 7,
   "id": "742717dd",
   "metadata": {},
   "outputs": [
    {
     "data": {
      "text/plain": [
       "array([[52, 15],\n",
       "       [12, 23]])"
      ]
     },
     "execution_count": 7,
     "metadata": {},
     "output_type": "execute_result"
    }
   ],
   "source": [
    "results = TT.y_test.to_frame().rename(columns={TT.target: \"true_value\"})\n",
    "results['predicted'] = TT.y_pred\n",
    "cm = confusion_matrix(results.query('index<@TT.original_rows').true_value,results.query('index<@TT.original_rows').predicted)\n",
    "cm"
   ]
  },
  {
   "cell_type": "code",
   "execution_count": 8,
   "id": "6b20ae63",
   "metadata": {},
   "outputs": [
    {
     "data": {
      "image/png": "[encoded data removed]",
      "text/plain": [
       "<Figure size 432x288 with 1 Axes>"
      ]
     },
     "metadata": {
      "needs_background": "light"
     },
     "output_type": "display_data"
    }
   ],
   "source": [
    "TT.plot_results()"
   ]
  },
  {
   "cell_type": "markdown",
   "id": "0724382d",
   "metadata": {},
   "source": [
    "### Running and saving"
   ]
  },
  {
   "cell_type": "markdown",
   "id": "7e934fa4",
   "metadata": {},
   "source": [
    "#### Example: first test config - all features - no oversample - no autotrain"
   ]
  },
  {
   "cell_type": "code",
   "execution_count": 13,
   "id": "7f403284",
   "metadata": {},
   "outputs": [],
   "source": [
    "# Look for already existing results dataframes, define \"this test number\" as \"last test number + 1\"\n",
    "test_df_list = glob.glob(\"results/df/*.pkl\")\n",
    "try:\n",
    "    test_no = max([int(elem.replace(\"results/df/\",\"\").replace(\".pkl\",\"\").replace(\"df\",\"\")) for elem in test_df_list])+1\n",
    "except:\n",
    "    test_no = 0\n",
    "    \n",
    "# Test details\n",
    "features = list(data.drop(['time','DEATH_EVENT'],axis=1).columns)\n",
    "auto_train = True\n",
    "added_features = 1\n",
    "oversample = True\n",
    "stratify = True\n",
    "df_name = f'df{test_no}'\n",
    "\n",
    "# Checking for pre existing resutlts\n",
    "query = {\n",
    "    'auto_train': auto_train,\n",
    "    'added_features': added_features,\n",
    "    'features': f\"{features}\",\n",
    "    'oversample': oversample,\n",
    "    'stratified': stratify\n",
    "}\n",
    "if test_no:\n",
    "    results_logger = lr.Logger(oversample=oversample,features=features,auto_train=auto_train,\n",
    "                           added_features=added_features,query=query)\n",
    "    if len(results_logger.find_row()):\n",
    "        pass\n",
    "    else:\n",
    "        # Running model and saving results\n",
    "        TT = md.TreeTester(data=data.drop(['time'],axis=1),target='DEATH_EVENT',oversample=oversample,\n",
    "                           auto_train=auto_train,added_features=added_features,stratify=stratify)\n",
    "        TT.evaluate()\n",
    "        TT.evaluators.to_pickle(f'results/df/{df_name}.pkl')\n",
    "\n",
    "        # Updating test log file\n",
    "        results_logger = lr.Logger(oversample=oversample,features=features,df_name=df_name,\n",
    "                                   auto_train=auto_train,added_features=added_features,stratify=stratify,\n",
    "                                   df_results=TT.evaluators)\n",
    "        results_logger.update_log()\n",
    "else:\n",
    "    TT = md.TreeTester(data=data.drop(['time'],axis=1),target='DEATH_EVENT',oversample=oversample,\n",
    "                   auto_train=auto_train,added_features=added_features,stratify=stratify)\n",
    "    TT.evaluate()\n",
    "    TT.evaluators.to_pickle(f'results/df/{df_name}.pkl')\n",
    "\n",
    "    # Updating test log file\n",
    "    results_logger = lr.Logger(oversample=oversample,features=features,df_name=df_name,\n",
    "                               auto_train=auto_train,added_features=added_features,stratify=stratify,\n",
    "                               df_results=TT.evaluators)\n",
    "    results_logger.update_log()"
   ]
  },
  {
   "cell_type": "markdown",
   "id": "7326bdd1",
   "metadata": {},
   "source": [
    "#### Adding more and more and more configurations"
   ]
  },
  {
   "cell_type": "code",
   "execution_count": 36,
   "id": "42d3ea60",
   "metadata": {},
   "outputs": [
    {
     "data": {
      "application/vnd.jupyter.widget-view+json": {
       "model_id": "3db851a11b8b4e549ab16a9eac7400e8",
       "version_major": 2,
       "version_minor": 0
      },
      "text/plain": [
       "  0%|          | 0/55 [00:00<?, ?it/s]"
      ]
     },
     "metadata": {},
     "output_type": "display_data"
    }
   ],
   "source": [
    "# Test details\n",
    "auto_train = True\n",
    "added_features = 1\n",
    "oversample = True\n",
    "stratify = False\n",
    "\n",
    "for item in tqdm(list(itertools.combinations(data.drop(['time','DEATH_EVENT'],axis=1).columns,2))):\n",
    "    # Check if pre-existing results can be found\n",
    "    query = {\n",
    "        'auto_train': auto_train,\n",
    "        'added_features': added_features,\n",
    "        'features': f\"{list(item)}\",\n",
    "        'oversample': oversample,\n",
    "        'stratified': stratify\n",
    "    }\n",
    "    results_logger = lr.Logger(oversample=oversample,features=list(item),auto_train=auto_train,\n",
    "                               added_features=added_features,query=query)\n",
    "    if len(results_logger.find_row()):\n",
    "        pass\n",
    "    else:\n",
    "        # Look for already existing results dataframes, define \"this test number\" as \"last test number + 1\"\n",
    "        test_df_list = glob.glob(\"results/df/*.pkl\")\n",
    "        try:\n",
    "            test_no = max([int(elem.replace(\"results/df/\",\"\").replace(\".pkl\",\"\").replace(\"df\",\"\")) for elem in test_df_list])+1\n",
    "        except:\n",
    "            test_no = 0\n",
    "        df_name = f'df{test_no}'\n",
    "\n",
    "        # Running model and saving results\n",
    "        TT = md.TreeTester(data=data,features=list(item),target='DEATH_EVENT',oversample=oversample,\n",
    "                           auto_train=auto_train,added_features=added_features,stratify=stratify)\n",
    "        TT.evaluate()\n",
    "        TT.evaluators.to_pickle(f'results/df/{df_name}.pkl')\n",
    "\n",
    "        # Updating test log file\n",
    "        results_logger = lr.Logger(oversample=oversample,features=list(item),df_name=df_name,\n",
    "                                   auto_train=auto_train,added_features=added_features,stratify=stratify,\n",
    "                                   df_results=TT.evaluators)\n",
    "        results_logger.update_log()"
   ]
  },
  {
   "cell_type": "markdown",
   "id": "03654d1e",
   "metadata": {},
   "source": [
    "#### Force some features to be always in"
   ]
  },
  {
   "cell_type": "code",
   "execution_count": 32,
   "id": "7bf2ca29",
   "metadata": {},
   "outputs": [
    {
     "data": {
      "application/vnd.jupyter.widget-view+json": {
       "model_id": "431e17c9ad0746dfacbe622ccc4b0795",
       "version_major": 2,
       "version_minor": 0
      },
      "text/plain": [
       "  0%|          | 0/28 [00:00<?, ?it/s]"
      ]
     },
     "metadata": {},
     "output_type": "display_data"
    }
   ],
   "source": [
    "# Test details\n",
    "auto_train = True\n",
    "added_features = 1\n",
    "oversample = True\n",
    "stratify = True\n",
    "forced_features = ['age','sex','smoking']\n",
    "\n",
    "for item in tqdm(list(itertools.combinations(data.drop(['time','DEATH_EVENT']+forced_features,axis=1).columns,2))):\n",
    "    query = {\n",
    "        'auto_train': auto_train,\n",
    "        'added_features': added_features,\n",
    "        'features': f\"{forced_features+list(item)}\",\n",
    "        'oversample': oversample,\n",
    "        'stratified': stratify\n",
    "    }\n",
    "    results_logger = lr.Logger(oversample=oversample,features=query['features'],auto_train=auto_train,\n",
    "                               added_features=added_features,query=query)\n",
    "    if len(results_logger.find_row()):\n",
    "        pass\n",
    "    else:\n",
    "        # Look for already existing results dataframes, define \"this test number\" as \"last test number + 1\"\n",
    "        test_df_list = glob.glob(\"results/df/*.pkl\")\n",
    "        try:\n",
    "            test_no = max([int(elem.replace(\"results/df/\",\"\").replace(\".pkl\",\"\").replace(\"df\",\"\")) for elem in test_df_list])+1\n",
    "        except:\n",
    "            test_no = 0\n",
    "        df_name = f'df{test_no}'\n",
    "\n",
    "        # Running model and saving results\n",
    "        TT = md.TreeTester(data=data,features=list(item),target='DEATH_EVENT',oversample=oversample,\n",
    "                           auto_train=auto_train,added_features=added_features,stratify=stratify)\n",
    "        TT.evaluate()\n",
    "        TT.evaluators.to_pickle(f'results/df/{df_name}.pkl')\n",
    "\n",
    "        # Updating test log file\n",
    "        results_logger = lr.Logger(oversample=oversample,features=forced_features+list(item),df_name=df_name,\n",
    "                                   auto_train=auto_train,added_features=added_features,stratify=stratify,\n",
    "                                   df_results=TT.evaluators)\n",
    "        results_logger.update_log()"
   ]
  },
  {
   "cell_type": "markdown",
   "id": "25c01a09",
   "metadata": {},
   "source": [
    "#### Results dataframe"
   ]
  },
  {
   "cell_type": "code",
   "execution_count": 25,
   "id": "97023472",
   "metadata": {
    "scrolled": true
   },
   "outputs": [
    {
     "data": {
      "text/html": [
       "<div>\n",
       "<style scoped>\n",
       "    .dataframe tbody tr th:only-of-type {\n",
       "        vertical-align: middle;\n",
       "    }\n",
       "\n",
       "    .dataframe tbody tr th {\n",
       "        vertical-align: top;\n",
       "    }\n",
       "\n",
       "    .dataframe thead th {\n",
       "        text-align: right;\n",
       "    }\n",
       "</style>\n",
       "<table border=\"1\" class=\"dataframe\">\n",
       "  <thead>\n",
       "    <tr style=\"text-align: right;\">\n",
       "      <th></th>\n",
       "      <th>auto_train</th>\n",
       "      <th>added_features</th>\n",
       "      <th>oversample</th>\n",
       "      <th>features</th>\n",
       "      <th>train_size</th>\n",
       "      <th>stratified</th>\n",
       "      <th>robustness_iterations</th>\n",
       "      <th>results_df</th>\n",
       "      <th>accuracy</th>\n",
       "      <th>recall</th>\n",
       "      <th>selectivity</th>\n",
       "      <th>precision</th>\n",
       "      <th>NPV</th>\n",
       "      <th>FNR</th>\n",
       "      <th>F1_measure</th>\n",
       "    </tr>\n",
       "  </thead>\n",
       "  <tbody>\n",
       "    <tr>\n",
       "      <th>361</th>\n",
       "      <td>False</td>\n",
       "      <td>0</td>\n",
       "      <td>False</td>\n",
       "      <td>['age', 'sex', 'smoking', 'high_blood_pressure...</td>\n",
       "      <td>0.66</td>\n",
       "      <td>True</td>\n",
       "      <td>100</td>\n",
       "      <td>df361</td>\n",
       "      <td>0.706</td>\n",
       "      <td>0.302</td>\n",
       "      <td>0.899</td>\n",
       "      <td>0.604</td>\n",
       "      <td>0.729</td>\n",
       "      <td>0.698</td>\n",
       "      <td>0.396</td>\n",
       "    </tr>\n",
       "    <tr>\n",
       "      <th>362</th>\n",
       "      <td>False</td>\n",
       "      <td>0</td>\n",
       "      <td>False</td>\n",
       "      <td>['age', 'sex', 'smoking', 'high_blood_pressure...</td>\n",
       "      <td>0.66</td>\n",
       "      <td>True</td>\n",
       "      <td>100</td>\n",
       "      <td>df362</td>\n",
       "      <td>0.658</td>\n",
       "      <td>0.257</td>\n",
       "      <td>0.850</td>\n",
       "      <td>0.454</td>\n",
       "      <td>0.706</td>\n",
       "      <td>0.743</td>\n",
       "      <td>0.321</td>\n",
       "    </tr>\n",
       "    <tr>\n",
       "      <th>363</th>\n",
       "      <td>False</td>\n",
       "      <td>0</td>\n",
       "      <td>False</td>\n",
       "      <td>['age', 'sex', 'smoking', 'platelets', 'serum_...</td>\n",
       "      <td>0.66</td>\n",
       "      <td>True</td>\n",
       "      <td>100</td>\n",
       "      <td>df363</td>\n",
       "      <td>0.620</td>\n",
       "      <td>0.402</td>\n",
       "      <td>0.724</td>\n",
       "      <td>0.410</td>\n",
       "      <td>0.717</td>\n",
       "      <td>0.598</td>\n",
       "      <td>0.404</td>\n",
       "    </tr>\n",
       "    <tr>\n",
       "      <th>364</th>\n",
       "      <td>False</td>\n",
       "      <td>0</td>\n",
       "      <td>False</td>\n",
       "      <td>['age', 'sex', 'smoking', 'platelets', 'serum_...</td>\n",
       "      <td>0.66</td>\n",
       "      <td>True</td>\n",
       "      <td>100</td>\n",
       "      <td>df364</td>\n",
       "      <td>0.588</td>\n",
       "      <td>0.354</td>\n",
       "      <td>0.700</td>\n",
       "      <td>0.363</td>\n",
       "      <td>0.694</td>\n",
       "      <td>0.646</td>\n",
       "      <td>0.356</td>\n",
       "    </tr>\n",
       "    <tr>\n",
       "      <th>365</th>\n",
       "      <td>False</td>\n",
       "      <td>0</td>\n",
       "      <td>False</td>\n",
       "      <td>['age', 'sex', 'smoking', 'serum_creatinine', ...</td>\n",
       "      <td>0.66</td>\n",
       "      <td>True</td>\n",
       "      <td>100</td>\n",
       "      <td>df365</td>\n",
       "      <td>0.674</td>\n",
       "      <td>0.398</td>\n",
       "      <td>0.806</td>\n",
       "      <td>0.501</td>\n",
       "      <td>0.737</td>\n",
       "      <td>0.602</td>\n",
       "      <td>0.439</td>\n",
       "    </tr>\n",
       "  </tbody>\n",
       "</table>\n",
       "</div>"
      ],
      "text/plain": [
       "     auto_train  added_features  oversample  \\\n",
       "361       False               0       False   \n",
       "362       False               0       False   \n",
       "363       False               0       False   \n",
       "364       False               0       False   \n",
       "365       False               0       False   \n",
       "\n",
       "                                              features  train_size  \\\n",
       "361  ['age', 'sex', 'smoking', 'high_blood_pressure...        0.66   \n",
       "362  ['age', 'sex', 'smoking', 'high_blood_pressure...        0.66   \n",
       "363  ['age', 'sex', 'smoking', 'platelets', 'serum_...        0.66   \n",
       "364  ['age', 'sex', 'smoking', 'platelets', 'serum_...        0.66   \n",
       "365  ['age', 'sex', 'smoking', 'serum_creatinine', ...        0.66   \n",
       "\n",
       "     stratified  robustness_iterations results_df  accuracy  recall  \\\n",
       "361        True                    100      df361     0.706   0.302   \n",
       "362        True                    100      df362     0.658   0.257   \n",
       "363        True                    100      df363     0.620   0.402   \n",
       "364        True                    100      df364     0.588   0.354   \n",
       "365        True                    100      df365     0.674   0.398   \n",
       "\n",
       "     selectivity  precision    NPV    FNR  F1_measure  \n",
       "361        0.899      0.604  0.729  0.698       0.396  \n",
       "362        0.850      0.454  0.706  0.743       0.321  \n",
       "363        0.724      0.410  0.717  0.598       0.404  \n",
       "364        0.700      0.363  0.694  0.646       0.356  \n",
       "365        0.806      0.501  0.737  0.602       0.439  "
      ]
     },
     "execution_count": 25,
     "metadata": {},
     "output_type": "execute_result"
    }
   ],
   "source": [
    "test_log = pd.read_excel('results/df/test_log.xlsx').drop(['Unnamed: 0'],axis=1)\n",
    "test_log.round(3).tail(5)"
   ]
  },
  {
   "cell_type": "markdown",
   "id": "4e71a5f8",
   "metadata": {},
   "source": [
    "#### Change number of autotrain routines; fixed features"
   ]
  },
  {
   "cell_type": "code",
   "execution_count": 33,
   "id": "5e2f31e2",
   "metadata": {},
   "outputs": [
    {
     "data": {
      "application/vnd.jupyter.widget-view+json": {
       "model_id": "6d72f07a8c194f1fbd4b6254b3d5d8e9",
       "version_major": 2,
       "version_minor": 0
      },
      "text/plain": [
       "  0%|          | 0/6 [00:00<?, ?it/s]"
      ]
     },
     "metadata": {},
     "output_type": "display_data"
    }
   ],
   "source": [
    "# Test details\n",
    "auto_train = True\n",
    "added_features = [1,2,4,8,16,32]\n",
    "oversample = True\n",
    "stratify = True\n",
    "forced_features = ['ejection_fraction','serum_creatinine']\n",
    "\n",
    "for n_routines in tqdm(added_features):\n",
    "    query = {\n",
    "        'auto_train': auto_train,\n",
    "        'added_features': n_routines,\n",
    "        'features': f\"{forced_features}\",\n",
    "        'oversample': oversample,\n",
    "        'stratified': stratify\n",
    "    }\n",
    "    results_logger = lr.Logger(oversample=oversample,features=query['features'],auto_train=auto_train,\n",
    "                               added_features=n_routines,query=query)\n",
    "    if len(results_logger.find_row()):\n",
    "        pass\n",
    "    else:\n",
    "        # Look for already existing results dataframes, define \"this test number\" as \"last test number + 1\"\n",
    "        test_df_list = glob.glob(\"results/df/*.pkl\")\n",
    "        try:\n",
    "            test_no = max([int(elem.replace(\"results/df/\",\"\").replace(\".pkl\",\"\").replace(\"df\",\"\")) for elem in test_df_list])+1\n",
    "        except:\n",
    "            test_no = 0\n",
    "        df_name = f'df{test_no}'\n",
    "\n",
    "        # Running model and saving results\n",
    "        TT = md.TreeTester(data=data,features=forced_features,target='DEATH_EVENT',oversample=oversample,\n",
    "                           auto_train=auto_train,added_features=n_routines,stratify=stratify)\n",
    "        TT.evaluate()\n",
    "        TT.evaluators.to_pickle(f'results/df/{df_name}.pkl')\n",
    "\n",
    "        # Updating test log file\n",
    "        results_logger = lr.Logger(oversample=oversample,features=forced_features,df_name=df_name,\n",
    "                                   auto_train=auto_train,added_features=n_routines,stratify=stratify,\n",
    "                                   df_results=TT.evaluators)\n",
    "        results_logger.update_log()"
   ]
  }
 ],
 "metadata": {
  "kernelspec": {
   "display_name": "Python 3",
   "language": "python",
   "name": "python3"
  },
  "language_info": {
   "codemirror_mode": {
    "name": "ipython",
    "version": 3
   },
   "file_extension": ".py",
   "mimetype": "text/x-python",
   "name": "python",
   "nbconvert_exporter": "python",
   "pygments_lexer": "ipython3",
   "version": "3.8.8"
  }
 },
 "nbformat": 4,
 "nbformat_minor": 5
}
