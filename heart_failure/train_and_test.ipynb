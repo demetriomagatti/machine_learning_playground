{
 "cells": [
  {
   "cell_type": "code",
   "execution_count": 1,
   "id": "0ad15165",
   "metadata": {},
   "outputs": [
    {
     "data": {
      "application/javascript": [
       "require([\"codemirror/keymap/sublime\", \"notebook/js/cell\", \"base/js/namespace\"],\n",
       "    function(sublime_keymap, cell, IPython){\n",
       "        cell.Cell.options_default.cm_config.keyMap = 'sublime';\n",
       "        var cells = IPython.notebook.get_cells();\n",
       "        for(var cl=0; cl< cells.length ; cl++){\n",
       "            cells[cl].code_mirror.setOption('keyMap', 'sublime');\n",
       "        }\n",
       "    }\n",
       ");\n"
      ],
      "text/plain": [
       "<IPython.core.display.Javascript object>"
      ]
     },
     "metadata": {},
     "output_type": "display_data"
    }
   ],
   "source": [
    "%%javascript\n",
    "require([\"codemirror/keymap/sublime\", \"notebook/js/cell\", \"base/js/namespace\"],\n",
    "    function(sublime_keymap, cell, IPython){\n",
    "        cell.Cell.options_default.cm_config.keyMap = 'sublime';\n",
    "        var cells = IPython.notebook.get_cells();\n",
    "        for(var cl=0; cl< cells.length ; cl++){\n",
    "            cells[cl].code_mirror.setOption('keyMap', 'sublime');\n",
    "        }\n",
    "    }\n",
    ");"
   ]
  },
  {
   "cell_type": "code",
   "execution_count": 2,
   "id": "a7fcc290",
   "metadata": {},
   "outputs": [],
   "source": [
    "import numpy as np\n",
    "import pandas as pd\n",
    "import glob\n",
    "import itertools\n",
    "from openpyxl import load_workbook\n",
    "from tqdm.auto import tqdm\n",
    "import models as md\n",
    "import log_results as lr\n",
    "import matplotlib.pyplot as plt\n",
    "%matplotlib inline"
   ]
  },
  {
   "cell_type": "markdown",
   "id": "af062658",
   "metadata": {},
   "source": [
    "### Exploration"
   ]
  },
  {
   "cell_type": "code",
   "execution_count": 3,
   "id": "7adc8aee",
   "metadata": {},
   "outputs": [
    {
     "data": {
      "text/html": [
       "<div>\n",
       "<style scoped>\n",
       "    .dataframe tbody tr th:only-of-type {\n",
       "        vertical-align: middle;\n",
       "    }\n",
       "\n",
       "    .dataframe tbody tr th {\n",
       "        vertical-align: top;\n",
       "    }\n",
       "\n",
       "    .dataframe thead th {\n",
       "        text-align: right;\n",
       "    }\n",
       "</style>\n",
       "<table border=\"1\" class=\"dataframe\">\n",
       "  <thead>\n",
       "    <tr style=\"text-align: right;\">\n",
       "      <th></th>\n",
       "      <th>age</th>\n",
       "      <th>anaemia</th>\n",
       "      <th>creatinine_phosphokinase</th>\n",
       "      <th>diabetes</th>\n",
       "      <th>ejection_fraction</th>\n",
       "      <th>high_blood_pressure</th>\n",
       "      <th>platelets</th>\n",
       "      <th>serum_creatinine</th>\n",
       "      <th>serum_sodium</th>\n",
       "      <th>sex</th>\n",
       "      <th>smoking</th>\n",
       "      <th>time</th>\n",
       "      <th>DEATH_EVENT</th>\n",
       "    </tr>\n",
       "  </thead>\n",
       "  <tbody>\n",
       "    <tr>\n",
       "      <th>0</th>\n",
       "      <td>75.0</td>\n",
       "      <td>0</td>\n",
       "      <td>582</td>\n",
       "      <td>0</td>\n",
       "      <td>20</td>\n",
       "      <td>1</td>\n",
       "      <td>265000.00</td>\n",
       "      <td>1.9</td>\n",
       "      <td>130</td>\n",
       "      <td>1</td>\n",
       "      <td>0</td>\n",
       "      <td>4</td>\n",
       "      <td>1</td>\n",
       "    </tr>\n",
       "    <tr>\n",
       "      <th>1</th>\n",
       "      <td>55.0</td>\n",
       "      <td>0</td>\n",
       "      <td>7861</td>\n",
       "      <td>0</td>\n",
       "      <td>38</td>\n",
       "      <td>0</td>\n",
       "      <td>263358.03</td>\n",
       "      <td>1.1</td>\n",
       "      <td>136</td>\n",
       "      <td>1</td>\n",
       "      <td>0</td>\n",
       "      <td>6</td>\n",
       "      <td>1</td>\n",
       "    </tr>\n",
       "    <tr>\n",
       "      <th>2</th>\n",
       "      <td>65.0</td>\n",
       "      <td>0</td>\n",
       "      <td>146</td>\n",
       "      <td>0</td>\n",
       "      <td>20</td>\n",
       "      <td>0</td>\n",
       "      <td>162000.00</td>\n",
       "      <td>1.3</td>\n",
       "      <td>129</td>\n",
       "      <td>1</td>\n",
       "      <td>1</td>\n",
       "      <td>7</td>\n",
       "      <td>1</td>\n",
       "    </tr>\n",
       "    <tr>\n",
       "      <th>3</th>\n",
       "      <td>50.0</td>\n",
       "      <td>1</td>\n",
       "      <td>111</td>\n",
       "      <td>0</td>\n",
       "      <td>20</td>\n",
       "      <td>0</td>\n",
       "      <td>210000.00</td>\n",
       "      <td>1.9</td>\n",
       "      <td>137</td>\n",
       "      <td>1</td>\n",
       "      <td>0</td>\n",
       "      <td>7</td>\n",
       "      <td>1</td>\n",
       "    </tr>\n",
       "    <tr>\n",
       "      <th>4</th>\n",
       "      <td>65.0</td>\n",
       "      <td>1</td>\n",
       "      <td>160</td>\n",
       "      <td>1</td>\n",
       "      <td>20</td>\n",
       "      <td>0</td>\n",
       "      <td>327000.00</td>\n",
       "      <td>2.7</td>\n",
       "      <td>116</td>\n",
       "      <td>0</td>\n",
       "      <td>0</td>\n",
       "      <td>8</td>\n",
       "      <td>1</td>\n",
       "    </tr>\n",
       "  </tbody>\n",
       "</table>\n",
       "</div>"
      ],
      "text/plain": [
       "    age  anaemia  creatinine_phosphokinase  diabetes  ejection_fraction  \\\n",
       "0  75.0        0                       582         0                 20   \n",
       "1  55.0        0                      7861         0                 38   \n",
       "2  65.0        0                       146         0                 20   \n",
       "3  50.0        1                       111         0                 20   \n",
       "4  65.0        1                       160         1                 20   \n",
       "\n",
       "   high_blood_pressure  platelets  serum_creatinine  serum_sodium  sex  \\\n",
       "0                    1  265000.00               1.9           130    1   \n",
       "1                    0  263358.03               1.1           136    1   \n",
       "2                    0  162000.00               1.3           129    1   \n",
       "3                    0  210000.00               1.9           137    1   \n",
       "4                    0  327000.00               2.7           116    0   \n",
       "\n",
       "   smoking  time  DEATH_EVENT  \n",
       "0        0     4            1  \n",
       "1        0     6            1  \n",
       "2        1     7            1  \n",
       "3        0     7            1  \n",
       "4        0     8            1  "
      ]
     },
     "execution_count": 3,
     "metadata": {},
     "output_type": "execute_result"
    }
   ],
   "source": [
    "data = pd.read_csv('heart_failure_clinical_records_dataset.csv')\n",
    "data.head()"
   ]
  },
  {
   "cell_type": "code",
   "execution_count": 5,
   "id": "a63ddc49",
   "metadata": {},
   "outputs": [
    {
     "data": {
      "text/plain": [
       "array([299])"
      ]
     },
     "execution_count": 5,
     "metadata": {},
     "output_type": "execute_result"
    }
   ],
   "source": [
    "# data exploration - looking for empty values\n",
    "data.count().unique()"
   ]
  },
  {
   "cell_type": "markdown",
   "id": "8c2743be",
   "metadata": {},
   "source": [
    "### Simple model example"
   ]
  },
  {
   "cell_type": "code",
   "execution_count": 6,
   "id": "f9cf5421",
   "metadata": {},
   "outputs": [],
   "source": [
    "TT = md.TreeTester(data=data,target='DEATH_EVENT')\n",
    "TT.evaluate()"
   ]
  },
  {
   "cell_type": "code",
   "execution_count": 7,
   "id": "6b20ae63",
   "metadata": {},
   "outputs": [
    {
     "data": {
      "image/png": "[encoded data removed]",
      "text/plain": [
       "<Figure size 432x288 with 1 Axes>"
      ]
     },
     "metadata": {
      "needs_background": "light"
     },
     "output_type": "display_data"
    }
   ],
   "source": [
    "TT.plot_results()"
   ]
  },
  {
   "cell_type": "markdown",
   "id": "0724382d",
   "metadata": {},
   "source": [
    "### Running and saving"
   ]
  },
  {
   "cell_type": "markdown",
   "id": "7e934fa4",
   "metadata": {},
   "source": [
    "#### Example: first test config - all features - no oversample - no autotrain"
   ]
  },
  {
   "cell_type": "code",
   "execution_count": 24,
   "id": "7f403284",
   "metadata": {},
   "outputs": [],
   "source": [
    "# Look for already existing results dataframes, define \"this test number\" as \"last test number + 1\"\n",
    "test_df_list = glob.glob(\"results/df/*.pkl\")\n",
    "try:\n",
    "    test_no = max([int(elem.replace(\"results/df/\",\"\").replace(\".pkl\",\"\").replace(\"df\",\"\")) for elem in test_df_list])+1\n",
    "except:\n",
    "    test_no = 0\n",
    "    \n",
    "# Test details\n",
    "features = list(data.drop(['time','DEATH_EVENT'],axis=1).columns)\n",
    "auto_train = False\n",
    "added_features = 0\n",
    "oversample = False\n",
    "df_name = f'df{test_no}'\n",
    "\n",
    "# Checking for pre existing resutlts\n",
    "query = {\n",
    "    'auto_train': auto_train,\n",
    "    'added_features': added_features,\n",
    "    'features': f\"{features}\",\n",
    "    'oversample': oversample\n",
    "}\n",
    "if test_no:\n",
    "    results_logger = lr.Logger(oversample=oversample,features=features,auto_train=auto_train,\n",
    "                           added_features=added_features,query=query)\n",
    "    if len(results_logger.find_row()):\n",
    "        pass\n",
    "    else:\n",
    "        # Running model and saving results\n",
    "        TT = md.TreeTester(data=data.drop(['time'],axis=1),target='DEATH_EVENT',oversample=oversample,\n",
    "                           auto_train=auto_train,added_features=added_features)\n",
    "        TT.evaluate()\n",
    "        TT.evaluators.to_pickle(f'results/df/{df_name}.pkl')\n",
    "\n",
    "        # Updating test log file\n",
    "        results_logger = lr.Logger(oversample=oversample,features=features,df_name=df_name,\n",
    "                                   auto_train=auto_train,added_features=added_features,\n",
    "                                   df_results=TT.evaluators)\n",
    "        results_logger.update_log()\n",
    "else:\n",
    "    TT = md.TreeTester(data=data.drop(['time'],axis=1),target='DEATH_EVENT',oversample=oversample,\n",
    "                   auto_train=auto_train,added_features=added_features)\n",
    "    TT.evaluate()\n",
    "    TT.evaluators.to_pickle(f'results/df/{df_name}.pkl')\n",
    "\n",
    "    # Updating test log file\n",
    "    results_logger = lr.Logger(oversample=oversample,features=features,df_name=df_name,\n",
    "                               auto_train=auto_train,added_features=added_features,\n",
    "                               df_results=TT.evaluators)\n",
    "    results_logger.update_log()"
   ]
  },
  {
   "cell_type": "markdown",
   "id": "7326bdd1",
   "metadata": {},
   "source": [
    "#### Adding more and more and more configurations"
   ]
  },
  {
   "cell_type": "code",
   "execution_count": 30,
   "id": "42d3ea60",
   "metadata": {},
   "outputs": [
    {
     "data": {
      "application/vnd.jupyter.widget-view+json": {
       "model_id": "a76ebc3990c5415f9e1bc665f5e592c5",
       "version_major": 2,
       "version_minor": 0
      },
      "text/plain": [
       "  0%|          | 0/55 [00:00<?, ?it/s]"
      ]
     },
     "metadata": {},
     "output_type": "display_data"
    },
    {
     "name": "stderr",
     "output_type": "stream",
     "text": [
      "/home/demetrio/git_repo/machine_learning_playground/heart_failure/models.py:106: RuntimeWarning: invalid value encountered in long_scalars\n",
      "  recall.append(TP/(TP+FN))\n",
      "/home/demetrio/git_repo/machine_learning_playground/heart_failure/models.py:110: RuntimeWarning: invalid value encountered in long_scalars\n",
      "  FNR.append(FN/(FN+TP))\n",
      "/home/demetrio/git_repo/machine_learning_playground/heart_failure/models.py:107: RuntimeWarning: invalid value encountered in long_scalars\n",
      "  selectivity.append(TN/(TN+FP))\n",
      "/home/demetrio/git_repo/machine_learning_playground/heart_failure/models.py:106: RuntimeWarning: invalid value encountered in long_scalars\n",
      "  recall.append(TP/(TP+FN))\n",
      "/home/demetrio/git_repo/machine_learning_playground/heart_failure/models.py:110: RuntimeWarning: invalid value encountered in long_scalars\n",
      "  FNR.append(FN/(FN+TP))\n",
      "/home/demetrio/git_repo/machine_learning_playground/heart_failure/models.py:106: RuntimeWarning: invalid value encountered in long_scalars\n",
      "  recall.append(TP/(TP+FN))\n",
      "/home/demetrio/git_repo/machine_learning_playground/heart_failure/models.py:110: RuntimeWarning: invalid value encountered in long_scalars\n",
      "  FNR.append(FN/(FN+TP))\n",
      "/home/demetrio/git_repo/machine_learning_playground/heart_failure/models.py:106: RuntimeWarning: invalid value encountered in long_scalars\n",
      "  recall.append(TP/(TP+FN))\n",
      "/home/demetrio/git_repo/machine_learning_playground/heart_failure/models.py:110: RuntimeWarning: invalid value encountered in long_scalars\n",
      "  FNR.append(FN/(FN+TP))\n",
      "/home/demetrio/git_repo/machine_learning_playground/heart_failure/models.py:107: RuntimeWarning: invalid value encountered in long_scalars\n",
      "  selectivity.append(TN/(TN+FP))\n"
     ]
    }
   ],
   "source": [
    "# Test details\n",
    "auto_train = True\n",
    "added_features = 1\n",
    "oversample = True\n",
    "\n",
    "for item in tqdm(list(itertools.combinations(data.drop(['time','DEATH_EVENT'],axis=1).columns,2))):\n",
    "    # Check if pre-existing results can be found\n",
    "    query = {\n",
    "        'auto_train': auto_train,\n",
    "        'added_features': added_features,\n",
    "        'features': f\"{list(item)}\",\n",
    "        'oversample': oversample\n",
    "    }\n",
    "    results_logger = lr.Logger(oversample=oversample,features=list(item),auto_train=auto_train,\n",
    "                               added_features=added_features,query=query)\n",
    "    if len(results_logger.find_row()):\n",
    "        pass\n",
    "    else:\n",
    "        # Look for already existing results dataframes, define \"this test number\" as \"last test number + 1\"\n",
    "        test_df_list = glob.glob(\"results/df/*.pkl\")\n",
    "        try:\n",
    "            test_no = max([int(elem.replace(\"results/df/\",\"\").replace(\".pkl\",\"\").replace(\"df\",\"\")) for elem in test_df_list])+1\n",
    "        except:\n",
    "            test_no = 0\n",
    "        df_name = f'df{test_no}'\n",
    "\n",
    "        # Running model and saving results\n",
    "        TT = md.TreeTester(data=data,features=list(item),target='DEATH_EVENT',oversample=oversample,\n",
    "                           auto_train=auto_train,added_features=added_features)\n",
    "        TT.evaluate()\n",
    "        TT.evaluators.to_pickle(f'results/df/{df_name}.pkl')\n",
    "\n",
    "        # Updating test log file\n",
    "        results_logger = lr.Logger(oversample=oversample,features=list(item),df_name=df_name,\n",
    "                                   auto_train=auto_train,added_features=added_features,\n",
    "                                   df_results=TT.evaluators)\n",
    "        results_logger.update_log()"
   ]
  },
  {
   "cell_type": "markdown",
   "id": "03654d1e",
   "metadata": {},
   "source": [
    "#### Force some features to be always in"
   ]
  },
  {
   "cell_type": "code",
   "execution_count": 45,
   "id": "7bf2ca29",
   "metadata": {},
   "outputs": [
    {
     "data": {
      "application/vnd.jupyter.widget-view+json": {
       "model_id": "48a0c1c142644b1caba2d0af9db2a5bd",
       "version_major": 2,
       "version_minor": 0
      },
      "text/plain": [
       "  0%|          | 0/28 [00:00<?, ?it/s]"
      ]
     },
     "metadata": {},
     "output_type": "display_data"
    },
    {
     "name": "stderr",
     "output_type": "stream",
     "text": [
      "/home/demetrio/git_repo/machine_learning_playground/heart_failure/models.py:106: RuntimeWarning: invalid value encountered in long_scalars\n",
      "  recall.append(TP/(TP+FN))\n",
      "/home/demetrio/git_repo/machine_learning_playground/heart_failure/models.py:110: RuntimeWarning: invalid value encountered in long_scalars\n",
      "  FNR.append(FN/(FN+TP))\n",
      "/home/demetrio/git_repo/machine_learning_playground/heart_failure/models.py:107: RuntimeWarning: invalid value encountered in long_scalars\n",
      "  selectivity.append(TN/(TN+FP))\n",
      "/home/demetrio/git_repo/machine_learning_playground/heart_failure/models.py:106: RuntimeWarning: invalid value encountered in long_scalars\n",
      "  recall.append(TP/(TP+FN))\n",
      "/home/demetrio/git_repo/machine_learning_playground/heart_failure/models.py:110: RuntimeWarning: invalid value encountered in long_scalars\n",
      "  FNR.append(FN/(FN+TP))\n",
      "/home/demetrio/git_repo/machine_learning_playground/heart_failure/models.py:107: RuntimeWarning: invalid value encountered in long_scalars\n",
      "  selectivity.append(TN/(TN+FP))\n",
      "/home/demetrio/git_repo/machine_learning_playground/heart_failure/models.py:106: RuntimeWarning: invalid value encountered in long_scalars\n",
      "  recall.append(TP/(TP+FN))\n",
      "/home/demetrio/git_repo/machine_learning_playground/heart_failure/models.py:110: RuntimeWarning: invalid value encountered in long_scalars\n",
      "  FNR.append(FN/(FN+TP))\n",
      "/home/demetrio/git_repo/machine_learning_playground/heart_failure/models.py:106: RuntimeWarning: invalid value encountered in long_scalars\n",
      "  recall.append(TP/(TP+FN))\n",
      "/home/demetrio/git_repo/machine_learning_playground/heart_failure/models.py:110: RuntimeWarning: invalid value encountered in long_scalars\n",
      "  FNR.append(FN/(FN+TP))\n",
      "/home/demetrio/git_repo/machine_learning_playground/heart_failure/models.py:106: RuntimeWarning: invalid value encountered in long_scalars\n",
      "  recall.append(TP/(TP+FN))\n",
      "/home/demetrio/git_repo/machine_learning_playground/heart_failure/models.py:110: RuntimeWarning: invalid value encountered in long_scalars\n",
      "  FNR.append(FN/(FN+TP))\n"
     ]
    }
   ],
   "source": [
    "# Test details\n",
    "auto_train = False\n",
    "added_features = 0\n",
    "oversample = False\n",
    "forced_features = ['age','sex','smoking']\n",
    "\n",
    "for item in tqdm(list(itertools.combinations(data.drop(['time','DEATH_EVENT']+forced_features,axis=1).columns,2))):\n",
    "    query = {\n",
    "        'auto_train': auto_train,\n",
    "        'added_features': added_features,\n",
    "        'features': f\"{forced_features+list(item)}\",\n",
    "        'oversample': oversample\n",
    "    }\n",
    "    results_logger = lr.Logger(oversample=oversample,features=list(item),auto_train=auto_train,\n",
    "                               added_features=added_features,query=query)\n",
    "    if len(results_logger.find_row()):\n",
    "        pass\n",
    "    else:\n",
    "        # Look for already existing results dataframes, define \"this test number\" as \"last test number + 1\"\n",
    "        test_df_list = glob.glob(\"results/df/*.pkl\")\n",
    "        try:\n",
    "            test_no = max([int(elem.replace(\"results/df/\",\"\").replace(\".pkl\",\"\").replace(\"df\",\"\")) for elem in test_df_list])+1\n",
    "        except:\n",
    "            test_no = 0\n",
    "        df_name = f'df{test_no}'\n",
    "\n",
    "        # Running model and saving results\n",
    "        TT = md.TreeTester(data=data,features=list(item),target='DEATH_EVENT',oversample=oversample,\n",
    "                           auto_train=auto_train,added_features=added_features)\n",
    "        TT.evaluate()\n",
    "        TT.evaluators.to_pickle(f'results/df/{df_name}.pkl')\n",
    "\n",
    "        # Updating test log file\n",
    "        results_logger = lr.Logger(oversample=oversample,features=forced_features+list(item),df_name=df_name,\n",
    "                                   auto_train=auto_train,added_features=added_features,\n",
    "                                   df_results=TT.evaluators)\n",
    "        results_logger.update_log()"
   ]
  },
  {
   "cell_type": "markdown",
   "id": "25c01a09",
   "metadata": {},
   "source": [
    "#### Results dataframe"
   ]
  },
  {
   "cell_type": "code",
   "execution_count": 26,
   "id": "97023472",
   "metadata": {},
   "outputs": [
    {
     "data": {
      "text/html": [
       "<div>\n",
       "<style scoped>\n",
       "    .dataframe tbody tr th:only-of-type {\n",
       "        vertical-align: middle;\n",
       "    }\n",
       "\n",
       "    .dataframe tbody tr th {\n",
       "        vertical-align: top;\n",
       "    }\n",
       "\n",
       "    .dataframe thead th {\n",
       "        text-align: right;\n",
       "    }\n",
       "</style>\n",
       "<table border=\"1\" class=\"dataframe\">\n",
       "  <thead>\n",
       "    <tr style=\"text-align: right;\">\n",
       "      <th></th>\n",
       "      <th>auto_train</th>\n",
       "      <th>added_features</th>\n",
       "      <th>oversample</th>\n",
       "      <th>features</th>\n",
       "      <th>train_size</th>\n",
       "      <th>robustness_iterations</th>\n",
       "      <th>results_df</th>\n",
       "      <th>accuracy</th>\n",
       "      <th>recall</th>\n",
       "      <th>selectivity</th>\n",
       "      <th>precision</th>\n",
       "      <th>NPV</th>\n",
       "      <th>FNR</th>\n",
       "      <th>F1_measure</th>\n",
       "    </tr>\n",
       "  </thead>\n",
       "  <tbody>\n",
       "    <tr>\n",
       "      <th>2</th>\n",
       "      <td>1</td>\n",
       "      <td>1</td>\n",
       "      <td>0</td>\n",
       "      <td>['age', 'anaemia', 'creatinine_phosphokinase',...</td>\n",
       "      <td>0.66</td>\n",
       "      <td>100</td>\n",
       "      <td>df2</td>\n",
       "      <td>0.676</td>\n",
       "      <td>0.760</td>\n",
       "      <td>0.505</td>\n",
       "      <td>0.763</td>\n",
       "      <td>0.498</td>\n",
       "      <td>0.240</td>\n",
       "      <td>0.759</td>\n",
       "    </tr>\n",
       "    <tr>\n",
       "      <th>7</th>\n",
       "      <td>1</td>\n",
       "      <td>10</td>\n",
       "      <td>0</td>\n",
       "      <td>['age', 'anaemia', 'creatinine_phosphokinase',...</td>\n",
       "      <td>0.66</td>\n",
       "      <td>100</td>\n",
       "      <td>df7</td>\n",
       "      <td>0.672</td>\n",
       "      <td>0.754</td>\n",
       "      <td>0.501</td>\n",
       "      <td>0.766</td>\n",
       "      <td>0.483</td>\n",
       "      <td>0.246</td>\n",
       "      <td>0.758</td>\n",
       "    </tr>\n",
       "    <tr>\n",
       "      <th>5</th>\n",
       "      <td>1</td>\n",
       "      <td>4</td>\n",
       "      <td>0</td>\n",
       "      <td>['age', 'anaemia', 'creatinine_phosphokinase',...</td>\n",
       "      <td>0.66</td>\n",
       "      <td>100</td>\n",
       "      <td>df5</td>\n",
       "      <td>0.676</td>\n",
       "      <td>0.764</td>\n",
       "      <td>0.495</td>\n",
       "      <td>0.762</td>\n",
       "      <td>0.495</td>\n",
       "      <td>0.236</td>\n",
       "      <td>0.761</td>\n",
       "    </tr>\n",
       "    <tr>\n",
       "      <th>3</th>\n",
       "      <td>1</td>\n",
       "      <td>1</td>\n",
       "      <td>1</td>\n",
       "      <td>['age', 'anaemia', 'creatinine_phosphokinase',...</td>\n",
       "      <td>0.66</td>\n",
       "      <td>100</td>\n",
       "      <td>df3</td>\n",
       "      <td>0.694</td>\n",
       "      <td>0.807</td>\n",
       "      <td>0.518</td>\n",
       "      <td>0.727</td>\n",
       "      <td>0.626</td>\n",
       "      <td>0.193</td>\n",
       "      <td>0.763</td>\n",
       "    </tr>\n",
       "    <tr>\n",
       "      <th>12</th>\n",
       "      <td>1</td>\n",
       "      <td>10</td>\n",
       "      <td>1</td>\n",
       "      <td>['age', 'anaemia', 'creatinine_phosphokinase',...</td>\n",
       "      <td>0.66</td>\n",
       "      <td>100</td>\n",
       "      <td>df12</td>\n",
       "      <td>0.695</td>\n",
       "      <td>0.804</td>\n",
       "      <td>0.529</td>\n",
       "      <td>0.728</td>\n",
       "      <td>0.631</td>\n",
       "      <td>0.196</td>\n",
       "      <td>0.762</td>\n",
       "    </tr>\n",
       "  </tbody>\n",
       "</table>\n",
       "</div>"
      ],
      "text/plain": [
       "    auto_train  added_features  oversample  \\\n",
       "2            1               1           0   \n",
       "7            1              10           0   \n",
       "5            1               4           0   \n",
       "3            1               1           1   \n",
       "12           1              10           1   \n",
       "\n",
       "                                             features  train_size  \\\n",
       "2   ['age', 'anaemia', 'creatinine_phosphokinase',...        0.66   \n",
       "7   ['age', 'anaemia', 'creatinine_phosphokinase',...        0.66   \n",
       "5   ['age', 'anaemia', 'creatinine_phosphokinase',...        0.66   \n",
       "3   ['age', 'anaemia', 'creatinine_phosphokinase',...        0.66   \n",
       "12  ['age', 'anaemia', 'creatinine_phosphokinase',...        0.66   \n",
       "\n",
       "    robustness_iterations results_df  accuracy  recall  selectivity  \\\n",
       "2                     100        df2     0.676   0.760        0.505   \n",
       "7                     100        df7     0.672   0.754        0.501   \n",
       "5                     100        df5     0.676   0.764        0.495   \n",
       "3                     100        df3     0.694   0.807        0.518   \n",
       "12                    100       df12     0.695   0.804        0.529   \n",
       "\n",
       "    precision    NPV    FNR  F1_measure  \n",
       "2       0.763  0.498  0.240       0.759  \n",
       "7       0.766  0.483  0.246       0.758  \n",
       "5       0.762  0.495  0.236       0.761  \n",
       "3       0.727  0.626  0.193       0.763  \n",
       "12      0.728  0.631  0.196       0.762  "
      ]
     },
     "execution_count": 26,
     "metadata": {},
     "output_type": "execute_result"
    }
   ],
   "source": [
    "test_log = pd.read_excel('results/df/test_log.xlsx').drop(['Unnamed: 0'],axis=1)\n",
    "test_log.round(3).sample(5)"
   ]
  }
 ],
 "metadata": {
  "kernelspec": {
   "display_name": "Python 3",
   "language": "python",
   "name": "python3"
  },
  "language_info": {
   "codemirror_mode": {
    "name": "ipython",
    "version": 3
   },
   "file_extension": ".py",
   "mimetype": "text/x-python",
   "name": "python",
   "nbconvert_exporter": "python",
   "pygments_lexer": "ipython3",
   "version": "3.8.8"
  }
 },
 "nbformat": 4,
 "nbformat_minor": 5
}
