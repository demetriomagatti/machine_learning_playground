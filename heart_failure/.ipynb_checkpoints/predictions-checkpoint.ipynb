{
 "cells": [
  {
   "cell_type": "code",
   "execution_count": 1,
   "id": "0ad15165",
   "metadata": {},
   "outputs": [
    {
     "data": {
      "application/javascript": [
       "require([\"codemirror/keymap/sublime\", \"notebook/js/cell\", \"base/js/namespace\"],\n",
       "    function(sublime_keymap, cell, IPython){\n",
       "        cell.Cell.options_default.cm_config.keyMap = 'sublime';\n",
       "        var cells = IPython.notebook.get_cells();\n",
       "        for(var cl=0; cl< cells.length ; cl++){\n",
       "            cells[cl].code_mirror.setOption('keyMap', 'sublime');\n",
       "        }\n",
       "    }\n",
       ");\n"
      ],
      "text/plain": [
       "<IPython.core.display.Javascript object>"
      ]
     },
     "metadata": {},
     "output_type": "display_data"
    }
   ],
   "source": [
    "%%javascript\n",
    "require([\"codemirror/keymap/sublime\", \"notebook/js/cell\", \"base/js/namespace\"],\n",
    "    function(sublime_keymap, cell, IPython){\n",
    "        cell.Cell.options_default.cm_config.keyMap = 'sublime';\n",
    "        var cells = IPython.notebook.get_cells();\n",
    "        for(var cl=0; cl< cells.length ; cl++){\n",
    "            cells[cl].code_mirror.setOption('keyMap', 'sublime');\n",
    "        }\n",
    "    }\n",
    ");"
   ]
  },
  {
   "cell_type": "code",
   "execution_count": 12,
   "id": "a7fcc290",
   "metadata": {},
   "outputs": [],
   "source": [
    "import numpy as np\n",
    "import pandas as pd\n",
    "from tqdm.auto import tqdm\n",
    "import models as md\n",
    "import matplotlib.pyplot as plt\n",
    "%matplotlib inline"
   ]
  },
  {
   "cell_type": "markdown",
   "id": "af062658",
   "metadata": {},
   "source": [
    "### Exploration"
   ]
  },
  {
   "cell_type": "code",
   "execution_count": 3,
   "id": "7adc8aee",
   "metadata": {},
   "outputs": [
    {
     "data": {
      "text/html": [
       "<div>\n",
       "<style scoped>\n",
       "    .dataframe tbody tr th:only-of-type {\n",
       "        vertical-align: middle;\n",
       "    }\n",
       "\n",
       "    .dataframe tbody tr th {\n",
       "        vertical-align: top;\n",
       "    }\n",
       "\n",
       "    .dataframe thead th {\n",
       "        text-align: right;\n",
       "    }\n",
       "</style>\n",
       "<table border=\"1\" class=\"dataframe\">\n",
       "  <thead>\n",
       "    <tr style=\"text-align: right;\">\n",
       "      <th></th>\n",
       "      <th>age</th>\n",
       "      <th>anaemia</th>\n",
       "      <th>creatinine_phosphokinase</th>\n",
       "      <th>diabetes</th>\n",
       "      <th>ejection_fraction</th>\n",
       "      <th>high_blood_pressure</th>\n",
       "      <th>platelets</th>\n",
       "      <th>serum_creatinine</th>\n",
       "      <th>serum_sodium</th>\n",
       "      <th>sex</th>\n",
       "      <th>smoking</th>\n",
       "      <th>time</th>\n",
       "      <th>DEATH_EVENT</th>\n",
       "    </tr>\n",
       "  </thead>\n",
       "  <tbody>\n",
       "    <tr>\n",
       "      <th>0</th>\n",
       "      <td>75.0</td>\n",
       "      <td>0</td>\n",
       "      <td>582</td>\n",
       "      <td>0</td>\n",
       "      <td>20</td>\n",
       "      <td>1</td>\n",
       "      <td>265000.00</td>\n",
       "      <td>1.9</td>\n",
       "      <td>130</td>\n",
       "      <td>1</td>\n",
       "      <td>0</td>\n",
       "      <td>4</td>\n",
       "      <td>1</td>\n",
       "    </tr>\n",
       "    <tr>\n",
       "      <th>1</th>\n",
       "      <td>55.0</td>\n",
       "      <td>0</td>\n",
       "      <td>7861</td>\n",
       "      <td>0</td>\n",
       "      <td>38</td>\n",
       "      <td>0</td>\n",
       "      <td>263358.03</td>\n",
       "      <td>1.1</td>\n",
       "      <td>136</td>\n",
       "      <td>1</td>\n",
       "      <td>0</td>\n",
       "      <td>6</td>\n",
       "      <td>1</td>\n",
       "    </tr>\n",
       "    <tr>\n",
       "      <th>2</th>\n",
       "      <td>65.0</td>\n",
       "      <td>0</td>\n",
       "      <td>146</td>\n",
       "      <td>0</td>\n",
       "      <td>20</td>\n",
       "      <td>0</td>\n",
       "      <td>162000.00</td>\n",
       "      <td>1.3</td>\n",
       "      <td>129</td>\n",
       "      <td>1</td>\n",
       "      <td>1</td>\n",
       "      <td>7</td>\n",
       "      <td>1</td>\n",
       "    </tr>\n",
       "    <tr>\n",
       "      <th>3</th>\n",
       "      <td>50.0</td>\n",
       "      <td>1</td>\n",
       "      <td>111</td>\n",
       "      <td>0</td>\n",
       "      <td>20</td>\n",
       "      <td>0</td>\n",
       "      <td>210000.00</td>\n",
       "      <td>1.9</td>\n",
       "      <td>137</td>\n",
       "      <td>1</td>\n",
       "      <td>0</td>\n",
       "      <td>7</td>\n",
       "      <td>1</td>\n",
       "    </tr>\n",
       "    <tr>\n",
       "      <th>4</th>\n",
       "      <td>65.0</td>\n",
       "      <td>1</td>\n",
       "      <td>160</td>\n",
       "      <td>1</td>\n",
       "      <td>20</td>\n",
       "      <td>0</td>\n",
       "      <td>327000.00</td>\n",
       "      <td>2.7</td>\n",
       "      <td>116</td>\n",
       "      <td>0</td>\n",
       "      <td>0</td>\n",
       "      <td>8</td>\n",
       "      <td>1</td>\n",
       "    </tr>\n",
       "  </tbody>\n",
       "</table>\n",
       "</div>"
      ],
      "text/plain": [
       "    age  anaemia  creatinine_phosphokinase  diabetes  ejection_fraction  \\\n",
       "0  75.0        0                       582         0                 20   \n",
       "1  55.0        0                      7861         0                 38   \n",
       "2  65.0        0                       146         0                 20   \n",
       "3  50.0        1                       111         0                 20   \n",
       "4  65.0        1                       160         1                 20   \n",
       "\n",
       "   high_blood_pressure  platelets  serum_creatinine  serum_sodium  sex  \\\n",
       "0                    1  265000.00               1.9           130    1   \n",
       "1                    0  263358.03               1.1           136    1   \n",
       "2                    0  162000.00               1.3           129    1   \n",
       "3                    0  210000.00               1.9           137    1   \n",
       "4                    0  327000.00               2.7           116    0   \n",
       "\n",
       "   smoking  time  DEATH_EVENT  \n",
       "0        0     4            1  \n",
       "1        0     6            1  \n",
       "2        1     7            1  \n",
       "3        0     7            1  \n",
       "4        0     8            1  "
      ]
     },
     "execution_count": 3,
     "metadata": {},
     "output_type": "execute_result"
    }
   ],
   "source": [
    "data = pd.read_csv('heart_failure_clinical_records_dataset.csv')\n",
    "data.head()"
   ]
  },
  {
   "cell_type": "code",
   "execution_count": 4,
   "id": "a63ddc49",
   "metadata": {},
   "outputs": [
    {
     "data": {
      "text/plain": [
       "array([299])"
      ]
     },
     "execution_count": 4,
     "metadata": {},
     "output_type": "execute_result"
    }
   ],
   "source": [
    "# data exploration - looking for empty values\n",
    "data.count().unique()"
   ]
  },
  {
   "cell_type": "markdown",
   "id": "8c2743be",
   "metadata": {},
   "source": [
    "### Simple model example"
   ]
  },
  {
   "cell_type": "code",
   "execution_count": 15,
   "id": "fe272384",
   "metadata": {},
   "outputs": [
    {
     "data": {
      "application/vnd.jupyter.widget-view+json": {
       "model_id": "ea7221b0946b43ae8b1615a7d2998349",
       "version_major": 2,
       "version_minor": 0
      },
      "text/plain": [
       "  0%|          | 0/100 [00:00<?, ?it/s]"
      ]
     },
     "metadata": {},
     "output_type": "display_data"
    }
   ],
   "source": [
    "TT = md.TreeTester(data=data,target='DEATH_EVENT')\n",
    "TT.evaluate()"
   ]
  },
  {
   "cell_type": "code",
   "execution_count": 16,
   "id": "b61e4f38",
   "metadata": {},
   "outputs": [
    {
     "data": {
      "image/png": "[encoded data removed]",
      "text/plain": [
       "<Figure size 432x288 with 1 Axes>"
      ]
     },
     "metadata": {
      "needs_background": "light"
     },
     "output_type": "display_data"
    }
   ],
   "source": [
    "TT.plot_results()"
   ]
  },
  {
   "cell_type": "code",
   "execution_count": 39,
   "id": "756e1336",
   "metadata": {
    "collapsed": true
   },
   "outputs": [
    {
     "data": {
      "application/vnd.jupyter.widget-view+json": {
       "model_id": "",
       "version_major": 2,
       "version_minor": 0
      },
      "text/plain": [
       "  0%|          | 0/1 [00:00<?, ?it/s]"
      ]
     },
     "metadata": {},
     "output_type": "display_data"
    },
    {
     "data": {
      "application/vnd.jupyter.widget-view+json": {
       "model_id": "",
       "version_major": 2,
       "version_minor": 0
      },
      "text/plain": [
       "  0%|          | 0/25 [00:00<?, ?it/s]"
      ]
     },
     "metadata": {},
     "output_type": "display_data"
    },
    {
     "name": "stderr",
     "output_type": "stream",
     "text": [
      "/home/demetrio/git_repo/machine_learning_playground/heart_failure/models.py:83: RuntimeWarning: invalid value encountered in long_scalars\n",
      "  recall.append(TP/(TP+FN))\n",
      "/home/demetrio/git_repo/machine_learning_playground/heart_failure/models.py:83: RuntimeWarning: invalid value encountered in long_scalars\n",
      "  recall.append(TP/(TP+FN))\n",
      "/home/demetrio/git_repo/machine_learning_playground/heart_failure/models.py:83: RuntimeWarning: invalid value encountered in long_scalars\n",
      "  recall.append(TP/(TP+FN))\n",
      "/home/demetrio/git_repo/machine_learning_playground/heart_failure/models.py:83: RuntimeWarning: invalid value encountered in long_scalars\n",
      "  recall.append(TP/(TP+FN))\n",
      "/home/demetrio/git_repo/machine_learning_playground/heart_failure/models.py:83: RuntimeWarning: invalid value encountered in long_scalars\n",
      "  recall.append(TP/(TP+FN))\n"
     ]
    }
   ],
   "source": [
    "# Train Size Test\n",
    "# optimal train dataset size\n",
    "# random extraction\n",
    "\n",
    "train_size_array = np.arange(0.01,0.06,0.05)\n",
    "accuracy_tst = []\n",
    "recall_tst = []\n",
    "precision_tst = []\n",
    "F1_measure_tst = []\n",
    "accuracy_tst_std = []\n",
    "recall_tst_std = []\n",
    "precision_tst_std = []\n",
    "F1_measure_tst_std = []\n",
    "\n",
    "for train_size in tqdm(train_size_array):\n",
    "    TT = md.TreeTester(data=data,target='DEATH_EVENT',train_size=train_size,robustness_iterations=25)\n",
    "    TT.evaluate()\n",
    "    accuracy_tst.append(TT.evaluators.accuracy.mean())\n",
    "    recall_tst.append(TT.evaluators.recall.mean())\n",
    "    precision_tst.append(TT.evaluators.precision.mean())\n",
    "    F1_measure_tst.append(TT.evaluators.F1_measure.mean())\n",
    "    accuracy_tst_std.append(TT.evaluators.accuracy.std())\n",
    "    recall_tst_std.append(TT.evaluators.recall.std())\n",
    "    precision_tst_std.append(TT.evaluators.precision.std())\n",
    "    F1_measure_tst_std.append(TT.evaluators.F1_measure.std())"
   ]
  },
  {
   "cell_type": "code",
   "execution_count": 40,
   "id": "6a4e782c",
   "metadata": {},
   "outputs": [
    {
     "data": {
      "image/png": "[encoded data removed]",
      "text/plain": [
       "<Figure size 1008x288 with 4 Axes>"
      ]
     },
     "metadata": {
      "needs_background": "light"
     },
     "output_type": "display_data"
    }
   ],
   "source": [
    "fig,axs = plt.subplots(1,4,figsize=(14,4),sharey=True)\n",
    "\n",
    "axs[0].errorbar(train_size_array,accuracy_tst,yerr=accuracy_tst_std,fmt='.--',label='accuracy')\n",
    "axs[1].errorbar(train_size_array,recall_tst,yerr=recall_tst_std,fmt='.--',label='recall')\n",
    "axs[2].errorbar(train_size_array,precision_tst,yerr=precision_tst_std,fmt='.--',label='precision')\n",
    "axs[3].errorbar(train_size_array,F1_measure_tst,yerr=F1_measure_tst_std,fmt='.--',label='F1_measure')\n",
    "\n",
    "for ax in axs:\n",
    "    ax.set_xlabel('train dataset size')\n",
    "    ax.legend()\n",
    "\n",
    "fig.tight_layout()"
   ]
  },
  {
   "cell_type": "code",
   "execution_count": 42,
   "id": "a1115dbb",
   "metadata": {},
   "outputs": [
    {
     "data": {
      "text/html": [
       "<div>\n",
       "<style scoped>\n",
       "    .dataframe tbody tr th:only-of-type {\n",
       "        vertical-align: middle;\n",
       "    }\n",
       "\n",
       "    .dataframe tbody tr th {\n",
       "        vertical-align: top;\n",
       "    }\n",
       "\n",
       "    .dataframe thead th {\n",
       "        text-align: right;\n",
       "    }\n",
       "</style>\n",
       "<table border=\"1\" class=\"dataframe\">\n",
       "  <thead>\n",
       "    <tr style=\"text-align: right;\">\n",
       "      <th></th>\n",
       "      <th>accuracy</th>\n",
       "      <th>recall</th>\n",
       "      <th>precision</th>\n",
       "      <th>F1_measure</th>\n",
       "    </tr>\n",
       "  </thead>\n",
       "  <tbody>\n",
       "    <tr>\n",
       "      <th>0</th>\n",
       "      <td>0.703704</td>\n",
       "      <td>0.711111</td>\n",
       "      <td>0.950495</td>\n",
       "      <td>0.813559</td>\n",
       "    </tr>\n",
       "    <tr>\n",
       "      <th>1</th>\n",
       "      <td>0.676768</td>\n",
       "      <td>0.676768</td>\n",
       "      <td>1.000000</td>\n",
       "      <td>0.807229</td>\n",
       "    </tr>\n",
       "    <tr>\n",
       "      <th>2</th>\n",
       "      <td>0.505051</td>\n",
       "      <td>0.692308</td>\n",
       "      <td>0.490099</td>\n",
       "      <td>0.573913</td>\n",
       "    </tr>\n",
       "    <tr>\n",
       "      <th>3</th>\n",
       "      <td>0.505051</td>\n",
       "      <td>0.638191</td>\n",
       "      <td>0.628713</td>\n",
       "      <td>0.633416</td>\n",
       "    </tr>\n",
       "    <tr>\n",
       "      <th>4</th>\n",
       "      <td>0.585859</td>\n",
       "      <td>0.704663</td>\n",
       "      <td>0.673267</td>\n",
       "      <td>0.688608</td>\n",
       "    </tr>\n",
       "    <tr>\n",
       "      <th>5</th>\n",
       "      <td>0.316498</td>\n",
       "      <td>NaN</td>\n",
       "      <td>0.000000</td>\n",
       "      <td>NaN</td>\n",
       "    </tr>\n",
       "    <tr>\n",
       "      <th>6</th>\n",
       "      <td>0.707071</td>\n",
       "      <td>0.780488</td>\n",
       "      <td>0.792079</td>\n",
       "      <td>0.786241</td>\n",
       "    </tr>\n",
       "    <tr>\n",
       "      <th>7</th>\n",
       "      <td>0.676768</td>\n",
       "      <td>0.676768</td>\n",
       "      <td>1.000000</td>\n",
       "      <td>0.807229</td>\n",
       "    </tr>\n",
       "    <tr>\n",
       "      <th>8</th>\n",
       "      <td>0.676768</td>\n",
       "      <td>0.676768</td>\n",
       "      <td>1.000000</td>\n",
       "      <td>0.807229</td>\n",
       "    </tr>\n",
       "    <tr>\n",
       "      <th>9</th>\n",
       "      <td>0.316498</td>\n",
       "      <td>NaN</td>\n",
       "      <td>0.000000</td>\n",
       "      <td>NaN</td>\n",
       "    </tr>\n",
       "    <tr>\n",
       "      <th>10</th>\n",
       "      <td>0.356902</td>\n",
       "      <td>0.627907</td>\n",
       "      <td>0.133663</td>\n",
       "      <td>0.220408</td>\n",
       "    </tr>\n",
       "    <tr>\n",
       "      <th>11</th>\n",
       "      <td>0.457912</td>\n",
       "      <td>0.664000</td>\n",
       "      <td>0.410891</td>\n",
       "      <td>0.507645</td>\n",
       "    </tr>\n",
       "    <tr>\n",
       "      <th>12</th>\n",
       "      <td>0.316498</td>\n",
       "      <td>NaN</td>\n",
       "      <td>0.000000</td>\n",
       "      <td>NaN</td>\n",
       "    </tr>\n",
       "    <tr>\n",
       "      <th>13</th>\n",
       "      <td>0.643098</td>\n",
       "      <td>0.679104</td>\n",
       "      <td>0.900990</td>\n",
       "      <td>0.774468</td>\n",
       "    </tr>\n",
       "    <tr>\n",
       "      <th>14</th>\n",
       "      <td>0.676768</td>\n",
       "      <td>0.676768</td>\n",
       "      <td>1.000000</td>\n",
       "      <td>0.807229</td>\n",
       "    </tr>\n",
       "    <tr>\n",
       "      <th>15</th>\n",
       "      <td>0.326599</td>\n",
       "      <td>0.510204</td>\n",
       "      <td>0.247525</td>\n",
       "      <td>0.333333</td>\n",
       "    </tr>\n",
       "    <tr>\n",
       "      <th>16</th>\n",
       "      <td>0.585859</td>\n",
       "      <td>0.704663</td>\n",
       "      <td>0.673267</td>\n",
       "      <td>0.688608</td>\n",
       "    </tr>\n",
       "    <tr>\n",
       "      <th>17</th>\n",
       "      <td>0.316498</td>\n",
       "      <td>NaN</td>\n",
       "      <td>0.000000</td>\n",
       "      <td>NaN</td>\n",
       "    </tr>\n",
       "    <tr>\n",
       "      <th>18</th>\n",
       "      <td>0.757576</td>\n",
       "      <td>0.845745</td>\n",
       "      <td>0.787129</td>\n",
       "      <td>0.815385</td>\n",
       "    </tr>\n",
       "    <tr>\n",
       "      <th>19</th>\n",
       "      <td>0.676768</td>\n",
       "      <td>0.676768</td>\n",
       "      <td>1.000000</td>\n",
       "      <td>0.807229</td>\n",
       "    </tr>\n",
       "    <tr>\n",
       "      <th>20</th>\n",
       "      <td>0.676768</td>\n",
       "      <td>0.676768</td>\n",
       "      <td>1.000000</td>\n",
       "      <td>0.807229</td>\n",
       "    </tr>\n",
       "    <tr>\n",
       "      <th>21</th>\n",
       "      <td>0.535354</td>\n",
       "      <td>0.683908</td>\n",
       "      <td>0.589109</td>\n",
       "      <td>0.632979</td>\n",
       "    </tr>\n",
       "    <tr>\n",
       "      <th>22</th>\n",
       "      <td>0.360269</td>\n",
       "      <td>0.620000</td>\n",
       "      <td>0.153465</td>\n",
       "      <td>0.246032</td>\n",
       "    </tr>\n",
       "    <tr>\n",
       "      <th>23</th>\n",
       "      <td>0.316498</td>\n",
       "      <td>NaN</td>\n",
       "      <td>0.000000</td>\n",
       "      <td>NaN</td>\n",
       "    </tr>\n",
       "    <tr>\n",
       "      <th>24</th>\n",
       "      <td>0.676768</td>\n",
       "      <td>0.676768</td>\n",
       "      <td>1.000000</td>\n",
       "      <td>0.807229</td>\n",
       "    </tr>\n",
       "  </tbody>\n",
       "</table>\n",
       "</div>"
      ],
      "text/plain": [
       "    accuracy    recall  precision  F1_measure\n",
       "0   0.703704  0.711111   0.950495    0.813559\n",
       "1   0.676768  0.676768   1.000000    0.807229\n",
       "2   0.505051  0.692308   0.490099    0.573913\n",
       "3   0.505051  0.638191   0.628713    0.633416\n",
       "4   0.585859  0.704663   0.673267    0.688608\n",
       "5   0.316498       NaN   0.000000         NaN\n",
       "6   0.707071  0.780488   0.792079    0.786241\n",
       "7   0.676768  0.676768   1.000000    0.807229\n",
       "8   0.676768  0.676768   1.000000    0.807229\n",
       "9   0.316498       NaN   0.000000         NaN\n",
       "10  0.356902  0.627907   0.133663    0.220408\n",
       "11  0.457912  0.664000   0.410891    0.507645\n",
       "12  0.316498       NaN   0.000000         NaN\n",
       "13  0.643098  0.679104   0.900990    0.774468\n",
       "14  0.676768  0.676768   1.000000    0.807229\n",
       "15  0.326599  0.510204   0.247525    0.333333\n",
       "16  0.585859  0.704663   0.673267    0.688608\n",
       "17  0.316498       NaN   0.000000         NaN\n",
       "18  0.757576  0.845745   0.787129    0.815385\n",
       "19  0.676768  0.676768   1.000000    0.807229\n",
       "20  0.676768  0.676768   1.000000    0.807229\n",
       "21  0.535354  0.683908   0.589109    0.632979\n",
       "22  0.360269  0.620000   0.153465    0.246032\n",
       "23  0.316498       NaN   0.000000         NaN\n",
       "24  0.676768  0.676768   1.000000    0.807229"
      ]
     },
     "execution_count": 42,
     "metadata": {},
     "output_type": "execute_result"
    }
   ],
   "source": [
    "TT.evaluators"
   ]
  },
  {
   "cell_type": "code",
   "execution_count": null,
   "id": "169e5e61",
   "metadata": {},
   "outputs": [],
   "source": []
  },
  {
   "cell_type": "code",
   "execution_count": null,
   "id": "dadb3bf1",
   "metadata": {},
   "outputs": [],
   "source": [
    "# optimal train dataset size\n",
    "# stratified sampling"
   ]
  },
  {
   "cell_type": "code",
   "execution_count": null,
   "id": "e39e9513",
   "metadata": {},
   "outputs": [],
   "source": [
    "# feature selection"
   ]
  },
  {
   "cell_type": "code",
   "execution_count": null,
   "id": "6fc078b1",
   "metadata": {},
   "outputs": [],
   "source": [
    "# oversampling"
   ]
  }
 ],
 "metadata": {
  "kernelspec": {
   "display_name": "Python 3",
   "language": "python",
   "name": "python3"
  },
  "language_info": {
   "codemirror_mode": {
    "name": "ipython",
    "version": 3
   },
   "file_extension": ".py",
   "mimetype": "text/x-python",
   "name": "python",
   "nbconvert_exporter": "python",
   "pygments_lexer": "ipython3",
   "version": "3.8.8"
  }
 },
 "nbformat": 4,
 "nbformat_minor": 5
}
