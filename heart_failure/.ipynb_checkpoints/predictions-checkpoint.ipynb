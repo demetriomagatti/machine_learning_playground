{
 "cells": [
  {
   "cell_type": "code",
   "execution_count": 1,
   "id": "0ad15165",
   "metadata": {},
   "outputs": [
    {
     "data": {
      "application/javascript": [
       "require([\"codemirror/keymap/sublime\", \"notebook/js/cell\", \"base/js/namespace\"],\n",
       "    function(sublime_keymap, cell, IPython){\n",
       "        cell.Cell.options_default.cm_config.keyMap = 'sublime';\n",
       "        var cells = IPython.notebook.get_cells();\n",
       "        for(var cl=0; cl< cells.length ; cl++){\n",
       "            cells[cl].code_mirror.setOption('keyMap', 'sublime');\n",
       "        }\n",
       "    }\n",
       ");\n"
      ],
      "text/plain": [
       "<IPython.core.display.Javascript object>"
      ]
     },
     "metadata": {},
     "output_type": "display_data"
    }
   ],
   "source": [
    "%%javascript\n",
    "require([\"codemirror/keymap/sublime\", \"notebook/js/cell\", \"base/js/namespace\"],\n",
    "    function(sublime_keymap, cell, IPython){\n",
    "        cell.Cell.options_default.cm_config.keyMap = 'sublime';\n",
    "        var cells = IPython.notebook.get_cells();\n",
    "        for(var cl=0; cl< cells.length ; cl++){\n",
    "            cells[cl].code_mirror.setOption('keyMap', 'sublime');\n",
    "        }\n",
    "    }\n",
    ");"
   ]
  },
  {
   "cell_type": "code",
   "execution_count": 2,
   "id": "a7fcc290",
   "metadata": {},
   "outputs": [],
   "source": [
    "import numpy as np\n",
    "import pandas as pd\n",
    "import matplotlib.pyplot as plt\n",
    "%matplotlib inline"
   ]
  },
  {
   "cell_type": "markdown",
   "id": "af062658",
   "metadata": {},
   "source": [
    "### Exploration"
   ]
  },
  {
   "cell_type": "code",
   "execution_count": 3,
   "id": "7adc8aee",
   "metadata": {},
   "outputs": [
    {
     "data": {
      "text/html": [
       "<div>\n",
       "<style scoped>\n",
       "    .dataframe tbody tr th:only-of-type {\n",
       "        vertical-align: middle;\n",
       "    }\n",
       "\n",
       "    .dataframe tbody tr th {\n",
       "        vertical-align: top;\n",
       "    }\n",
       "\n",
       "    .dataframe thead th {\n",
       "        text-align: right;\n",
       "    }\n",
       "</style>\n",
       "<table border=\"1\" class=\"dataframe\">\n",
       "  <thead>\n",
       "    <tr style=\"text-align: right;\">\n",
       "      <th></th>\n",
       "      <th>age</th>\n",
       "      <th>anaemia</th>\n",
       "      <th>creatinine_phosphokinase</th>\n",
       "      <th>diabetes</th>\n",
       "      <th>ejection_fraction</th>\n",
       "      <th>high_blood_pressure</th>\n",
       "      <th>platelets</th>\n",
       "      <th>serum_creatinine</th>\n",
       "      <th>serum_sodium</th>\n",
       "      <th>sex</th>\n",
       "      <th>smoking</th>\n",
       "      <th>time</th>\n",
       "      <th>DEATH_EVENT</th>\n",
       "    </tr>\n",
       "  </thead>\n",
       "  <tbody>\n",
       "    <tr>\n",
       "      <th>0</th>\n",
       "      <td>75.0</td>\n",
       "      <td>0</td>\n",
       "      <td>582</td>\n",
       "      <td>0</td>\n",
       "      <td>20</td>\n",
       "      <td>1</td>\n",
       "      <td>265000.00</td>\n",
       "      <td>1.9</td>\n",
       "      <td>130</td>\n",
       "      <td>1</td>\n",
       "      <td>0</td>\n",
       "      <td>4</td>\n",
       "      <td>1</td>\n",
       "    </tr>\n",
       "    <tr>\n",
       "      <th>1</th>\n",
       "      <td>55.0</td>\n",
       "      <td>0</td>\n",
       "      <td>7861</td>\n",
       "      <td>0</td>\n",
       "      <td>38</td>\n",
       "      <td>0</td>\n",
       "      <td>263358.03</td>\n",
       "      <td>1.1</td>\n",
       "      <td>136</td>\n",
       "      <td>1</td>\n",
       "      <td>0</td>\n",
       "      <td>6</td>\n",
       "      <td>1</td>\n",
       "    </tr>\n",
       "    <tr>\n",
       "      <th>2</th>\n",
       "      <td>65.0</td>\n",
       "      <td>0</td>\n",
       "      <td>146</td>\n",
       "      <td>0</td>\n",
       "      <td>20</td>\n",
       "      <td>0</td>\n",
       "      <td>162000.00</td>\n",
       "      <td>1.3</td>\n",
       "      <td>129</td>\n",
       "      <td>1</td>\n",
       "      <td>1</td>\n",
       "      <td>7</td>\n",
       "      <td>1</td>\n",
       "    </tr>\n",
       "    <tr>\n",
       "      <th>3</th>\n",
       "      <td>50.0</td>\n",
       "      <td>1</td>\n",
       "      <td>111</td>\n",
       "      <td>0</td>\n",
       "      <td>20</td>\n",
       "      <td>0</td>\n",
       "      <td>210000.00</td>\n",
       "      <td>1.9</td>\n",
       "      <td>137</td>\n",
       "      <td>1</td>\n",
       "      <td>0</td>\n",
       "      <td>7</td>\n",
       "      <td>1</td>\n",
       "    </tr>\n",
       "    <tr>\n",
       "      <th>4</th>\n",
       "      <td>65.0</td>\n",
       "      <td>1</td>\n",
       "      <td>160</td>\n",
       "      <td>1</td>\n",
       "      <td>20</td>\n",
       "      <td>0</td>\n",
       "      <td>327000.00</td>\n",
       "      <td>2.7</td>\n",
       "      <td>116</td>\n",
       "      <td>0</td>\n",
       "      <td>0</td>\n",
       "      <td>8</td>\n",
       "      <td>1</td>\n",
       "    </tr>\n",
       "  </tbody>\n",
       "</table>\n",
       "</div>"
      ],
      "text/plain": [
       "    age  anaemia  creatinine_phosphokinase  diabetes  ejection_fraction  \\\n",
       "0  75.0        0                       582         0                 20   \n",
       "1  55.0        0                      7861         0                 38   \n",
       "2  65.0        0                       146         0                 20   \n",
       "3  50.0        1                       111         0                 20   \n",
       "4  65.0        1                       160         1                 20   \n",
       "\n",
       "   high_blood_pressure  platelets  serum_creatinine  serum_sodium  sex  \\\n",
       "0                    1  265000.00               1.9           130    1   \n",
       "1                    0  263358.03               1.1           136    1   \n",
       "2                    0  162000.00               1.3           129    1   \n",
       "3                    0  210000.00               1.9           137    1   \n",
       "4                    0  327000.00               2.7           116    0   \n",
       "\n",
       "   smoking  time  DEATH_EVENT  \n",
       "0        0     4            1  \n",
       "1        0     6            1  \n",
       "2        1     7            1  \n",
       "3        0     7            1  \n",
       "4        0     8            1  "
      ]
     },
     "execution_count": 3,
     "metadata": {},
     "output_type": "execute_result"
    }
   ],
   "source": [
    "data = pd.read_csv('heart_failure_clinical_records_dataset.csv')\n",
    "data.head()"
   ]
  },
  {
   "cell_type": "code",
   "execution_count": 4,
   "id": "a63ddc49",
   "metadata": {},
   "outputs": [
    {
     "data": {
      "text/plain": [
       "array([299])"
      ]
     },
     "execution_count": 4,
     "metadata": {},
     "output_type": "execute_result"
    }
   ],
   "source": [
    "# data exploration - looking for empty values\n",
    "data.count().unique()"
   ]
  },
  {
   "cell_type": "markdown",
   "id": "a1633abc",
   "metadata": {},
   "source": [
    "### Preprocessing"
   ]
  },
  {
   "cell_type": "markdown",
   "id": "8c2743be",
   "metadata": {},
   "source": [
    "### Simple models"
   ]
  },
  {
   "cell_type": "code",
   "execution_count": 5,
   "id": "94548e65",
   "metadata": {},
   "outputs": [],
   "source": [
    "import sklearn\n",
    "from tqdm.auto import tqdm\n",
    "from sklearn import tree\n",
    "from sklearn.model_selection import train_test_split\n",
    "from sklearn import metrics"
   ]
  },
  {
   "cell_type": "code",
   "execution_count": 6,
   "id": "ee22fe5a",
   "metadata": {},
   "outputs": [],
   "source": [
    "X = data.drop(['DEATH_EVENT'],axis=1)\n",
    "y = data['DEATH_EVENT']"
   ]
  },
  {
   "cell_type": "code",
   "execution_count": 7,
   "id": "ef4aade2",
   "metadata": {},
   "outputs": [
    {
     "data": {
      "application/vnd.jupyter.widget-view+json": {
       "model_id": "7b1bc16a22d341dc8a98be469e06a76a",
       "version_major": 2,
       "version_minor": 0
      },
      "text/plain": [
       "  0%|          | 0/100 [00:00<?, ?it/s]"
      ]
     },
     "metadata": {},
     "output_type": "display_data"
    },
    {
     "name": "stdout",
     "output_type": "stream",
     "text": [
      "accuracy mean: 0.76\n",
      "accuracy std:  0.04\n"
     ]
    }
   ],
   "source": [
    "# multiple train-and-test with DT to evaluates model robustness\n",
    "# 100 iterations\n",
    "# all features used\n",
    "# 66/34 holdout\n",
    "\n",
    "clf = tree.DecisionTreeClassifier()\n",
    "accuracy_values = []\n",
    "for i in tqdm(range(100)):\n",
    "    X_train, X_test, y_train, y_test = train_test_split(X, y, train_size=0.66, test_size=0.34)\n",
    "    clf.fit(X_train, y_train)\n",
    "    y_pred = clf.predict(X_test)\n",
    "    accuracy_values.append(metrics.accuracy_score(y_test, y_pred))\n",
    "\n",
    "accuracy_values = np.array(accuracy_values)\n",
    "print(f'accuracy mean: {accuracy_values.mean():.2f}')\n",
    "print(f'accuracy std:  {accuracy_values.std():.2f}')"
   ]
  },
  {
   "cell_type": "code",
   "execution_count": 8,
   "id": "6f0cc7a7",
   "metadata": {},
   "outputs": [
    {
     "data": {
      "application/vnd.jupyter.widget-view+json": {
       "model_id": "60dc6d173e9c4fb7b488e4564b918a66",
       "version_major": 2,
       "version_minor": 0
      },
      "text/plain": [
       "  0%|          | 0/100 [00:00<?, ?it/s]"
      ]
     },
     "metadata": {},
     "output_type": "display_data"
    },
    {
     "name": "stdout",
     "output_type": "stream",
     "text": [
      "accuracy mean: 0.64\n",
      "accuracy std:  0.05\n"
     ]
    }
   ],
   "source": [
    "# multiple train-and-test with DT to evaluates model robustness\n",
    "# 100 iterations\n",
    "# a bit of feature selection\n",
    "# 66/34 holdout\n",
    "\n",
    "features = ['age','anaemia','sex','smoking']\n",
    "clf = tree.DecisionTreeClassifier()\n",
    "accuracy_values = []\n",
    "for i in tqdm(range(100)):\n",
    "    X_train, X_test, y_train, y_test = train_test_split(X[features], y, train_size=0.66, test_size=0.34)\n",
    "    clf.fit(X_train, y_train)\n",
    "    y_pred = clf.predict(X_test)\n",
    "    accuracy_values.append(metrics.accuracy_score(y_test, y_pred))\n",
    "\n",
    "accuracy_values = np.array(accuracy_values)\n",
    "print(f'accuracy mean: {accuracy_values.mean():.2f}')\n",
    "print(f'accuracy std:  {accuracy_values.std():.2f}')"
   ]
  },
  {
   "cell_type": "code",
   "execution_count": 9,
   "id": "72baa6ba",
   "metadata": {},
   "outputs": [
    {
     "data": {
      "application/vnd.jupyter.widget-view+json": {
       "model_id": "11bca40ec6a644d08f6a1bea359b7d36",
       "version_major": 2,
       "version_minor": 0
      },
      "text/plain": [
       "  0%|          | 0/100 [00:00<?, ?it/s]"
      ]
     },
     "metadata": {},
     "output_type": "display_data"
    },
    {
     "name": "stdout",
     "output_type": "stream",
     "text": [
      "accuracy mean: 0.86\n",
      "accuracy std:  0.04\n"
     ]
    }
   ],
   "source": [
    "# actually a silly idea: using predictions ad features\n",
    "# adding up to 10 new features\n",
    "# 100 iterations\n",
    "# a bit of feature selection\n",
    "# 66/34 holdout\n",
    "\n",
    "features = ['age','anaemia','sex','smoking']\n",
    "clf = tree.DecisionTreeClassifier()\n",
    "accuracy_values = []\n",
    "\n",
    "for i in tqdm(range(100)):\n",
    "    X_train, X_test, y_train, y_test = train_test_split(X[features], y, train_size=0.66, test_size=0.34)\n",
    "    for j in range(20):\n",
    "        clf.fit(X_train, y_train)\n",
    "        X_train[f'pred_{j}'] = clf.predict(X_train)==y_train\n",
    "        X_test[f'pred_{j}'] = clf.predict(X_test)==y_test\n",
    "    y_pred = clf.predict(X_test.drop([f'pred_{j}'],axis=1))\n",
    "    accuracy_values.append(metrics.accuracy_score(y_test, y_pred))\n",
    "    \n",
    "accuracy_values = np.array(accuracy_values)\n",
    "print(f'accuracy mean: {accuracy_values.mean():.2f}')\n",
    "print(f'accuracy std:  {accuracy_values.std():.2f}')"
   ]
  },
  {
   "cell_type": "code",
   "execution_count": 10,
   "id": "3f74c8a0",
   "metadata": {},
   "outputs": [
    {
     "data": {
      "application/vnd.jupyter.widget-view+json": {
       "model_id": "cf6b8d24eb09431e981d6a8e53e5bdcb",
       "version_major": 2,
       "version_minor": 0
      },
      "text/plain": [
       "  0%|          | 0/20 [00:00<?, ?it/s]"
      ]
     },
     "metadata": {},
     "output_type": "display_data"
    }
   ],
   "source": [
    "# actually a silly idea: using predictions ad features\n",
    "# adding up to 50 new features\n",
    "# 100 iterations\n",
    "# a bit of feature selection\n",
    "# 66/34 holdout\n",
    "\n",
    "features = ['age','anaemia','sex','smoking']\n",
    "clf = tree.DecisionTreeClassifier()\n",
    "accuracy_values = []\n",
    "\n",
    "for i in tqdm(range(20)):\n",
    "    X_train, X_test, y_train, y_test = train_test_split(X[features], y, train_size=0.66, test_size=0.34)\n",
    "    this_accuracy = []\n",
    "    for j in range(50):\n",
    "        clf.fit(X_train, y_train)\n",
    "        y_pred = clf.predict(X_test)\n",
    "        this_accuracy.append(np.array(metrics.accuracy_score(y_test, y_pred)).mean())\n",
    "        X_train[f'pred_{j}'] = clf.predict(X_train)==y_train\n",
    "        X_test[f'pred_{j}'] = clf.predict(X_test)==y_test\n",
    "    accuracy_values.append(this_accuracy)"
   ]
  },
  {
   "cell_type": "code",
   "execution_count": 11,
   "id": "acac25a5",
   "metadata": {
    "scrolled": true
   },
   "outputs": [
    {
     "data": {
      "image/png": "[encoded data removed]",
      "text/plain": [
       "<Figure size 720x288 with 1 Axes>"
      ]
     },
     "metadata": {
      "needs_background": "light"
     },
     "output_type": "display_data"
    }
   ],
   "source": [
    "fig,ax = plt.subplots(figsize=(10,4))\n",
    "\n",
    "for value in accuracy_values:\n",
    "    ax.plot(np.arange(len(value)),value,'.-')\n",
    "    ax.set_xlabel('# added features')\n",
    "    ax.set_ylabel('accuracy')\n",
    "\n",
    "fig.tight_layout()"
   ]
  },
  {
   "cell_type": "code",
   "execution_count": 12,
   "id": "c3495131",
   "metadata": {},
   "outputs": [
    {
     "data": {
      "text/plain": [
       "array([[54, 12],\n",
       "       [ 6, 30]])"
      ]
     },
     "execution_count": 12,
     "metadata": {},
     "output_type": "execute_result"
    }
   ],
   "source": [
    "from sklearn.metrics import confusion_matrix\n",
    "confusion_matrix(y_test,y_pred)"
   ]
  },
  {
   "cell_type": "markdown",
   "id": "e30c6fb7",
   "metadata": {},
   "source": [
    "### Oversampling"
   ]
  },
  {
   "cell_type": "code",
   "execution_count": 13,
   "id": "5d72cd88",
   "metadata": {},
   "outputs": [],
   "source": [
    "from imblearn.over_sampling import SMOTE\n",
    "oversample = SMOTE()\n",
    "X_over, y_over = oversample.fit_resample(X, y)"
   ]
  },
  {
   "cell_type": "code",
   "execution_count": 14,
   "id": "8cb6557e",
   "metadata": {},
   "outputs": [
    {
     "data": {
      "text/html": [
       "<div>\n",
       "<style scoped>\n",
       "    .dataframe tbody tr th:only-of-type {\n",
       "        vertical-align: middle;\n",
       "    }\n",
       "\n",
       "    .dataframe tbody tr th {\n",
       "        vertical-align: top;\n",
       "    }\n",
       "\n",
       "    .dataframe thead th {\n",
       "        text-align: right;\n",
       "    }\n",
       "</style>\n",
       "<table border=\"1\" class=\"dataframe\">\n",
       "  <thead>\n",
       "    <tr style=\"text-align: right;\">\n",
       "      <th></th>\n",
       "      <th>age</th>\n",
       "      <th>anaemia</th>\n",
       "      <th>creatinine_phosphokinase</th>\n",
       "      <th>diabetes</th>\n",
       "      <th>ejection_fraction</th>\n",
       "      <th>high_blood_pressure</th>\n",
       "      <th>platelets</th>\n",
       "      <th>serum_creatinine</th>\n",
       "      <th>serum_sodium</th>\n",
       "      <th>sex</th>\n",
       "      <th>smoking</th>\n",
       "      <th>time</th>\n",
       "    </tr>\n",
       "  </thead>\n",
       "  <tbody>\n",
       "    <tr>\n",
       "      <th>112</th>\n",
       "      <td>50.0</td>\n",
       "      <td>0</td>\n",
       "      <td>369</td>\n",
       "      <td>1</td>\n",
       "      <td>25</td>\n",
       "      <td>0</td>\n",
       "      <td>252000.0</td>\n",
       "      <td>1.6</td>\n",
       "      <td>136</td>\n",
       "      <td>1</td>\n",
       "      <td>0</td>\n",
       "      <td>90</td>\n",
       "    </tr>\n",
       "    <tr>\n",
       "      <th>159</th>\n",
       "      <td>59.0</td>\n",
       "      <td>1</td>\n",
       "      <td>129</td>\n",
       "      <td>0</td>\n",
       "      <td>45</td>\n",
       "      <td>1</td>\n",
       "      <td>362000.0</td>\n",
       "      <td>1.1</td>\n",
       "      <td>139</td>\n",
       "      <td>1</td>\n",
       "      <td>1</td>\n",
       "      <td>121</td>\n",
       "    </tr>\n",
       "    <tr>\n",
       "      <th>247</th>\n",
       "      <td>64.0</td>\n",
       "      <td>0</td>\n",
       "      <td>143</td>\n",
       "      <td>0</td>\n",
       "      <td>25</td>\n",
       "      <td>0</td>\n",
       "      <td>246000.0</td>\n",
       "      <td>2.4</td>\n",
       "      <td>135</td>\n",
       "      <td>1</td>\n",
       "      <td>0</td>\n",
       "      <td>214</td>\n",
       "    </tr>\n",
       "    <tr>\n",
       "      <th>272</th>\n",
       "      <td>67.0</td>\n",
       "      <td>0</td>\n",
       "      <td>213</td>\n",
       "      <td>0</td>\n",
       "      <td>38</td>\n",
       "      <td>0</td>\n",
       "      <td>215000.0</td>\n",
       "      <td>1.2</td>\n",
       "      <td>133</td>\n",
       "      <td>0</td>\n",
       "      <td>0</td>\n",
       "      <td>245</td>\n",
       "    </tr>\n",
       "    <tr>\n",
       "      <th>251</th>\n",
       "      <td>55.0</td>\n",
       "      <td>0</td>\n",
       "      <td>572</td>\n",
       "      <td>1</td>\n",
       "      <td>35</td>\n",
       "      <td>0</td>\n",
       "      <td>231000.0</td>\n",
       "      <td>0.8</td>\n",
       "      <td>143</td>\n",
       "      <td>0</td>\n",
       "      <td>0</td>\n",
       "      <td>215</td>\n",
       "    </tr>\n",
       "  </tbody>\n",
       "</table>\n",
       "</div>"
      ],
      "text/plain": [
       "      age  anaemia  creatinine_phosphokinase  diabetes  ejection_fraction  \\\n",
       "112  50.0        0                       369         1                 25   \n",
       "159  59.0        1                       129         0                 45   \n",
       "247  64.0        0                       143         0                 25   \n",
       "272  67.0        0                       213         0                 38   \n",
       "251  55.0        0                       572         1                 35   \n",
       "\n",
       "     high_blood_pressure  platelets  serum_creatinine  serum_sodium  sex  \\\n",
       "112                    0   252000.0               1.6           136    1   \n",
       "159                    1   362000.0               1.1           139    1   \n",
       "247                    0   246000.0               2.4           135    1   \n",
       "272                    0   215000.0               1.2           133    0   \n",
       "251                    0   231000.0               0.8           143    0   \n",
       "\n",
       "     smoking  time  \n",
       "112        0    90  \n",
       "159        1   121  \n",
       "247        0   214  \n",
       "272        0   245  \n",
       "251        0   215  "
      ]
     },
     "execution_count": 14,
     "metadata": {},
     "output_type": "execute_result"
    }
   ],
   "source": [
    "X_over.sample(5)"
   ]
  },
  {
   "cell_type": "code",
   "execution_count": 15,
   "id": "fafe5cd1",
   "metadata": {},
   "outputs": [
    {
     "data": {
      "application/vnd.jupyter.widget-view+json": {
       "model_id": "ff0f73c9fd83411e9d852895cb9b26b6",
       "version_major": 2,
       "version_minor": 0
      },
      "text/plain": [
       "  0%|          | 0/20 [00:00<?, ?it/s]"
      ]
     },
     "metadata": {},
     "output_type": "display_data"
    }
   ],
   "source": [
    "# actually a silly idea: using predictions ad features\n",
    "# adding up to 50 new features\n",
    "# 100 iterations\n",
    "# a bit of feature selection\n",
    "# 66/34 holdout\n",
    "\n",
    "features = ['age','anaemia','sex','smoking']\n",
    "clf = tree.DecisionTreeClassifier()\n",
    "accuracy_values = []\n",
    "\n",
    "for i in tqdm(range(20)):\n",
    "    X_train, X_test, y_train, y_test = train_test_split(X_over[features], y_over, train_size=0.66, test_size=0.34)\n",
    "    this_accuracy = []\n",
    "    for j in range(50):\n",
    "        clf.fit(X_train, y_train)\n",
    "        y_pred = clf.predict(X_test)\n",
    "        this_accuracy.append(np.array(metrics.accuracy_score(y_test, y_pred)).mean())\n",
    "        X_train[f'pred_{j}'] = clf.predict(X_train)==y_train\n",
    "        X_test[f'pred_{j}'] = clf.predict(X_test)==y_test\n",
    "    accuracy_values.append(this_accuracy)"
   ]
  },
  {
   "cell_type": "code",
   "execution_count": 16,
   "id": "c36d8641",
   "metadata": {},
   "outputs": [
    {
     "data": {
      "image/png": "[encoded data removed]",
      "text/plain": [
       "<Figure size 720x288 with 1 Axes>"
      ]
     },
     "metadata": {
      "needs_background": "light"
     },
     "output_type": "display_data"
    }
   ],
   "source": [
    "fig,ax = plt.subplots(figsize=(10,4))\n",
    "\n",
    "for value in accuracy_values:\n",
    "    ax.plot(np.arange(len(value)),value,'.-')\n",
    "    ax.set_xlabel('# added features')\n",
    "    ax.set_ylabel('accuracy')\n",
    "\n",
    "fig.tight_layout()"
   ]
  },
  {
   "cell_type": "code",
   "execution_count": 17,
   "id": "a5c2fc37",
   "metadata": {},
   "outputs": [],
   "source": [
    "results = y_test.to_frame().rename(columns={\"DEATH_EVENT\": \"true_value\"})\n",
    "results['predicted'] = y_pred"
   ]
  },
  {
   "cell_type": "code",
   "execution_count": 18,
   "id": "9129d8da",
   "metadata": {},
   "outputs": [
    {
     "data": {
      "text/plain": [
       "array([[50, 16],\n",
       "       [ 4, 26]])"
      ]
     },
     "execution_count": 18,
     "metadata": {},
     "output_type": "execute_result"
    }
   ],
   "source": [
    "confusion_matrix(results.query('index<299').true_value,results.query('index<299').predicted)"
   ]
  },
  {
   "cell_type": "markdown",
   "id": "2c3b8852",
   "metadata": {},
   "source": [
    "### Test zone"
   ]
  },
  {
   "cell_type": "code",
   "execution_count": 62,
   "id": "08297269",
   "metadata": {},
   "outputs": [
    {
     "ename": "ModuleNotFoundError",
     "evalue": "No module named 'seaborn'",
     "output_type": "error",
     "traceback": [
      "\u001b[0;31m---------------------------------------------------------------------------\u001b[0m",
      "\u001b[0;31mModuleNotFoundError\u001b[0m                       Traceback (most recent call last)",
      "\u001b[0;32m<ipython-input-62-bf09dc7d036c>\u001b[0m in \u001b[0;36m<module>\u001b[0;34m\u001b[0m\n\u001b[0;32m----> 1\u001b[0;31m \u001b[0;32mimport\u001b[0m \u001b[0mseaborn\u001b[0m \u001b[0;32mas\u001b[0m \u001b[0msns\u001b[0m\u001b[0;34m\u001b[0m\u001b[0;34m\u001b[0m\u001b[0m\n\u001b[0m\u001b[1;32m      2\u001b[0m \u001b[0;34m\u001b[0m\u001b[0m\n\u001b[1;32m      3\u001b[0m \u001b[0;32mclass\u001b[0m \u001b[0mTreeTester\u001b[0m\u001b[0;34m(\u001b[0m\u001b[0;34m)\u001b[0m\u001b[0;34m:\u001b[0m\u001b[0;34m\u001b[0m\u001b[0;34m\u001b[0m\u001b[0m\n\u001b[1;32m      4\u001b[0m     \u001b[0;32mdef\u001b[0m \u001b[0m__init__\u001b[0m\u001b[0;34m(\u001b[0m\u001b[0mself\u001b[0m\u001b[0;34m,\u001b[0m\u001b[0;34m*\u001b[0m\u001b[0margs\u001b[0m\u001b[0;34m,\u001b[0m\u001b[0;34m**\u001b[0m\u001b[0mkwargs\u001b[0m\u001b[0;34m)\u001b[0m\u001b[0;34m:\u001b[0m\u001b[0;34m\u001b[0m\u001b[0;34m\u001b[0m\u001b[0m\n\u001b[1;32m      5\u001b[0m         \u001b[0;31m# Set default parameters\u001b[0m\u001b[0;34m\u001b[0m\u001b[0;34m\u001b[0m\u001b[0;34m\u001b[0m\u001b[0m\n",
      "\u001b[0;31mModuleNotFoundError\u001b[0m: No module named 'seaborn'"
     ]
    }
   ],
   "source": [
    "import seaborn as sns\n",
    "\n",
    "class TreeTester():\n",
    "    def __init__(self,*args,**kwargs):\n",
    "        # Set default parameters\n",
    "        self.features = None\n",
    "        self.train_size = 0.66\n",
    "        self.robustness_iterations = 100\n",
    "        self.auto_train = False\n",
    "        self.added_features = 0\n",
    "        self.oversample = False\n",
    "        self.data = pd.DataFrame()\n",
    "        self.X_train = pd.DataFrame() \n",
    "        self.X_test = pd.DataFrame() \n",
    "        self.y_train = pd.DataFrame() \n",
    "        self.y_test = pd.DataFrame() \n",
    "        self.y_pred = pd.DataFrame() \n",
    "        self.target = ''\n",
    "        self.classifier = tree.DecisionTreeClassifier()\n",
    "        # Update with provided parameters\n",
    "        self.__dict__.update(kwargs)\n",
    "        # Actual initialization\n",
    "        self.original_rows = len(self.data)\n",
    "        self.X = self.data.drop([self.target],axis=1)\n",
    "        self.y = self.data[self.target]\n",
    "        self.evaluators = {}\n",
    "        \n",
    "        \n",
    "    def train(self):\n",
    "        # oversampling, if needed\n",
    "        X = self.X\n",
    "        y = self.y\n",
    "        if self.oversample:\n",
    "            oversample = SMOTE()\n",
    "            X,y = oversample.fit_resample(X,y)\n",
    "        # feature selection\n",
    "        if self.features:\n",
    "            X_train, X_test, y_train, y_test = train_test_split(X[features], y, train_size=self.train_size,\n",
    "                                                                test_size=1-self.train_size)\n",
    "        else:\n",
    "            X_train, X_test, y_train, y_test = train_test_split(X, y, train_size=self.train_size,\n",
    "                                                                test_size=1-self.train_size)\n",
    "        # using model's guess as a feature\n",
    "        if self.auto_train:\n",
    "            for j in range(self.added_features):\n",
    "                self.classifier.fit(X_train, y_train)\n",
    "                y_pred = self.classifier.predict(X_test)\n",
    "                X_train[f'pred_{j}'] = self.classifier.predict(X_train)==y_train\n",
    "                X_test[f'pred_{j}'] = self.classifier.predict(X_test)==y_test\n",
    "        self.classifier.fit(X_train, y_train)\n",
    "        self.X_train = X_train\n",
    "        self.X_test = X_test\n",
    "        self.y_train = y_train\n",
    "        self.y_test = y_test\n",
    "        \n",
    "        \n",
    "    def evaluate(self):\n",
    "        accuracy = []\n",
    "        recall = []\n",
    "        precision = []\n",
    "        F1_measure = []\n",
    "        for i in range(self.robustness_iterations):\n",
    "            self.train()\n",
    "            results = self.y_test.to_frame().rename(columns={self.target: \"true_value\"})\n",
    "            self.y_pred = self.classifier.predict(self.X_test)\n",
    "            results['predicted'] = self.y_pred\n",
    "            cm = confusion_matrix(results.query('index<@self.original_rows').true_value,results.query('index<@self.original_rows').predicted)\n",
    "            TP = cm[0][0]\n",
    "            FP = cm[0][1]\n",
    "            FN = cm[1][0]\n",
    "            TN = cm[1][1]\n",
    "            accuracy.append((TP+TN)/(TP+TN+FP+FN))\n",
    "            recall.append(TP/(TP+FN))\n",
    "            precision.append(TP/(TP+FP))\n",
    "            F1_measure.append(2*precision[-1]*recall[-1]/(precision[-1]+recall[-1]))\n",
    "        self.evaluators['accuracy'] = accuracy\n",
    "        self.evaluators['recall'] = recall\n",
    "        self.evaluators['precision'] = precision\n",
    "        self.evaluators['F1_measure'] = F1_measure\n",
    "        \n",
    "    \n",
    "    def plot_results(self):\n",
    "        fig,ax = plt.subplots()\n",
    "        sns.boxplot"
   ]
  },
  {
   "cell_type": "code",
   "execution_count": 55,
   "id": "ece4f09f",
   "metadata": {},
   "outputs": [],
   "source": [
    "TT = TreeTester(data=data,target='DEATH_EVENT',)"
   ]
  },
  {
   "cell_type": "code",
   "execution_count": 56,
   "id": "afa60a61",
   "metadata": {},
   "outputs": [],
   "source": [
    "TT.evaluate()"
   ]
  },
  {
   "cell_type": "code",
   "execution_count": 59,
   "id": "dadb3bf1",
   "metadata": {},
   "outputs": [
    {
     "data": {
      "text/html": [
       "<div>\n",
       "<style scoped>\n",
       "    .dataframe tbody tr th:only-of-type {\n",
       "        vertical-align: middle;\n",
       "    }\n",
       "\n",
       "    .dataframe tbody tr th {\n",
       "        vertical-align: top;\n",
       "    }\n",
       "\n",
       "    .dataframe thead th {\n",
       "        text-align: right;\n",
       "    }\n",
       "</style>\n",
       "<table border=\"1\" class=\"dataframe\">\n",
       "  <thead>\n",
       "    <tr style=\"text-align: right;\">\n",
       "      <th></th>\n",
       "      <th>accuracy</th>\n",
       "      <th>recall</th>\n",
       "      <th>precision</th>\n",
       "      <th>F1_measure</th>\n",
       "    </tr>\n",
       "  </thead>\n",
       "  <tbody>\n",
       "    <tr>\n",
       "      <th>0</th>\n",
       "      <td>0.784314</td>\n",
       "      <td>0.815385</td>\n",
       "      <td>0.841270</td>\n",
       "      <td>0.828125</td>\n",
       "    </tr>\n",
       "    <tr>\n",
       "      <th>1</th>\n",
       "      <td>0.784314</td>\n",
       "      <td>0.833333</td>\n",
       "      <td>0.878378</td>\n",
       "      <td>0.855263</td>\n",
       "    </tr>\n",
       "    <tr>\n",
       "      <th>2</th>\n",
       "      <td>0.735294</td>\n",
       "      <td>0.786667</td>\n",
       "      <td>0.842857</td>\n",
       "      <td>0.813793</td>\n",
       "    </tr>\n",
       "    <tr>\n",
       "      <th>3</th>\n",
       "      <td>0.764706</td>\n",
       "      <td>0.848485</td>\n",
       "      <td>0.800000</td>\n",
       "      <td>0.823529</td>\n",
       "    </tr>\n",
       "    <tr>\n",
       "      <th>4</th>\n",
       "      <td>0.774510</td>\n",
       "      <td>0.800000</td>\n",
       "      <td>0.882353</td>\n",
       "      <td>0.839161</td>\n",
       "    </tr>\n",
       "    <tr>\n",
       "      <th>...</th>\n",
       "      <td>...</td>\n",
       "      <td>...</td>\n",
       "      <td>...</td>\n",
       "      <td>...</td>\n",
       "    </tr>\n",
       "    <tr>\n",
       "      <th>95</th>\n",
       "      <td>0.754902</td>\n",
       "      <td>0.797101</td>\n",
       "      <td>0.833333</td>\n",
       "      <td>0.814815</td>\n",
       "    </tr>\n",
       "    <tr>\n",
       "      <th>96</th>\n",
       "      <td>0.745098</td>\n",
       "      <td>0.818182</td>\n",
       "      <td>0.794118</td>\n",
       "      <td>0.805970</td>\n",
       "    </tr>\n",
       "    <tr>\n",
       "      <th>97</th>\n",
       "      <td>0.764706</td>\n",
       "      <td>0.828571</td>\n",
       "      <td>0.828571</td>\n",
       "      <td>0.828571</td>\n",
       "    </tr>\n",
       "    <tr>\n",
       "      <th>98</th>\n",
       "      <td>0.774510</td>\n",
       "      <td>0.855072</td>\n",
       "      <td>0.819444</td>\n",
       "      <td>0.836879</td>\n",
       "    </tr>\n",
       "    <tr>\n",
       "      <th>99</th>\n",
       "      <td>0.774510</td>\n",
       "      <td>0.823529</td>\n",
       "      <td>0.835821</td>\n",
       "      <td>0.829630</td>\n",
       "    </tr>\n",
       "  </tbody>\n",
       "</table>\n",
       "<p>100 rows × 4 columns</p>\n",
       "</div>"
      ],
      "text/plain": [
       "    accuracy    recall  precision  F1_measure\n",
       "0   0.784314  0.815385   0.841270    0.828125\n",
       "1   0.784314  0.833333   0.878378    0.855263\n",
       "2   0.735294  0.786667   0.842857    0.813793\n",
       "3   0.764706  0.848485   0.800000    0.823529\n",
       "4   0.774510  0.800000   0.882353    0.839161\n",
       "..       ...       ...        ...         ...\n",
       "95  0.754902  0.797101   0.833333    0.814815\n",
       "96  0.745098  0.818182   0.794118    0.805970\n",
       "97  0.764706  0.828571   0.828571    0.828571\n",
       "98  0.774510  0.855072   0.819444    0.836879\n",
       "99  0.774510  0.823529   0.835821    0.829630\n",
       "\n",
       "[100 rows x 4 columns]"
      ]
     },
     "execution_count": 59,
     "metadata": {},
     "output_type": "execute_result"
    }
   ],
   "source": [
    "pd.DataFrame.from_dict(TT.evaluators)"
   ]
  },
  {
   "cell_type": "code",
   "execution_count": 61,
   "id": "c9419bf0",
   "metadata": {},
   "outputs": [
    {
     "ename": "NameError",
     "evalue": "name 'sns' is not defined",
     "output_type": "error",
     "traceback": [
      "\u001b[0;31m---------------------------------------------------------------------------\u001b[0m",
      "\u001b[0;31mNameError\u001b[0m                                 Traceback (most recent call last)",
      "\u001b[0;32m<ipython-input-61-bfc11495c5e8>\u001b[0m in \u001b[0;36m<module>\u001b[0;34m\u001b[0m\n\u001b[0;32m----> 1\u001b[0;31m \u001b[0msns\u001b[0m\u001b[0;34m.\u001b[0m\u001b[0mboxplot\u001b[0m\u001b[0;34m(\u001b[0m\u001b[0mx\u001b[0m\u001b[0;34m=\u001b[0m\u001b[0;34m\"variable\"\u001b[0m\u001b[0;34m,\u001b[0m \u001b[0my\u001b[0m\u001b[0;34m=\u001b[0m\u001b[0;34m\"value\"\u001b[0m\u001b[0;34m,\u001b[0m \u001b[0mdata\u001b[0m\u001b[0;34m=\u001b[0m\u001b[0mpd\u001b[0m\u001b[0;34m.\u001b[0m\u001b[0mmelt\u001b[0m\u001b[0;34m(\u001b[0m\u001b[0mpd\u001b[0m\u001b[0;34m.\u001b[0m\u001b[0mDataFrame\u001b[0m\u001b[0;34m.\u001b[0m\u001b[0mfrom_dict\u001b[0m\u001b[0;34m(\u001b[0m\u001b[0mTT\u001b[0m\u001b[0;34m.\u001b[0m\u001b[0mevaluators\u001b[0m\u001b[0;34m)\u001b[0m\u001b[0;34m)\u001b[0m\u001b[0;34m)\u001b[0m\u001b[0;34m\u001b[0m\u001b[0;34m\u001b[0m\u001b[0m\n\u001b[0m",
      "\u001b[0;31mNameError\u001b[0m: name 'sns' is not defined"
     ]
    }
   ],
   "source": [
    "sns.boxplot(x=\"variable\", y=\"value\", data=pd.melt(pd.DataFrame.from_dict(TT.evaluators)))"
   ]
  },
  {
   "cell_type": "code",
   "execution_count": null,
   "id": "e39e9513",
   "metadata": {},
   "outputs": [],
   "source": []
  },
  {
   "cell_type": "code",
   "execution_count": null,
   "id": "6fc078b1",
   "metadata": {},
   "outputs": [],
   "source": []
  }
 ],
 "metadata": {
  "kernelspec": {
   "display_name": "Python 3",
   "language": "python",
   "name": "python3"
  },
  "language_info": {
   "codemirror_mode": {
    "name": "ipython",
    "version": 3
   },
   "file_extension": ".py",
   "mimetype": "text/x-python",
   "name": "python",
   "nbconvert_exporter": "python",
   "pygments_lexer": "ipython3",
   "version": "3.8.8"
  }
 },
 "nbformat": 4,
 "nbformat_minor": 5
}
